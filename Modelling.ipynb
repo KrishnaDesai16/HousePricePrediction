{
 "cells": [
  {
   "cell_type": "code",
   "execution_count": 1,
   "metadata": {},
   "outputs": [
    {
     "name": "stderr",
     "output_type": "stream",
     "text": [
      "C:\\Users\\JESAL\\anaconda3\\lib\\site-packages\\ipykernel_launcher.py:4: FutureWarning: The pandas.datetime class is deprecated and will be removed from pandas in a future version. Import from datetime module instead.\n",
      "  after removing the cwd from sys.path.\n"
     ]
    },
    {
     "data": {
      "text/html": [
       "        <script type=\"text/javascript\">\n",
       "        window.PlotlyConfig = {MathJaxConfig: 'local'};\n",
       "        if (window.MathJax) {MathJax.Hub.Config({SVG: {font: \"STIX-Web\"}});}\n",
       "        if (typeof require !== 'undefined') {\n",
       "        require.undef(\"plotly\");\n",
       "        requirejs.config({\n",
       "            paths: {\n",
       "                'plotly': ['https://cdn.plot.ly/plotly-latest.min']\n",
       "            }\n",
       "        });\n",
       "        require(['plotly'], function(Plotly) {\n",
       "            window._Plotly = Plotly;\n",
       "        });\n",
       "        }\n",
       "        </script>\n",
       "        "
      ]
     },
     "metadata": {},
     "output_type": "display_data"
    },
    {
     "data": {
      "text/html": [
       "        <script type=\"text/javascript\">\n",
       "        window.PlotlyConfig = {MathJaxConfig: 'local'};\n",
       "        if (window.MathJax) {MathJax.Hub.Config({SVG: {font: \"STIX-Web\"}});}\n",
       "        if (typeof require !== 'undefined') {\n",
       "        require.undef(\"plotly\");\n",
       "        requirejs.config({\n",
       "            paths: {\n",
       "                'plotly': ['https://cdn.plot.ly/plotly-latest.min']\n",
       "            }\n",
       "        });\n",
       "        require(['plotly'], function(Plotly) {\n",
       "            window._Plotly = Plotly;\n",
       "        });\n",
       "        }\n",
       "        </script>\n",
       "        "
      ]
     },
     "metadata": {},
     "output_type": "display_data"
    }
   ],
   "source": [
    "import pandas as pd\n",
    "import numpy as np\n",
    "import datetime\n",
    "from pandas import datetime\n",
    "import matplotlib.pyplot as plt\n",
    "import seaborn as sb\n",
    "import plotly as py\n",
    "from plotly.offline import iplot\n",
    "import plotly.express as px \n",
    "import cufflinks as cf\n",
    "\n",
    "py.offline.init_notebook_mode(connected=True)\n",
    "cf.go_offline()\n"
   ]
  },
  {
   "cell_type": "code",
   "execution_count": 39,
   "metadata": {},
   "outputs": [],
   "source": [
    "from sklearn.metrics import accuracy_score,r2_score,classification_report\n",
    "from sklearn.preprocessing import StandardScaler,MinMaxScaler\n",
    "from sklearn.model_selection import train_test_split\n",
    "from sklearn.linear_model import LinearRegression\n",
    "from sklearn.linear_model import Lasso\n",
    "from sklearn.feature_selection import SelectFromModel\n"
   ]
  },
  {
   "cell_type": "code",
   "execution_count": 3,
   "metadata": {},
   "outputs": [
    {
     "data": {
      "text/html": [
       "<div>\n",
       "<style scoped>\n",
       "    .dataframe tbody tr th:only-of-type {\n",
       "        vertical-align: middle;\n",
       "    }\n",
       "\n",
       "    .dataframe tbody tr th {\n",
       "        vertical-align: top;\n",
       "    }\n",
       "\n",
       "    .dataframe thead th {\n",
       "        text-align: right;\n",
       "    }\n",
       "</style>\n",
       "<table border=\"1\" class=\"dataframe\">\n",
       "  <thead>\n",
       "    <tr style=\"text-align: right;\">\n",
       "      <th></th>\n",
       "      <th>MSSubClass</th>\n",
       "      <th>LotArea</th>\n",
       "      <th>LotShape</th>\n",
       "      <th>OverallQual</th>\n",
       "      <th>OverallCond</th>\n",
       "      <th>YearBuilt</th>\n",
       "      <th>YearRemodAdd</th>\n",
       "      <th>ExterQual</th>\n",
       "      <th>ExterCond</th>\n",
       "      <th>BsmtQual</th>\n",
       "      <th>...</th>\n",
       "      <th>SaleType_ConLI</th>\n",
       "      <th>SaleType_ConLw</th>\n",
       "      <th>SaleType_New</th>\n",
       "      <th>SaleType_Oth</th>\n",
       "      <th>SaleType_WD</th>\n",
       "      <th>SaleCondition_AdjLand</th>\n",
       "      <th>SaleCondition_Alloca</th>\n",
       "      <th>SaleCondition_Family</th>\n",
       "      <th>SaleCondition_Normal</th>\n",
       "      <th>SaleCondition_Partial</th>\n",
       "    </tr>\n",
       "  </thead>\n",
       "  <tbody>\n",
       "    <tr>\n",
       "      <th>0</th>\n",
       "      <td>60</td>\n",
       "      <td>9.041922</td>\n",
       "      <td>3</td>\n",
       "      <td>7</td>\n",
       "      <td>5</td>\n",
       "      <td>2003</td>\n",
       "      <td>2003</td>\n",
       "      <td>4</td>\n",
       "      <td>2</td>\n",
       "      <td>4</td>\n",
       "      <td>...</td>\n",
       "      <td>0</td>\n",
       "      <td>0</td>\n",
       "      <td>0</td>\n",
       "      <td>0</td>\n",
       "      <td>1</td>\n",
       "      <td>0</td>\n",
       "      <td>0</td>\n",
       "      <td>0</td>\n",
       "      <td>1</td>\n",
       "      <td>0</td>\n",
       "    </tr>\n",
       "    <tr>\n",
       "      <th>1</th>\n",
       "      <td>20</td>\n",
       "      <td>9.169518</td>\n",
       "      <td>3</td>\n",
       "      <td>6</td>\n",
       "      <td>8</td>\n",
       "      <td>1976</td>\n",
       "      <td>1976</td>\n",
       "      <td>2</td>\n",
       "      <td>2</td>\n",
       "      <td>4</td>\n",
       "      <td>...</td>\n",
       "      <td>0</td>\n",
       "      <td>0</td>\n",
       "      <td>0</td>\n",
       "      <td>0</td>\n",
       "      <td>1</td>\n",
       "      <td>0</td>\n",
       "      <td>0</td>\n",
       "      <td>0</td>\n",
       "      <td>1</td>\n",
       "      <td>0</td>\n",
       "    </tr>\n",
       "    <tr>\n",
       "      <th>2</th>\n",
       "      <td>60</td>\n",
       "      <td>9.328123</td>\n",
       "      <td>2</td>\n",
       "      <td>7</td>\n",
       "      <td>5</td>\n",
       "      <td>2001</td>\n",
       "      <td>2002</td>\n",
       "      <td>4</td>\n",
       "      <td>2</td>\n",
       "      <td>4</td>\n",
       "      <td>...</td>\n",
       "      <td>0</td>\n",
       "      <td>0</td>\n",
       "      <td>0</td>\n",
       "      <td>0</td>\n",
       "      <td>1</td>\n",
       "      <td>0</td>\n",
       "      <td>0</td>\n",
       "      <td>0</td>\n",
       "      <td>1</td>\n",
       "      <td>0</td>\n",
       "    </tr>\n",
       "    <tr>\n",
       "      <th>3</th>\n",
       "      <td>60</td>\n",
       "      <td>9.565214</td>\n",
       "      <td>2</td>\n",
       "      <td>8</td>\n",
       "      <td>5</td>\n",
       "      <td>2000</td>\n",
       "      <td>2000</td>\n",
       "      <td>4</td>\n",
       "      <td>2</td>\n",
       "      <td>4</td>\n",
       "      <td>...</td>\n",
       "      <td>0</td>\n",
       "      <td>0</td>\n",
       "      <td>0</td>\n",
       "      <td>0</td>\n",
       "      <td>1</td>\n",
       "      <td>0</td>\n",
       "      <td>0</td>\n",
       "      <td>0</td>\n",
       "      <td>1</td>\n",
       "      <td>0</td>\n",
       "    </tr>\n",
       "    <tr>\n",
       "      <th>4</th>\n",
       "      <td>50</td>\n",
       "      <td>9.554993</td>\n",
       "      <td>2</td>\n",
       "      <td>5</td>\n",
       "      <td>5</td>\n",
       "      <td>1993</td>\n",
       "      <td>1995</td>\n",
       "      <td>2</td>\n",
       "      <td>2</td>\n",
       "      <td>4</td>\n",
       "      <td>...</td>\n",
       "      <td>0</td>\n",
       "      <td>0</td>\n",
       "      <td>0</td>\n",
       "      <td>0</td>\n",
       "      <td>1</td>\n",
       "      <td>0</td>\n",
       "      <td>0</td>\n",
       "      <td>0</td>\n",
       "      <td>1</td>\n",
       "      <td>0</td>\n",
       "    </tr>\n",
       "  </tbody>\n",
       "</table>\n",
       "<p>5 rows × 175 columns</p>\n",
       "</div>"
      ],
      "text/plain": [
       "   MSSubClass   LotArea  LotShape  OverallQual  OverallCond  YearBuilt  \\\n",
       "0          60  9.041922         3            7            5       2003   \n",
       "1          20  9.169518         3            6            8       1976   \n",
       "2          60  9.328123         2            7            5       2001   \n",
       "3          60  9.565214         2            8            5       2000   \n",
       "4          50  9.554993         2            5            5       1993   \n",
       "\n",
       "   YearRemodAdd  ExterQual  ExterCond  BsmtQual  ...  SaleType_ConLI  \\\n",
       "0          2003          4          2         4  ...               0   \n",
       "1          1976          2          2         4  ...               0   \n",
       "2          2002          4          2         4  ...               0   \n",
       "3          2000          4          2         4  ...               0   \n",
       "4          1995          2          2         4  ...               0   \n",
       "\n",
       "   SaleType_ConLw  SaleType_New  SaleType_Oth  SaleType_WD  \\\n",
       "0               0             0             0            1   \n",
       "1               0             0             0            1   \n",
       "2               0             0             0            1   \n",
       "3               0             0             0            1   \n",
       "4               0             0             0            1   \n",
       "\n",
       "   SaleCondition_AdjLand  SaleCondition_Alloca  SaleCondition_Family  \\\n",
       "0                      0                     0                     0   \n",
       "1                      0                     0                     0   \n",
       "2                      0                     0                     0   \n",
       "3                      0                     0                     0   \n",
       "4                      0                     0                     0   \n",
       "\n",
       "   SaleCondition_Normal  SaleCondition_Partial  \n",
       "0                     1                      0  \n",
       "1                     1                      0  \n",
       "2                     1                      0  \n",
       "3                     1                      0  \n",
       "4                     1                      0  \n",
       "\n",
       "[5 rows x 175 columns]"
      ]
     },
     "execution_count": 3,
     "metadata": {},
     "output_type": "execute_result"
    }
   ],
   "source": [
    "df=pd.read_csv('FinalDF.csv')\n",
    "df.head()"
   ]
  },
  {
   "cell_type": "code",
   "execution_count": 4,
   "metadata": {},
   "outputs": [],
   "source": [
    "X=df.drop('SalePrice',axis=1)\n",
    "y=df[['SalePrice']]"
   ]
  },
  {
   "cell_type": "code",
   "execution_count": 5,
   "metadata": {},
   "outputs": [
    {
     "data": {
      "text/plain": [
       "(1169, 174)"
      ]
     },
     "execution_count": 5,
     "metadata": {},
     "output_type": "execute_result"
    }
   ],
   "source": [
    "X.shape"
   ]
  },
  {
   "cell_type": "code",
   "execution_count": 6,
   "metadata": {},
   "outputs": [
    {
     "data": {
      "text/html": [
       "<div>\n",
       "<style scoped>\n",
       "    .dataframe tbody tr th:only-of-type {\n",
       "        vertical-align: middle;\n",
       "    }\n",
       "\n",
       "    .dataframe tbody tr th {\n",
       "        vertical-align: top;\n",
       "    }\n",
       "\n",
       "    .dataframe thead th {\n",
       "        text-align: right;\n",
       "    }\n",
       "</style>\n",
       "<table border=\"1\" class=\"dataframe\">\n",
       "  <thead>\n",
       "    <tr style=\"text-align: right;\">\n",
       "      <th></th>\n",
       "      <th>SalePrice</th>\n",
       "    </tr>\n",
       "  </thead>\n",
       "  <tbody>\n",
       "    <tr>\n",
       "      <th>0</th>\n",
       "      <td>208500</td>\n",
       "    </tr>\n",
       "    <tr>\n",
       "      <th>1</th>\n",
       "      <td>181500</td>\n",
       "    </tr>\n",
       "    <tr>\n",
       "      <th>2</th>\n",
       "      <td>223500</td>\n",
       "    </tr>\n",
       "    <tr>\n",
       "      <th>3</th>\n",
       "      <td>250000</td>\n",
       "    </tr>\n",
       "    <tr>\n",
       "      <th>4</th>\n",
       "      <td>143000</td>\n",
       "    </tr>\n",
       "    <tr>\n",
       "      <th>...</th>\n",
       "      <td>...</td>\n",
       "    </tr>\n",
       "    <tr>\n",
       "      <th>1164</th>\n",
       "      <td>84500</td>\n",
       "    </tr>\n",
       "    <tr>\n",
       "      <th>1165</th>\n",
       "      <td>185000</td>\n",
       "    </tr>\n",
       "    <tr>\n",
       "      <th>1166</th>\n",
       "      <td>175000</td>\n",
       "    </tr>\n",
       "    <tr>\n",
       "      <th>1167</th>\n",
       "      <td>210000</td>\n",
       "    </tr>\n",
       "    <tr>\n",
       "      <th>1168</th>\n",
       "      <td>266500</td>\n",
       "    </tr>\n",
       "  </tbody>\n",
       "</table>\n",
       "<p>1169 rows × 1 columns</p>\n",
       "</div>"
      ],
      "text/plain": [
       "      SalePrice\n",
       "0        208500\n",
       "1        181500\n",
       "2        223500\n",
       "3        250000\n",
       "4        143000\n",
       "...         ...\n",
       "1164      84500\n",
       "1165     185000\n",
       "1166     175000\n",
       "1167     210000\n",
       "1168     266500\n",
       "\n",
       "[1169 rows x 1 columns]"
      ]
     },
     "execution_count": 6,
     "metadata": {},
     "output_type": "execute_result"
    }
   ],
   "source": [
    "y"
   ]
  },
  {
   "cell_type": "markdown",
   "metadata": {},
   "source": [
    "## Feature Importence & Selection"
   ]
  },
  {
   "cell_type": "code",
   "execution_count": 7,
   "metadata": {},
   "outputs": [
    {
     "name": "stderr",
     "output_type": "stream",
     "text": [
      "C:\\Users\\JESAL\\anaconda3\\lib\\site-packages\\ipykernel_launcher.py:3: DataConversionWarning:\n",
      "\n",
      "A column-vector y was passed when a 1d array was expected. Please change the shape of y to (n_samples,), for example using ravel().\n",
      "\n"
     ]
    },
    {
     "data": {
      "text/plain": [
       "ExtraTreesRegressor(bootstrap=False, ccp_alpha=0.0, criterion='mse',\n",
       "                    max_depth=None, max_features='auto', max_leaf_nodes=None,\n",
       "                    max_samples=None, min_impurity_decrease=0.0,\n",
       "                    min_impurity_split=None, min_samples_leaf=1,\n",
       "                    min_samples_split=2, min_weight_fraction_leaf=0.0,\n",
       "                    n_estimators=100, n_jobs=None, oob_score=False,\n",
       "                    random_state=None, verbose=0, warm_start=False)"
      ]
     },
     "execution_count": 7,
     "metadata": {},
     "output_type": "execute_result"
    }
   ],
   "source": [
    "from sklearn.ensemble import ExtraTreesRegressor\n",
    "model=ExtraTreesRegressor()\n",
    "model.fit(X,y)"
   ]
  },
  {
   "cell_type": "code",
   "execution_count": 8,
   "metadata": {},
   "outputs": [
    {
     "data": {
      "text/plain": [
       "array([2.27384500e-03, 3.99310111e-03, 1.93347839e-03, 2.09340659e-01,\n",
       "       4.06811269e-03, 1.95139520e-02, 4.48012604e-03, 1.88769424e-01,\n",
       "       1.28097130e-03, 2.10207815e-02, 9.69002719e-04, 2.45733815e-03,\n",
       "       4.70247556e-03, 1.68541624e-02, 3.03030450e-04, 2.28901586e-04,\n",
       "       4.66994237e-03, 1.21588370e-03, 1.05556427e-02, 1.28901950e-04,\n",
       "       3.98034517e-02, 1.12543122e-03, 4.55386146e-03, 1.01213064e-03,\n",
       "       5.67633091e-02, 3.63104392e-03, 1.24551886e-02, 8.98670296e-04,\n",
       "       3.30185161e-02, 7.63789370e-03, 2.36706579e-04, 2.57593091e-04,\n",
       "       2.54283088e-03, 2.74722245e-03, 1.52694057e-03, 1.84143526e-03,\n",
       "       7.11651903e-04, 4.51569853e-05, 9.70921763e-05, 3.01251973e-03,\n",
       "       2.22794924e-03, 2.38806289e-03, 2.70425905e-03, 2.62625624e-03,\n",
       "       1.37616256e-02, 3.77596146e-02, 1.73207821e-01, 3.96893073e-04,\n",
       "       5.92904604e-05, 1.74189076e-03, 2.00156135e-03, 2.48349294e-03,\n",
       "       1.42606360e-04, 1.26269565e-03, 4.89875094e-04, 3.38261702e-04,\n",
       "       2.27793965e-05, 1.64280156e-03, 1.45790851e-03, 4.15297701e-05,\n",
       "       3.33525039e-04, 2.44467230e-04, 1.59241636e-03, 4.10569069e-03,\n",
       "       9.96036854e-04, 5.66704771e-04, 2.18174093e-04, 2.66360216e-05,\n",
       "       1.64478950e-04, 6.92668950e-04, 1.03257830e-05, 3.72007555e-04,\n",
       "       5.68435852e-04, 1.94848558e-03, 1.12297209e-03, 2.09153382e-04,\n",
       "       2.52795631e-04, 3.10917633e-04, 1.58550655e-03, 1.24451196e-03,\n",
       "       3.95884513e-04, 4.79375819e-05, 2.44875743e-04, 7.17150992e-04,\n",
       "       2.71489411e-04, 8.63228060e-05, 2.31316529e-04, 6.82795874e-05,\n",
       "       1.99330795e-05, 2.55167118e-05, 9.39753339e-05, 9.49900758e-05,\n",
       "       7.68971673e-05, 8.52803134e-04, 3.39983519e-05, 1.15294995e-03,\n",
       "       6.56547986e-05, 5.47945181e-05, 4.16780360e-03, 4.24382834e-05,\n",
       "       4.87102500e-04, 9.96615499e-04, 2.69910508e-04, 1.46820501e-03,\n",
       "       4.32936219e-05, 1.64075478e-06, 4.63128677e-06, 1.00070935e-04,\n",
       "       1.70458388e-03, 1.62441055e-06, 3.58318157e-04, 5.77067437e-04,\n",
       "       2.43239351e-06, 7.39658859e-04, 4.93553038e-04, 3.27600257e-06,\n",
       "       2.97735170e-04, 1.14241519e-03, 6.30996834e-04, 1.54840207e-04,\n",
       "       1.29779362e-05, 1.78380856e-04, 1.70020585e-04, 6.58095036e-06,\n",
       "       3.51893715e-04, 5.36726190e-04, 2.68741132e-06, 1.00129127e-03,\n",
       "       6.49179128e-06, 8.22724287e-04, 9.16315841e-06, 3.13257872e-04,\n",
       "       1.38189598e-03, 8.08462333e-04, 2.14270839e-04, 9.34046896e-04,\n",
       "       2.84243413e-03, 2.04995772e-03, 9.56693549e-04, 1.32301319e-03,\n",
       "       1.22487359e-04, 4.50237551e-06, 4.47937330e-06, 1.15275382e-04,\n",
       "       5.94896887e-06, 3.40883887e-05, 4.33275078e-04, 4.66194353e-04,\n",
       "       1.28523418e-04, 3.80765148e-04, 2.24856945e-04, 9.06039266e-04,\n",
       "       1.85422415e-03, 8.67031298e-05, 4.60546093e-04, 7.03248527e-05,\n",
       "       2.49581696e-03, 2.56833706e-03, 1.02215189e-02, 2.66034044e-04,\n",
       "       8.99641519e-04, 1.65439206e-04, 5.96395686e-05, 3.56067501e-05,\n",
       "       3.81510353e-05, 2.87795648e-05, 2.36180723e-03, 3.47349544e-05,\n",
       "       1.08273820e-03, 9.89860707e-06, 3.51456979e-04, 1.16194272e-03,\n",
       "       2.24698233e-03, 2.52582035e-03])"
      ]
     },
     "execution_count": 8,
     "metadata": {},
     "output_type": "execute_result"
    }
   ],
   "source": [
    "model.feature_importances_"
   ]
  },
  {
   "cell_type": "code",
   "execution_count": 9,
   "metadata": {},
   "outputs": [
    {
     "data": {
      "text/plain": [
       "<matplotlib.axes._subplots.AxesSubplot at 0x26724168108>"
      ]
     },
     "execution_count": 9,
     "metadata": {},
     "output_type": "execute_result"
    },
    {
     "data": {
      "image/png": "[encoded data removed]",
      "text/plain": [
       "<Figure size 432x720 with 1 Axes>"
      ]
     },
     "metadata": {
      "needs_background": "light"
     },
     "output_type": "display_data"
    }
   ],
   "source": [
    "plt.figure(figsize=(6,10))\n",
    "feature_importance=pd.Series(data=model.feature_importances_,index=X.columns)\n",
    "feature_importance.nlargest(40).plot(kind='barh')"
   ]
  },
  {
   "cell_type": "code",
   "execution_count": 10,
   "metadata": {},
   "outputs": [],
   "source": [
    "## use Lasso Regression to select the features "
   ]
  },
  {
   "cell_type": "code",
   "execution_count": 11,
   "metadata": {},
   "outputs": [
    {
     "name": "stderr",
     "output_type": "stream",
     "text": [
      "C:\\Users\\JESAL\\anaconda3\\lib\\site-packages\\sklearn\\linear_model\\_coordinate_descent.py:476: ConvergenceWarning:\n",
      "\n",
      "Objective did not converge. You might want to increase the number of iterations. Duality gap: 161862069180.39658, tolerance: 479511060.25518304\n",
      "\n"
     ]
    },
    {
     "data": {
      "text/plain": [
       "SelectFromModel(estimator=Lasso(alpha=0.05, copy_X=True, fit_intercept=True,\n",
       "                                max_iter=1000, normalize=False, positive=False,\n",
       "                                precompute=False, random_state=20,\n",
       "                                selection='cyclic', tol=0.0001,\n",
       "                                warm_start=False),\n",
       "                max_features=None, norm_order=1, prefit=False, threshold=None)"
      ]
     },
     "execution_count": 11,
     "metadata": {},
     "output_type": "execute_result"
    }
   ],
   "source": [
    "feature_Sel_model=SelectFromModel(Lasso(alpha=0.05,random_state=20))\n",
    "feature_Sel_model.fit(X,y)\n"
   ]
  },
  {
   "cell_type": "code",
   "execution_count": 12,
   "metadata": {},
   "outputs": [
    {
     "data": {
      "text/plain": [
       "array([ True,  True,  True,  True,  True,  True,  True,  True,  True,\n",
       "        True,  True,  True,  True,  True,  True,  True,  True,  True,\n",
       "        True,  True,  True,  True,  True,  True,  True,  True,  True,\n",
       "        True,  True,  True,  True,  True,  True,  True,  True,  True,\n",
       "        True,  True,  True,  True,  True,  True,  True,  True,  True,\n",
       "        True,  True,  True,  True,  True,  True,  True,  True,  True,\n",
       "        True,  True,  True,  True,  True,  True,  True,  True,  True,\n",
       "        True,  True,  True,  True,  True,  True,  True,  True,  True,\n",
       "        True,  True,  True,  True,  True,  True,  True,  True,  True,\n",
       "        True,  True,  True,  True,  True,  True,  True,  True,  True,\n",
       "        True,  True,  True,  True,  True,  True,  True,  True,  True,\n",
       "        True,  True,  True,  True,  True,  True,  True,  True, False,\n",
       "        True,  True,  True,  True,  True,  True,  True,  True,  True,\n",
       "        True,  True,  True,  True,  True,  True,  True,  True,  True,\n",
       "        True,  True,  True,  True,  True,  True,  True,  True,  True,\n",
       "        True,  True,  True,  True,  True,  True,  True,  True,  True,\n",
       "        True,  True,  True,  True,  True,  True,  True,  True,  True,\n",
       "        True,  True,  True,  True,  True,  True,  True,  True,  True,\n",
       "        True,  True,  True,  True,  True,  True,  True,  True,  True,\n",
       "        True,  True,  True])"
      ]
     },
     "execution_count": 12,
     "metadata": {},
     "output_type": "execute_result"
    }
   ],
   "source": [
    "feature_Sel_model.get_support()"
   ]
  },
  {
   "cell_type": "code",
   "execution_count": 13,
   "metadata": {},
   "outputs": [
    {
     "data": {
      "text/plain": [
       "9663655211"
      ]
     },
     "execution_count": 13,
     "metadata": {},
     "output_type": "execute_result"
    }
   ],
   "source": [
    "9663655211"
   ]
  },
  {
   "cell_type": "code",
   "execution_count": 14,
   "metadata": {},
   "outputs": [
    {
     "name": "stdout",
     "output_type": "stream",
     "text": [
      "total features:174\n",
      "selected feature:173 \n",
      "feature with coeeficient sharnk to zero:1\n"
     ]
    }
   ],
   "source": [
    "selected_feature=X.columns[(feature_Sel_model.get_support())]\n",
    "print('total features:{}'.format((X.shape[1])))\n",
    "print('selected feature:{} '.format(len(selected_feature)))\n",
    "print('feature with coeeficient sharnk to zero:{}'.format(np.sum(feature_Sel_model.estimator_.coef_==0))) #skipped features"
   ]
  },
  {
   "cell_type": "code",
   "execution_count": 15,
   "metadata": {},
   "outputs": [],
   "source": [
    "#Split data into train and test set"
   ]
  },
  {
   "cell_type": "code",
   "execution_count": 16,
   "metadata": {},
   "outputs": [],
   "source": [
    "X_train,X_test,y_train,y_test=train_test_split(X,y,test_size=0.3,random_state=10)"
   ]
  },
  {
   "cell_type": "markdown",
   "metadata": {},
   "source": [
    "# Modelling\n",
    "- LinearRegression\n",
    "- xgbboostRegressor"
   ]
  },
  {
   "cell_type": "markdown",
   "metadata": {},
   "source": [
    "##  Linear Regression"
   ]
  },
  {
   "cell_type": "code",
   "execution_count": 17,
   "metadata": {},
   "outputs": [],
   "source": [
    "model=LinearRegression()\n",
    "model.fit(X_train,y_train)\n",
    "y_pred=model.predict(X_test)"
   ]
  },
  {
   "cell_type": "code",
   "execution_count": 18,
   "metadata": {},
   "outputs": [
    {
     "data": {
      "text/plain": [
       "array([[150111.80844635],\n",
       "       [263573.98569127],\n",
       "       [187633.51830334],\n",
       "       [173680.8462803 ],\n",
       "       [171244.40102515],\n",
       "       [150446.32896697],\n",
       "       [163452.24752227],\n",
       "       [175672.46875834],\n",
       "       [148440.68730685],\n",
       "       [150183.56468541],\n",
       "       [185327.7607771 ],\n",
       "       [116441.17524578],\n",
       "       [ 47378.00820161],\n",
       "       [203266.561896  ],\n",
       "       [282321.79550888],\n",
       "       [220668.72156603],\n",
       "       [118596.76970142],\n",
       "       [106958.89059077],\n",
       "       [ 75356.73786522],\n",
       "       [158357.77190061],\n",
       "       [112927.81988375],\n",
       "       [138098.06722594],\n",
       "       [278008.96070444],\n",
       "       [167237.64929546],\n",
       "       [140101.88750647],\n",
       "       [308195.35540126],\n",
       "       [105057.21488633],\n",
       "       [112274.361208  ],\n",
       "       [114461.02846341],\n",
       "       [191231.76762202],\n",
       "       [135969.15858706],\n",
       "       [154134.40542747],\n",
       "       [159592.93282744],\n",
       "       [164167.7228416 ],\n",
       "       [113410.21140392],\n",
       "       [128612.47911494],\n",
       "       [ 92133.96281784],\n",
       "       [252945.45075689],\n",
       "       [216762.81533402],\n",
       "       [102424.21748616],\n",
       "       [147216.45186054],\n",
       "       [189846.7280283 ],\n",
       "       [229938.38299817],\n",
       "       [331653.37370365],\n",
       "       [122265.90281327],\n",
       "       [258541.66586668],\n",
       "       [283592.782101  ],\n",
       "       [262070.80729479],\n",
       "       [112078.80925345],\n",
       "       [263376.46659427],\n",
       "       [104164.71648055],\n",
       "       [127502.77704462],\n",
       "       [283934.22940737],\n",
       "       [ 80455.93800009],\n",
       "       [199956.33796004],\n",
       "       [189182.68839158],\n",
       "       [ 95465.31147969],\n",
       "       [136229.03852481],\n",
       "       [227407.19580807],\n",
       "       [137171.58477289],\n",
       "       [164079.16693796],\n",
       "       [154345.65873845],\n",
       "       [ 74409.62560135],\n",
       "       [172076.67012785],\n",
       "       [244209.83208459],\n",
       "       [129550.22099952],\n",
       "       [344539.57387171],\n",
       "       [138850.7255448 ],\n",
       "       [220245.9836995 ],\n",
       "       [210489.7222125 ],\n",
       "       [201051.19121541],\n",
       "       [140551.22242569],\n",
       "       [193517.94279296],\n",
       "       [124006.07352571],\n",
       "       [285690.69810158],\n",
       "       [337004.13344913],\n",
       "       [332795.51944878],\n",
       "       [ 89340.74172506],\n",
       "       [214433.54202638],\n",
       "       [104129.20281546],\n",
       "       [118405.83683788],\n",
       "       [197769.64035091],\n",
       "       [178521.88506029],\n",
       "       [128850.93377647],\n",
       "       [162524.76229388],\n",
       "       [152332.1756579 ],\n",
       "       [134522.09337944],\n",
       "       [231579.76058379],\n",
       "       [173079.36590223],\n",
       "       [140284.64322343],\n",
       "       [111841.89076779],\n",
       "       [ 88162.81075698],\n",
       "       [181188.52031933],\n",
       "       [106790.09508091],\n",
       "       [116875.10495887],\n",
       "       [ 51314.72467806],\n",
       "       [263401.34003201],\n",
       "       [100882.86169383],\n",
       "       [110078.97197797],\n",
       "       [169761.64282584],\n",
       "       [275940.01049869],\n",
       "       [130882.89814518],\n",
       "       [186800.53117068],\n",
       "       [180164.80696013],\n",
       "       [215443.21620934],\n",
       "       [ 66096.78490735],\n",
       "       [181385.67139574],\n",
       "       [107305.74548661],\n",
       "       [152951.28819352],\n",
       "       [105593.73872404],\n",
       "       [184125.80567529],\n",
       "       [204918.33069148],\n",
       "       [156664.53916644],\n",
       "       [207475.61067282],\n",
       "       [201805.39638052],\n",
       "       [180019.46862697],\n",
       "       [307577.68689672],\n",
       "       [125579.77386149],\n",
       "       [300609.26918159],\n",
       "       [163844.24679802],\n",
       "       [141231.43930433],\n",
       "       [171871.17124684],\n",
       "       [168983.59046536],\n",
       "       [115396.10160028],\n",
       "       [175388.10858032],\n",
       "       [174383.77056026],\n",
       "       [319613.03493082],\n",
       "       [157888.44289643],\n",
       "       [110905.41462964],\n",
       "       [221743.63508475],\n",
       "       [226171.01749488],\n",
       "       [206418.155085  ],\n",
       "       [314892.59332951],\n",
       "       [ 86496.27888855],\n",
       "       [167845.18249791],\n",
       "       [100110.99126036],\n",
       "       [150448.66441684],\n",
       "       [124609.04450298],\n",
       "       [159537.32313319],\n",
       "       [141207.55771624],\n",
       "       [175117.08762363],\n",
       "       [131682.09239786],\n",
       "       [301418.42811038],\n",
       "       [228567.88104844],\n",
       "       [ 89807.58570842],\n",
       "       [188802.77055764],\n",
       "       [259722.63243202],\n",
       "       [126956.77619459],\n",
       "       [240961.05472666],\n",
       "       [136495.51103727],\n",
       "       [233917.56561943],\n",
       "       [257386.49973303],\n",
       "       [234194.48166877],\n",
       "       [144868.02424159],\n",
       "       [165186.45035328],\n",
       "       [143553.44180264],\n",
       "       [130674.34823117],\n",
       "       [218652.3343026 ],\n",
       "       [101597.69787016],\n",
       "       [132853.52128302],\n",
       "       [101774.57361712],\n",
       "       [126554.24746115],\n",
       "       [105677.3840576 ],\n",
       "       [125454.05994774],\n",
       "       [155998.14180809],\n",
       "       [173325.58440689],\n",
       "       [163998.74542279],\n",
       "       [231039.58989886],\n",
       "       [136402.73150916],\n",
       "       [126470.99404432],\n",
       "       [359182.34407135],\n",
       "       [158556.40064022],\n",
       "       [110152.21261236],\n",
       "       [139006.34552113],\n",
       "       [223906.38231884],\n",
       "       [ 82717.36479768],\n",
       "       [135324.18305659],\n",
       "       [247502.16671732],\n",
       "       [ 94096.77649895],\n",
       "       [117742.39978831],\n",
       "       [283738.49850438],\n",
       "       [157023.17949293],\n",
       "       [221254.30898247],\n",
       "       [286929.89497676],\n",
       "       [102282.36284479],\n",
       "       [229645.11607499],\n",
       "       [221954.67511009],\n",
       "       [153004.75032223],\n",
       "       [139470.55998324],\n",
       "       [105637.82550875],\n",
       "       [118519.49085246],\n",
       "       [203943.50432289],\n",
       "       [194236.36121983],\n",
       "       [115652.97611248],\n",
       "       [226219.30521776],\n",
       "       [140024.53653941],\n",
       "       [240581.54303392],\n",
       "       [137554.35704868],\n",
       "       [228051.69711674],\n",
       "       [140302.06384298],\n",
       "       [211178.23557074],\n",
       "       [123208.39822817],\n",
       "       [202478.88859833],\n",
       "       [216468.50708855],\n",
       "       [124413.87361143],\n",
       "       [164645.76988755],\n",
       "       [311466.01035781],\n",
       "       [157501.37550693],\n",
       "       [102030.07837046],\n",
       "       [233285.33056224],\n",
       "       [ 82655.94822652],\n",
       "       [ 56938.97570884],\n",
       "       [207078.89069732],\n",
       "       [302751.52442394],\n",
       "       [129700.40296573],\n",
       "       [178264.28636891],\n",
       "       [319561.44032656],\n",
       "       [152495.33074734],\n",
       "       [ 55011.66704515],\n",
       "       [224904.9231992 ],\n",
       "       [154944.42578491],\n",
       "       [ 97159.57776644],\n",
       "       [225889.04417062],\n",
       "       [109497.73122045],\n",
       "       [174251.02836391],\n",
       "       [202690.2596431 ],\n",
       "       [191332.83989487],\n",
       "       [130285.83476305],\n",
       "       [159392.42398656],\n",
       "       [152664.70042801],\n",
       "       [179979.30989621],\n",
       "       [203386.36200715],\n",
       "       [ 98055.69745392],\n",
       "       [132359.95881932],\n",
       "       [120142.02425953],\n",
       "       [208152.04668298],\n",
       "       [143781.98889155],\n",
       "       [128622.82752366],\n",
       "       [142200.86635171],\n",
       "       [109212.54971875],\n",
       "       [279245.49330561],\n",
       "       [208099.36238478],\n",
       "       [123102.60460575],\n",
       "       [263957.98444963],\n",
       "       [126655.89265177],\n",
       "       [280876.07575775],\n",
       "       [237131.71654825],\n",
       "       [125971.02720217],\n",
       "       [152957.68964071],\n",
       "       [337121.46837562],\n",
       "       [174014.19326668],\n",
       "       [162743.70758685],\n",
       "       [114390.5322254 ],\n",
       "       [255178.75574046],\n",
       "       [205121.90749992],\n",
       "       [345091.07562191],\n",
       "       [124843.4803506 ],\n",
       "       [ 71854.38249615],\n",
       "       [ 81750.41859135],\n",
       "       [100588.64689694],\n",
       "       [132939.66762721],\n",
       "       [164193.55848295],\n",
       "       [197819.76736234],\n",
       "       [130316.4853614 ],\n",
       "       [268737.93708396],\n",
       "       [103899.07779941],\n",
       "       [147419.48583046],\n",
       "       [173028.32815065],\n",
       "       [121145.60116525],\n",
       "       [141733.88408507],\n",
       "       [ 88517.52643911],\n",
       "       [221639.70620791],\n",
       "       [211712.10098599],\n",
       "       [131042.42231946],\n",
       "       [242908.03038776],\n",
       "       [195909.07971598],\n",
       "       [175629.79157098],\n",
       "       [139824.85254679],\n",
       "       [216975.67799773],\n",
       "       [128524.29120872],\n",
       "       [160025.0322909 ],\n",
       "       [242495.24389785],\n",
       "       [237367.9407211 ],\n",
       "       [110925.97880822],\n",
       "       [126939.46245256],\n",
       "       [178728.58038282],\n",
       "       [117005.32049885],\n",
       "       [159465.02235125],\n",
       "       [131042.02731275],\n",
       "       [189834.67813695],\n",
       "       [336760.5315582 ],\n",
       "       [165839.65447039],\n",
       "       [ 96328.08853758],\n",
       "       [132824.8475166 ],\n",
       "       [144597.38871608],\n",
       "       [141422.43413775],\n",
       "       [338196.1923977 ],\n",
       "       [111433.58162779],\n",
       "       [169027.49353867],\n",
       "       [122536.80745931],\n",
       "       [119246.94614441],\n",
       "       [239694.01985759],\n",
       "       [210852.47366699],\n",
       "       [236851.1141976 ],\n",
       "       [217136.73999663],\n",
       "       [116946.67040248],\n",
       "       [121944.15684661],\n",
       "       [ 69191.97966362],\n",
       "       [195084.0612845 ],\n",
       "       [115556.07649026],\n",
       "       [159482.66858821],\n",
       "       [250603.8559801 ],\n",
       "       [204418.12073996],\n",
       "       [204867.24643624],\n",
       "       [142614.22804737],\n",
       "       [107409.72375301],\n",
       "       [175776.95954549],\n",
       "       [199450.51268728],\n",
       "       [254689.07934956],\n",
       "       [214125.99894849],\n",
       "       [230453.74901571],\n",
       "       [124967.56797012],\n",
       "       [160982.15483388],\n",
       "       [138708.87381211],\n",
       "       [132129.07400913],\n",
       "       [202605.72054818],\n",
       "       [225311.00780275],\n",
       "       [190579.33819814],\n",
       "       [136740.19486806],\n",
       "       [ 97416.00521068],\n",
       "       [199799.00135756],\n",
       "       [210994.83785013],\n",
       "       [108901.10650178],\n",
       "       [289055.14995692],\n",
       "       [233564.56976045],\n",
       "       [246265.79814481],\n",
       "       [119308.07690767],\n",
       "       [114172.02031491],\n",
       "       [120970.97663842],\n",
       "       [306293.22371184],\n",
       "       [214397.49284365],\n",
       "       [248382.84094666],\n",
       "       [166167.55128426],\n",
       "       [179341.03808687],\n",
       "       [109706.68266725],\n",
       "       [169833.25938649],\n",
       "       [110359.99505752],\n",
       "       [275297.43412615],\n",
       "       [141908.9246491 ],\n",
       "       [133891.18450618],\n",
       "       [248723.45777037]])"
      ]
     },
     "execution_count": 18,
     "metadata": {},
     "output_type": "execute_result"
    }
   ],
   "source": [
    "y_pred"
   ]
  },
  {
   "cell_type": "code",
   "execution_count": 19,
   "metadata": {},
   "outputs": [
    {
     "data": {
      "text/html": [
       "<div>\n",
       "<style scoped>\n",
       "    .dataframe tbody tr th:only-of-type {\n",
       "        vertical-align: middle;\n",
       "    }\n",
       "\n",
       "    .dataframe tbody tr th {\n",
       "        vertical-align: top;\n",
       "    }\n",
       "\n",
       "    .dataframe thead th {\n",
       "        text-align: right;\n",
       "    }\n",
       "</style>\n",
       "<table border=\"1\" class=\"dataframe\">\n",
       "  <thead>\n",
       "    <tr style=\"text-align: right;\">\n",
       "      <th></th>\n",
       "      <th>SalePrice</th>\n",
       "    </tr>\n",
       "  </thead>\n",
       "  <tbody>\n",
       "    <tr>\n",
       "      <th>663</th>\n",
       "      <td>167000</td>\n",
       "    </tr>\n",
       "    <tr>\n",
       "      <th>69</th>\n",
       "      <td>260000</td>\n",
       "    </tr>\n",
       "    <tr>\n",
       "      <th>43</th>\n",
       "      <td>177000</td>\n",
       "    </tr>\n",
       "    <tr>\n",
       "      <th>838</th>\n",
       "      <td>165000</td>\n",
       "    </tr>\n",
       "    <tr>\n",
       "      <th>366</th>\n",
       "      <td>175500</td>\n",
       "    </tr>\n",
       "    <tr>\n",
       "      <th>...</th>\n",
       "      <td>...</td>\n",
       "    </tr>\n",
       "    <tr>\n",
       "      <th>298</th>\n",
       "      <td>125000</td>\n",
       "    </tr>\n",
       "    <tr>\n",
       "      <th>195</th>\n",
       "      <td>318000</td>\n",
       "    </tr>\n",
       "    <tr>\n",
       "      <th>425</th>\n",
       "      <td>107500</td>\n",
       "    </tr>\n",
       "    <tr>\n",
       "      <th>695</th>\n",
       "      <td>116000</td>\n",
       "    </tr>\n",
       "    <tr>\n",
       "      <th>171</th>\n",
       "      <td>277000</td>\n",
       "    </tr>\n",
       "  </tbody>\n",
       "</table>\n",
       "<p>351 rows × 1 columns</p>\n",
       "</div>"
      ],
      "text/plain": [
       "     SalePrice\n",
       "663     167000\n",
       "69      260000\n",
       "43      177000\n",
       "838     165000\n",
       "366     175500\n",
       "..         ...\n",
       "298     125000\n",
       "195     318000\n",
       "425     107500\n",
       "695     116000\n",
       "171     277000\n",
       "\n",
       "[351 rows x 1 columns]"
      ]
     },
     "execution_count": 19,
     "metadata": {},
     "output_type": "execute_result"
    }
   ],
   "source": [
    "y_test"
   ]
  },
  {
   "cell_type": "code",
   "execution_count": 20,
   "metadata": {},
   "outputs": [
    {
     "data": {
      "text/plain": [
       "0.9315996289119574"
      ]
     },
     "execution_count": 20,
     "metadata": {},
     "output_type": "execute_result"
    }
   ],
   "source": [
    "#check bais of data\n",
    "model.score(X_train,y_train)"
   ]
  },
  {
   "cell_type": "code",
   "execution_count": 21,
   "metadata": {},
   "outputs": [],
   "source": [
    "#check variance of data"
   ]
  },
  {
   "cell_type": "code",
   "execution_count": 22,
   "metadata": {},
   "outputs": [
    {
     "data": {
      "text/plain": [
       "0.9122935703372458"
      ]
     },
     "execution_count": 22,
     "metadata": {},
     "output_type": "execute_result"
    }
   ],
   "source": [
    "model.score(X_test,y_test)"
   ]
  },
  {
   "cell_type": "code",
   "execution_count": 23,
   "metadata": {},
   "outputs": [
    {
     "data": {
      "text/plain": [
       "<matplotlib.axes._subplots.AxesSubplot at 0x26724b00d88>"
      ]
     },
     "execution_count": 23,
     "metadata": {},
     "output_type": "execute_result"
    },
    {
     "data": {
      "image/png": "[encoded data removed]",
      "text/plain": [
       "<Figure size 432x288 with 1 Axes>"
      ]
     },
     "metadata": {
      "needs_background": "light"
     },
     "output_type": "display_data"
    }
   ],
   "source": [
    "sb.distplot(y_test-y_pred)"
   ]
  },
  {
   "cell_type": "code",
   "execution_count": 24,
   "metadata": {},
   "outputs": [
    {
     "data": {
      "text/plain": [
       "<matplotlib.axes._subplots.AxesSubplot at 0x26724cd2208>"
      ]
     },
     "execution_count": 24,
     "metadata": {},
     "output_type": "execute_result"
    },
    {
     "data": {
      "image/png": "[encoded data removed]",
      "text/plain": [
       "<Figure size 432x288 with 1 Axes>"
      ]
     },
     "metadata": {
      "needs_background": "light"
     },
     "output_type": "display_data"
    }
   ],
   "source": [
    "sb.distplot(y_test,kde=True,hist=False)\n",
    "sb.distplot(y_pred,kde=True,hist=False)"
   ]
  },
  {
   "cell_type": "code",
   "execution_count": 25,
   "metadata": {},
   "outputs": [],
   "source": [
    "from sklearn import metrics"
   ]
  },
  {
   "cell_type": "code",
   "execution_count": 26,
   "metadata": {},
   "outputs": [
    {
     "name": "stdout",
     "output_type": "stream",
     "text": [
      "MSE: 387318243.71075535\n"
     ]
    }
   ],
   "source": [
    "print('MSE:',metrics.mean_squared_error(y_test,y_pred))"
   ]
  },
  {
   "cell_type": "code",
   "execution_count": 41,
   "metadata": {},
   "outputs": [],
   "source": [
    "#accuracy of model : 91.4%\n",
    "s2=metrics.r2_score(y_test,y_pred)"
   ]
  },
  {
   "cell_type": "code",
   "execution_count": null,
   "metadata": {},
   "outputs": [],
   "source": []
  },
  {
   "cell_type": "markdown",
   "metadata": {},
   "source": [
    "## xgboost regression "
   ]
  },
  {
   "cell_type": "code",
   "execution_count": 28,
   "metadata": {},
   "outputs": [],
   "source": [
    "from xgboost import XGBRegressor"
   ]
  },
  {
   "cell_type": "code",
   "execution_count": 29,
   "metadata": {},
   "outputs": [],
   "source": [
    "xgb =XGBRegressor( booster='gbtree', colsample_bylevel=1,\n",
    "             colsample_bynode=1, colsample_bytree=0.6, gamma=0,\n",
    "             importance_type='gain', learning_rate=0.01, max_delta_step=0,\n",
    "             max_depth=4, min_child_weight=1.5, n_estimators=2400,\n",
    "             n_jobs=1, nthread=None, objective='reg:linear',\n",
    "             reg_alpha=0.6, reg_lambda=0.6, scale_pos_weight=1, \n",
    "             silent=None, subsample=0.8, verbosity=1)\n"
   ]
  },
  {
   "cell_type": "code",
   "execution_count": 30,
   "metadata": {},
   "outputs": [
    {
     "name": "stdout",
     "output_type": "stream",
     "text": [
      "[19:46:29] WARNING: C:/Users/Administrator/workspace/xgboost-win64_release_1.0.0/src/objective/regression_obj.cu:167: reg:linear is now deprecated in favor of reg:squarederror.\n"
     ]
    },
    {
     "data": {
      "text/plain": [
       "XGBRegressor(base_score=0.5, booster='gbtree', colsample_bylevel=1,\n",
       "             colsample_bynode=1, colsample_bytree=0.6, gamma=0, gpu_id=-1,\n",
       "             importance_type='gain', interaction_constraints=None,\n",
       "             learning_rate=0.01, max_delta_step=0, max_depth=4,\n",
       "             min_child_weight=1.5, missing=nan, monotone_constraints=None,\n",
       "             n_estimators=2400, n_jobs=1, nthread=1, num_parallel_tree=1,\n",
       "             objective='reg:linear', random_state=0, reg_alpha=0.6,\n",
       "             reg_lambda=0.6, scale_pos_weight=1, silent=None, subsample=0.8,\n",
       "             tree_method=None, validate_parameters=False, verbosity=1)"
      ]
     },
     "execution_count": 30,
     "metadata": {},
     "output_type": "execute_result"
    }
   ],
   "source": [
    "xgb.fit(X_train,y_train)"
   ]
  },
  {
   "cell_type": "code",
   "execution_count": 31,
   "metadata": {},
   "outputs": [],
   "source": [
    "y_pred1=xgb.predict(X_test)"
   ]
  },
  {
   "cell_type": "code",
   "execution_count": 43,
   "metadata": {},
   "outputs": [
    {
     "data": {
      "text/plain": [
       "0.9208211165332922"
      ]
     },
     "execution_count": 43,
     "metadata": {},
     "output_type": "execute_result"
    }
   ],
   "source": [
    "s1=r2_score(y_test,y_pred1) # accuracy of model : 92%\n",
    "s1"
   ]
  },
  {
   "cell_type": "code",
   "execution_count": 33,
   "metadata": {},
   "outputs": [
    {
     "name": "stdout",
     "output_type": "stream",
     "text": [
      "MSE: 349659953.10976833\n"
     ]
    }
   ],
   "source": [
    "print('MSE:',metrics.mean_squared_error(y_test,y_pred1))"
   ]
  },
  {
   "cell_type": "code",
   "execution_count": 34,
   "metadata": {},
   "outputs": [
    {
     "data": {
      "text/plain": [
       "<matplotlib.axes._subplots.AxesSubplot at 0x26726106448>"
      ]
     },
     "execution_count": 34,
     "metadata": {},
     "output_type": "execute_result"
    },
    {
     "data": {
      "image/png": "[encoded data removed]",
      "text/plain": [
       "<Figure size 432x288 with 1 Axes>"
      ]
     },
     "metadata": {
      "needs_background": "light"
     },
     "output_type": "display_data"
    }
   ],
   "source": [
    "sb.distplot(y_test,kde=True,hist=False)\n",
    "sb.distplot(y_pred1,kde=True,hist=False)"
   ]
  },
  {
   "cell_type": "code",
   "execution_count": 93,
   "metadata": {},
   "outputs": [
    {
     "name": "stdout",
     "output_type": "stream",
     "text": [
      "the accuracy_score of xgboost regression is:0.9208211165332922 .\n",
      "the accuracy_score of Linear regression is:0.9122935703372458 .\n"
     ]
    }
   ],
   "source": [
    "scores=[s1,s2]\n",
    "algorithms=['xgboost regression','Linear regression']\n",
    "\n",
    "\n",
    "for i in range(len(algorithms)):\n",
    "    print('the accuracy_score of '+algorithms[i],'is:'+str(scores[i]),'.')"
   ]
  },
  {
   "cell_type": "code",
   "execution_count": 94,
   "metadata": {},
   "outputs": [
    {
     "ename": "NameError",
     "evalue": "name 'sns' is not defined",
     "output_type": "error",
     "traceback": [
      "\u001b[1;31m---------------------------------------------------------------------------\u001b[0m",
      "\u001b[1;31mNameError\u001b[0m                                 Traceback (most recent call last)",
      "\u001b[1;32m<ipython-input-94-52873c4ab83b>\u001b[0m in \u001b[0;36m<module>\u001b[1;34m\u001b[0m\n\u001b[0;32m      2\u001b[0m \u001b[0mplt\u001b[0m\u001b[1;33m.\u001b[0m\u001b[0mxlabel\u001b[0m\u001b[1;33m(\u001b[0m\u001b[1;34m'algorithms'\u001b[0m\u001b[1;33m)\u001b[0m\u001b[1;33m\u001b[0m\u001b[1;33m\u001b[0m\u001b[0m\n\u001b[0;32m      3\u001b[0m \u001b[0mplt\u001b[0m\u001b[1;33m.\u001b[0m\u001b[0mylabel\u001b[0m\u001b[1;33m(\u001b[0m\u001b[1;34m'accuracy_scores'\u001b[0m\u001b[1;33m)\u001b[0m\u001b[1;33m\u001b[0m\u001b[1;33m\u001b[0m\u001b[0m\n\u001b[1;32m----> 4\u001b[1;33m \u001b[0msns\u001b[0m\u001b[1;33m.\u001b[0m\u001b[0mbarplot\u001b[0m\u001b[1;33m(\u001b[0m\u001b[0malgorithms\u001b[0m\u001b[1;33m,\u001b[0m\u001b[0mscores\u001b[0m\u001b[1;33m)\u001b[0m\u001b[1;33m\u001b[0m\u001b[1;33m\u001b[0m\u001b[0m\n\u001b[0m",
      "\u001b[1;31mNameError\u001b[0m: name 'sns' is not defined"
     ]
    },
    {
     "data": {
      "image/png": "[encoded data removed]",
      "text/plain": [
       "<Figure size 432x432 with 1 Axes>"
      ]
     },
     "metadata": {
      "needs_background": "light"
     },
     "output_type": "display_data"
    }
   ],
   "source": [
    "\n",
    "plt.figure(figsize=(6,6))\n",
    "plt.xlabel('algorithms')\n",
    "plt.ylabel('accuracy_scores')\n",
    "sns.barplot(algorithms,scores)\n"
   ]
  },
  {
   "cell_type": "code",
   "execution_count": 90,
   "metadata": {},
   "outputs": [
    {
     "data": {
      "text/html": [
       "<div>\n",
       "<style scoped>\n",
       "    .dataframe tbody tr th:only-of-type {\n",
       "        vertical-align: middle;\n",
       "    }\n",
       "\n",
       "    .dataframe tbody tr th {\n",
       "        vertical-align: top;\n",
       "    }\n",
       "\n",
       "    .dataframe thead th {\n",
       "        text-align: right;\n",
       "    }\n",
       "</style>\n",
       "<table border=\"1\" class=\"dataframe\">\n",
       "  <thead>\n",
       "    <tr style=\"text-align: right;\">\n",
       "      <th></th>\n",
       "      <th>r2_score</th>\n",
       "    </tr>\n",
       "  </thead>\n",
       "  <tbody>\n",
       "    <tr>\n",
       "      <th>0</th>\n",
       "      <td>NaN</td>\n",
       "    </tr>\n",
       "    <tr>\n",
       "      <th>1</th>\n",
       "      <td>NaN</td>\n",
       "    </tr>\n",
       "  </tbody>\n",
       "</table>\n",
       "</div>"
      ],
      "text/plain": [
       "  r2_score\n",
       "0      NaN\n",
       "1      NaN"
      ]
     },
     "execution_count": 90,
     "metadata": {},
     "output_type": "execute_result"
    }
   ],
   "source": []
  },
  {
   "cell_type": "code",
   "execution_count": null,
   "metadata": {},
   "outputs": [],
   "source": []
  },
  {
   "cell_type": "code",
   "execution_count": null,
   "metadata": {},
   "outputs": [],
   "source": []
  }
 ],
 "metadata": {
  "kernelspec": {
   "display_name": "Python 3",
   "language": "python",
   "name": "python3"
  },
  "language_info": {
   "codemirror_mode": {
    "name": "ipython",
    "version": 3
   },
   "file_extension": ".py",
   "mimetype": "text/x-python",
   "name": "python",
   "nbconvert_exporter": "python",
   "pygments_lexer": "ipython3",
   "version": "3.7.6"
  }
 },
 "nbformat": 4,
 "nbformat_minor": 4
}
