{
 "cells": [
  {
   "cell_type": "code",
   "execution_count": 1,
   "metadata": {},
   "outputs": [
    {
     "name": "stderr",
     "output_type": "stream",
     "text": [
      "C:\\Users\\JESAL\\anaconda3\\lib\\site-packages\\ipykernel_launcher.py:4: FutureWarning: The pandas.datetime class is deprecated and will be removed from pandas in a future version. Import from datetime module instead.\n",
      "  after removing the cwd from sys.path.\n"
     ]
    },
    {
     "data": {
      "text/html": [
       "        <script type=\"text/javascript\">\n",
       "        window.PlotlyConfig = {MathJaxConfig: 'local'};\n",
       "        if (window.MathJax) {MathJax.Hub.Config({SVG: {font: \"STIX-Web\"}});}\n",
       "        if (typeof require !== 'undefined') {\n",
       "        require.undef(\"plotly\");\n",
       "        requirejs.config({\n",
       "            paths: {\n",
       "                'plotly': ['https://cdn.plot.ly/plotly-latest.min']\n",
       "            }\n",
       "        });\n",
       "        require(['plotly'], function(Plotly) {\n",
       "            window._Plotly = Plotly;\n",
       "        });\n",
       "        }\n",
       "        </script>\n",
       "        "
      ]
     },
     "metadata": {},
     "output_type": "display_data"
    },
    {
     "data": {
      "text/html": [
       "        <script type=\"text/javascript\">\n",
       "        window.PlotlyConfig = {MathJaxConfig: 'local'};\n",
       "        if (window.MathJax) {MathJax.Hub.Config({SVG: {font: \"STIX-Web\"}});}\n",
       "        if (typeof require !== 'undefined') {\n",
       "        require.undef(\"plotly\");\n",
       "        requirejs.config({\n",
       "            paths: {\n",
       "                'plotly': ['https://cdn.plot.ly/plotly-latest.min']\n",
       "            }\n",
       "        });\n",
       "        require(['plotly'], function(Plotly) {\n",
       "            window._Plotly = Plotly;\n",
       "        });\n",
       "        }\n",
       "        </script>\n",
       "        "
      ]
     },
     "metadata": {},
     "output_type": "display_data"
    }
   ],
   "source": [
    "import pandas as pd\n",
    "import numpy as np\n",
    "import datetime\n",
    "from pandas import datetime\n",
    "import matplotlib.pyplot as plt\n",
    "import seaborn as sb\n",
    "import plotly as py\n",
    "from plotly.offline import iplot\n",
    "import plotly.express as px \n",
    "import cufflinks as cf\n",
    "\n",
    "py.offline.init_notebook_mode(connected=True)\n",
    "cf.go_offline()\n"
   ]
  },
  {
   "cell_type": "code",
   "execution_count": 2,
   "metadata": {},
   "outputs": [],
   "source": [
    "from sklearn.metrics import accuracy_score,r2_score\n",
    "from sklearn.preprocessing import StandardScaler,MinMaxScaler\n",
    "from sklearn.model_selection import train_test_split\n",
    "from sklearn.linear_model import LinearRegression\n",
    "from sklearn.linear_model import Lasso\n",
    "from sklearn.feature_selection import SelectFromModel"
   ]
  },
  {
   "cell_type": "code",
   "execution_count": 3,
   "metadata": {},
   "outputs": [],
   "source": [
    "## Model"
   ]
  },
  {
   "cell_type": "code",
   "execution_count": 4,
   "metadata": {},
   "outputs": [
    {
     "data": {
      "text/html": [
       "<div>\n",
       "<style scoped>\n",
       "    .dataframe tbody tr th:only-of-type {\n",
       "        vertical-align: middle;\n",
       "    }\n",
       "\n",
       "    .dataframe tbody tr th {\n",
       "        vertical-align: top;\n",
       "    }\n",
       "\n",
       "    .dataframe thead th {\n",
       "        text-align: right;\n",
       "    }\n",
       "</style>\n",
       "<table border=\"1\" class=\"dataframe\">\n",
       "  <thead>\n",
       "    <tr style=\"text-align: right;\">\n",
       "      <th></th>\n",
       "      <th>MSSubClass</th>\n",
       "      <th>MSZoning</th>\n",
       "      <th>LotArea</th>\n",
       "      <th>Street</th>\n",
       "      <th>Alley</th>\n",
       "      <th>LotShape</th>\n",
       "      <th>LandContour</th>\n",
       "      <th>Utilities</th>\n",
       "      <th>LotConfig</th>\n",
       "      <th>LandSlope</th>\n",
       "      <th>...</th>\n",
       "      <th>MiscFeature</th>\n",
       "      <th>MiscVal</th>\n",
       "      <th>MoSold</th>\n",
       "      <th>YrSold</th>\n",
       "      <th>SaleType</th>\n",
       "      <th>SaleCondition</th>\n",
       "      <th>SalePrice</th>\n",
       "      <th>LotFrontage</th>\n",
       "      <th>MasVnrArea</th>\n",
       "      <th>GarageYrBlt</th>\n",
       "    </tr>\n",
       "  </thead>\n",
       "  <tbody>\n",
       "    <tr>\n",
       "      <th>0</th>\n",
       "      <td>60</td>\n",
       "      <td>3</td>\n",
       "      <td>9.041922</td>\n",
       "      <td>1</td>\n",
       "      <td>0</td>\n",
       "      <td>3</td>\n",
       "      <td>3</td>\n",
       "      <td>0</td>\n",
       "      <td>4</td>\n",
       "      <td>0</td>\n",
       "      <td>...</td>\n",
       "      <td>2</td>\n",
       "      <td>0</td>\n",
       "      <td>2</td>\n",
       "      <td>2008</td>\n",
       "      <td>8</td>\n",
       "      <td>4</td>\n",
       "      <td>208500</td>\n",
       "      <td>4.174387</td>\n",
       "      <td>196.0</td>\n",
       "      <td>2003.0</td>\n",
       "    </tr>\n",
       "    <tr>\n",
       "      <th>1</th>\n",
       "      <td>20</td>\n",
       "      <td>3</td>\n",
       "      <td>9.169518</td>\n",
       "      <td>1</td>\n",
       "      <td>0</td>\n",
       "      <td>3</td>\n",
       "      <td>3</td>\n",
       "      <td>0</td>\n",
       "      <td>2</td>\n",
       "      <td>0</td>\n",
       "      <td>...</td>\n",
       "      <td>2</td>\n",
       "      <td>0</td>\n",
       "      <td>5</td>\n",
       "      <td>2007</td>\n",
       "      <td>8</td>\n",
       "      <td>4</td>\n",
       "      <td>181500</td>\n",
       "      <td>4.382027</td>\n",
       "      <td>0.0</td>\n",
       "      <td>1976.0</td>\n",
       "    </tr>\n",
       "    <tr>\n",
       "      <th>2</th>\n",
       "      <td>60</td>\n",
       "      <td>3</td>\n",
       "      <td>9.328123</td>\n",
       "      <td>1</td>\n",
       "      <td>0</td>\n",
       "      <td>0</td>\n",
       "      <td>3</td>\n",
       "      <td>0</td>\n",
       "      <td>4</td>\n",
       "      <td>0</td>\n",
       "      <td>...</td>\n",
       "      <td>2</td>\n",
       "      <td>0</td>\n",
       "      <td>9</td>\n",
       "      <td>2008</td>\n",
       "      <td>8</td>\n",
       "      <td>4</td>\n",
       "      <td>223500</td>\n",
       "      <td>4.219508</td>\n",
       "      <td>162.0</td>\n",
       "      <td>2001.0</td>\n",
       "    </tr>\n",
       "    <tr>\n",
       "      <th>3</th>\n",
       "      <td>60</td>\n",
       "      <td>3</td>\n",
       "      <td>9.565214</td>\n",
       "      <td>1</td>\n",
       "      <td>0</td>\n",
       "      <td>0</td>\n",
       "      <td>3</td>\n",
       "      <td>0</td>\n",
       "      <td>2</td>\n",
       "      <td>0</td>\n",
       "      <td>...</td>\n",
       "      <td>2</td>\n",
       "      <td>0</td>\n",
       "      <td>12</td>\n",
       "      <td>2008</td>\n",
       "      <td>8</td>\n",
       "      <td>4</td>\n",
       "      <td>250000</td>\n",
       "      <td>4.430817</td>\n",
       "      <td>350.0</td>\n",
       "      <td>2000.0</td>\n",
       "    </tr>\n",
       "    <tr>\n",
       "      <th>4</th>\n",
       "      <td>50</td>\n",
       "      <td>3</td>\n",
       "      <td>9.554993</td>\n",
       "      <td>1</td>\n",
       "      <td>0</td>\n",
       "      <td>0</td>\n",
       "      <td>3</td>\n",
       "      <td>0</td>\n",
       "      <td>4</td>\n",
       "      <td>0</td>\n",
       "      <td>...</td>\n",
       "      <td>2</td>\n",
       "      <td>700</td>\n",
       "      <td>10</td>\n",
       "      <td>2009</td>\n",
       "      <td>8</td>\n",
       "      <td>4</td>\n",
       "      <td>143000</td>\n",
       "      <td>4.442651</td>\n",
       "      <td>0.0</td>\n",
       "      <td>1993.0</td>\n",
       "    </tr>\n",
       "  </tbody>\n",
       "</table>\n",
       "<p>5 rows × 80 columns</p>\n",
       "</div>"
      ],
      "text/plain": [
       "   MSSubClass  MSZoning   LotArea  Street  Alley  LotShape  LandContour  \\\n",
       "0          60         3  9.041922       1      0         3            3   \n",
       "1          20         3  9.169518       1      0         3            3   \n",
       "2          60         3  9.328123       1      0         0            3   \n",
       "3          60         3  9.565214       1      0         0            3   \n",
       "4          50         3  9.554993       1      0         0            3   \n",
       "\n",
       "   Utilities  LotConfig  LandSlope  ...  MiscFeature  MiscVal  MoSold  YrSold  \\\n",
       "0          0          4          0  ...            2        0       2    2008   \n",
       "1          0          2          0  ...            2        0       5    2007   \n",
       "2          0          4          0  ...            2        0       9    2008   \n",
       "3          0          2          0  ...            2        0      12    2008   \n",
       "4          0          4          0  ...            2      700      10    2009   \n",
       "\n",
       "   SaleType  SaleCondition  SalePrice  LotFrontage  MasVnrArea  GarageYrBlt  \n",
       "0         8              4     208500     4.174387       196.0       2003.0  \n",
       "1         8              4     181500     4.382027         0.0       1976.0  \n",
       "2         8              4     223500     4.219508       162.0       2001.0  \n",
       "3         8              4     250000     4.430817       350.0       2000.0  \n",
       "4         8              4     143000     4.442651         0.0       1993.0  \n",
       "\n",
       "[5 rows x 80 columns]"
      ]
     },
     "execution_count": 4,
     "metadata": {},
     "output_type": "execute_result"
    }
   ],
   "source": [
    "df=pd.read_csv('FinalDF.csv')\n",
    "df.head()"
   ]
  },
  {
   "cell_type": "code",
   "execution_count": 5,
   "metadata": {},
   "outputs": [],
   "source": [
    "X=df.drop('SalePrice',axis=1)\n",
    "y=df[['SalePrice']]"
   ]
  },
  {
   "cell_type": "code",
   "execution_count": 6,
   "metadata": {},
   "outputs": [
    {
     "data": {
      "text/plain": [
       "(1177, 79)"
      ]
     },
     "execution_count": 6,
     "metadata": {},
     "output_type": "execute_result"
    }
   ],
   "source": [
    "X.shape"
   ]
  },
  {
   "cell_type": "code",
   "execution_count": 7,
   "metadata": {},
   "outputs": [
    {
     "data": {
      "text/html": [
       "<div>\n",
       "<style scoped>\n",
       "    .dataframe tbody tr th:only-of-type {\n",
       "        vertical-align: middle;\n",
       "    }\n",
       "\n",
       "    .dataframe tbody tr th {\n",
       "        vertical-align: top;\n",
       "    }\n",
       "\n",
       "    .dataframe thead th {\n",
       "        text-align: right;\n",
       "    }\n",
       "</style>\n",
       "<table border=\"1\" class=\"dataframe\">\n",
       "  <thead>\n",
       "    <tr style=\"text-align: right;\">\n",
       "      <th></th>\n",
       "      <th>SalePrice</th>\n",
       "    </tr>\n",
       "  </thead>\n",
       "  <tbody>\n",
       "    <tr>\n",
       "      <th>0</th>\n",
       "      <td>208500</td>\n",
       "    </tr>\n",
       "    <tr>\n",
       "      <th>1</th>\n",
       "      <td>181500</td>\n",
       "    </tr>\n",
       "    <tr>\n",
       "      <th>2</th>\n",
       "      <td>223500</td>\n",
       "    </tr>\n",
       "    <tr>\n",
       "      <th>3</th>\n",
       "      <td>250000</td>\n",
       "    </tr>\n",
       "    <tr>\n",
       "      <th>4</th>\n",
       "      <td>143000</td>\n",
       "    </tr>\n",
       "    <tr>\n",
       "      <th>...</th>\n",
       "      <td>...</td>\n",
       "    </tr>\n",
       "    <tr>\n",
       "      <th>1172</th>\n",
       "      <td>84500</td>\n",
       "    </tr>\n",
       "    <tr>\n",
       "      <th>1173</th>\n",
       "      <td>185000</td>\n",
       "    </tr>\n",
       "    <tr>\n",
       "      <th>1174</th>\n",
       "      <td>175000</td>\n",
       "    </tr>\n",
       "    <tr>\n",
       "      <th>1175</th>\n",
       "      <td>210000</td>\n",
       "    </tr>\n",
       "    <tr>\n",
       "      <th>1176</th>\n",
       "      <td>266500</td>\n",
       "    </tr>\n",
       "  </tbody>\n",
       "</table>\n",
       "<p>1177 rows × 1 columns</p>\n",
       "</div>"
      ],
      "text/plain": [
       "      SalePrice\n",
       "0        208500\n",
       "1        181500\n",
       "2        223500\n",
       "3        250000\n",
       "4        143000\n",
       "...         ...\n",
       "1172      84500\n",
       "1173     185000\n",
       "1174     175000\n",
       "1175     210000\n",
       "1176     266500\n",
       "\n",
       "[1177 rows x 1 columns]"
      ]
     },
     "execution_count": 7,
     "metadata": {},
     "output_type": "execute_result"
    }
   ],
   "source": [
    "y"
   ]
  },
  {
   "cell_type": "markdown",
   "metadata": {},
   "source": [
    "## Feature Importence"
   ]
  },
  {
   "cell_type": "code",
   "execution_count": 8,
   "metadata": {},
   "outputs": [
    {
     "name": "stderr",
     "output_type": "stream",
     "text": [
      "C:\\Users\\JESAL\\anaconda3\\lib\\site-packages\\ipykernel_launcher.py:3: DataConversionWarning:\n",
      "\n",
      "A column-vector y was passed when a 1d array was expected. Please change the shape of y to (n_samples,), for example using ravel().\n",
      "\n"
     ]
    },
    {
     "data": {
      "text/plain": [
       "ExtraTreesRegressor(bootstrap=False, ccp_alpha=0.0, criterion='mse',\n",
       "                    max_depth=None, max_features='auto', max_leaf_nodes=None,\n",
       "                    max_samples=None, min_impurity_decrease=0.0,\n",
       "                    min_impurity_split=None, min_samples_leaf=1,\n",
       "                    min_samples_split=2, min_weight_fraction_leaf=0.0,\n",
       "                    n_estimators=100, n_jobs=None, oob_score=False,\n",
       "                    random_state=None, verbose=0, warm_start=False)"
      ]
     },
     "execution_count": 8,
     "metadata": {},
     "output_type": "execute_result"
    }
   ],
   "source": [
    "from sklearn.ensemble import ExtraTreesRegressor\n",
    "model=ExtraTreesRegressor()\n",
    "model.fit(X,y)"
   ]
  },
  {
   "cell_type": "code",
   "execution_count": 9,
   "metadata": {},
   "outputs": [
    {
     "data": {
      "text/plain": [
       "array([2.51436092e-03, 3.79046575e-03, 6.10986542e-03, 1.49979788e-05,\n",
       "       4.58431601e-04, 3.53369444e-03, 3.05262904e-03, 0.00000000e+00,\n",
       "       1.93367910e-03, 2.46391881e-03, 3.79874900e-03, 1.16358484e-03,\n",
       "       7.41422642e-05, 2.28049806e-03, 2.97892774e-03, 2.46974319e-01,\n",
       "       5.45569319e-03, 3.54492834e-02, 8.56801691e-03, 1.91771738e-03,\n",
       "       8.97062652e-05, 2.64936021e-03, 1.95180487e-03, 2.14587911e-03,\n",
       "       1.06276848e-01, 1.71346236e-03, 1.89133733e-03, 5.21647629e-02,\n",
       "       1.09484870e-03, 3.67586889e-03, 4.87720848e-03, 2.22546707e-02,\n",
       "       4.99100651e-04, 3.35126635e-04, 3.47129611e-03, 1.71969760e-02,\n",
       "       1.47478014e-04, 2.52050550e-03, 9.11734545e-03, 5.61901209e-04,\n",
       "       1.59377294e-02, 1.10498293e-02, 3.64138154e-04, 8.49285938e-02,\n",
       "       1.47398547e-02, 1.23055588e-03, 7.61322906e-02, 6.92776845e-03,\n",
       "       5.95993326e-03, 1.13003972e-03, 2.03891671e-02, 7.64802232e-03,\n",
       "       1.16259314e-03, 1.59943710e-02, 1.59615264e-03, 5.11233624e-03,\n",
       "       5.51056182e-02, 5.73167901e-02, 9.68140346e-03, 4.44623983e-04,\n",
       "       3.52447222e-04, 1.51391640e-03, 3.27308712e-03, 3.10632758e-03,\n",
       "       1.51151620e-03, 1.41516222e-03, 1.01063026e-03, 5.25393389e-05,\n",
       "       6.60145732e-06, 5.58883772e-04, 1.07567168e-05, 1.74247595e-04,\n",
       "       3.22066304e-03, 3.19241695e-03, 2.06374109e-03, 3.50658206e-03,\n",
       "       3.38267217e-03, 5.45395368e-03, 6.17358178e-03])"
      ]
     },
     "execution_count": 9,
     "metadata": {},
     "output_type": "execute_result"
    }
   ],
   "source": [
    "model.feature_importances_"
   ]
  },
  {
   "cell_type": "code",
   "execution_count": 10,
   "metadata": {},
   "outputs": [
    {
     "data": {
      "text/plain": [
       "<matplotlib.axes._subplots.AxesSubplot at 0x1f0dec5af08>"
      ]
     },
     "execution_count": 10,
     "metadata": {},
     "output_type": "execute_result"
    },
    {
     "data": {
      "image/png": "[encoded data removed]",
      "text/plain": [
       "<Figure size 432x720 with 1 Axes>"
      ]
     },
     "metadata": {
      "needs_background": "light"
     },
     "output_type": "display_data"
    }
   ],
   "source": [
    "plt.figure(figsize=(6,10))\n",
    "feature_importance=pd.Series(data=model.feature_importances_,index=X.columns)\n",
    "feature_importance.nlargest(40).plot(kind='barh')"
   ]
  },
  {
   "cell_type": "code",
   "execution_count": null,
   "metadata": {},
   "outputs": [],
   "source": []
  },
  {
   "cell_type": "code",
   "execution_count": 11,
   "metadata": {},
   "outputs": [
    {
     "data": {
      "text/plain": [
       "SelectFromModel(estimator=Lasso(alpha=0.05, copy_X=True, fit_intercept=True,\n",
       "                                max_iter=1000, normalize=False, positive=False,\n",
       "                                precompute=False, random_state=20,\n",
       "                                selection='cyclic', tol=0.0001,\n",
       "                                warm_start=False),\n",
       "                max_features=None, norm_order=1, prefit=False, threshold=None)"
      ]
     },
     "execution_count": 11,
     "metadata": {},
     "output_type": "execute_result"
    }
   ],
   "source": [
    "feature_Sel_model=SelectFromModel(Lasso(alpha=0.05,random_state=20))\n",
    "feature_Sel_model.fit(X,y)\n"
   ]
  },
  {
   "cell_type": "code",
   "execution_count": 12,
   "metadata": {},
   "outputs": [
    {
     "data": {
      "text/plain": [
       "array([ True,  True,  True,  True,  True,  True,  True, False,  True,\n",
       "        True,  True,  True,  True,  True,  True,  True,  True,  True,\n",
       "        True,  True,  True,  True,  True,  True,  True,  True,  True,\n",
       "        True,  True,  True,  True,  True,  True,  True,  True,  True,\n",
       "        True,  True,  True,  True,  True,  True,  True,  True,  True,\n",
       "        True,  True,  True,  True,  True,  True,  True,  True,  True,\n",
       "        True,  True,  True,  True,  True,  True,  True,  True,  True,\n",
       "        True,  True,  True,  True,  True,  True,  True,  True,  True,\n",
       "        True,  True,  True,  True,  True,  True,  True])"
      ]
     },
     "execution_count": 12,
     "metadata": {},
     "output_type": "execute_result"
    }
   ],
   "source": [
    "feature_Sel_model.get_support()"
   ]
  },
  {
   "cell_type": "code",
   "execution_count": 13,
   "metadata": {},
   "outputs": [
    {
     "name": "stdout",
     "output_type": "stream",
     "text": [
      "total features:79\n",
      "selected feature:78 \n",
      "feature with coeeficient sharnk to zero:1\n"
     ]
    }
   ],
   "source": [
    "selected_feature=X.columns[(feature_Sel_model.get_support())]\n",
    "print('total features:{}'.format((X.shape[1])))\n",
    "print('selected feature:{} '.format(len(selected_feature)))\n",
    "print('feature with coeeficient sharnk to zero:{}'.format(np.sum(feature_Sel_model.estimator_.coef_==0))) #skipped features"
   ]
  },
  {
   "cell_type": "code",
   "execution_count": 14,
   "metadata": {},
   "outputs": [],
   "source": [
    "X_train,X_test,y_train,y_test=train_test_split(X,y,test_size=0.3,random_state=10)"
   ]
  },
  {
   "cell_type": "code",
   "execution_count": 15,
   "metadata": {},
   "outputs": [],
   "source": [
    "model=LinearRegression()\n",
    "model.fit(X_train,y_train)\n",
    "y_pred=model.predict(X_test)"
   ]
  },
  {
   "cell_type": "code",
   "execution_count": 16,
   "metadata": {},
   "outputs": [
    {
     "data": {
      "text/plain": [
       "array([[108713.83797321],\n",
       "       [107277.22535924],\n",
       "       [213705.5705571 ],\n",
       "       [228100.00635193],\n",
       "       [270731.64998778],\n",
       "       [135771.43572819],\n",
       "       [163973.06347411],\n",
       "       [110648.69950405],\n",
       "       [224167.50251169],\n",
       "       [141612.77902481],\n",
       "       [242874.04314821],\n",
       "       [165481.02531453],\n",
       "       [104801.17524361],\n",
       "       [111985.33387673],\n",
       "       [147994.87985941],\n",
       "       [330882.75131351],\n",
       "       [190631.21439536],\n",
       "       [222463.32521807],\n",
       "       [130915.63256219],\n",
       "       [200897.47787238],\n",
       "       [136088.22101287],\n",
       "       [109201.21859778],\n",
       "       [178867.10029906],\n",
       "       [291425.35311927],\n",
       "       [226239.39400086],\n",
       "       [181072.07861482],\n",
       "       [199283.42522389],\n",
       "       [223714.1469479 ],\n",
       "       [141198.93262109],\n",
       "       [190566.23925169],\n",
       "       [200369.41883983],\n",
       "       [ 80819.56122859],\n",
       "       [127885.37060713],\n",
       "       [ 84158.32598063],\n",
       "       [131047.41328427],\n",
       "       [142224.22373949],\n",
       "       [ 87437.57413774],\n",
       "       [ 84186.67511982],\n",
       "       [ 76360.44086525],\n",
       "       [ 96718.0091275 ],\n",
       "       [137522.38580939],\n",
       "       [ 87912.40470689],\n",
       "       [210657.49683388],\n",
       "       [135711.9196551 ],\n",
       "       [329738.26845242],\n",
       "       [114433.74328081],\n",
       "       [221465.62689793],\n",
       "       [205159.85939551],\n",
       "       [264832.56246358],\n",
       "       [ 74298.97031469],\n",
       "       [104030.09154921],\n",
       "       [240376.76520664],\n",
       "       [170706.82753619],\n",
       "       [119496.63694003],\n",
       "       [154588.17562108],\n",
       "       [110803.84596559],\n",
       "       [233597.03393908],\n",
       "       [174115.16754383],\n",
       "       [128544.1937805 ],\n",
       "       [135872.30781053],\n",
       "       [133240.14181741],\n",
       "       [100142.60100608],\n",
       "       [143887.7515578 ],\n",
       "       [180183.01831836],\n",
       "       [294804.5944092 ],\n",
       "       [ 87969.46843214],\n",
       "       [117135.49702079],\n",
       "       [217530.67181264],\n",
       "       [271294.86513911],\n",
       "       [218480.35139557],\n",
       "       [218804.16182614],\n",
       "       [100047.59937692],\n",
       "       [109182.91121845],\n",
       "       [123863.51601063],\n",
       "       [ 99665.03954205],\n",
       "       [246742.21292405],\n",
       "       [228289.11828992],\n",
       "       [189769.54693688],\n",
       "       [137047.09403067],\n",
       "       [171615.64384171],\n",
       "       [237529.4924346 ],\n",
       "       [185849.0295214 ],\n",
       "       [ 87482.7935662 ],\n",
       "       [206528.63842727],\n",
       "       [159066.27421878],\n",
       "       [115977.46152504],\n",
       "       [210587.17406045],\n",
       "       [155674.46919489],\n",
       "       [146753.04237986],\n",
       "       [106282.33290548],\n",
       "       [131266.95688236],\n",
       "       [252579.12983567],\n",
       "       [234950.18518555],\n",
       "       [158390.13766012],\n",
       "       [ 81580.30902738],\n",
       "       [ 95124.20861886],\n",
       "       [160441.16718766],\n",
       "       [110765.30909479],\n",
       "       [139623.8041825 ],\n",
       "       [ 99888.09560153],\n",
       "       [189785.32411682],\n",
       "       [146616.21449812],\n",
       "       [154363.3424608 ],\n",
       "       [115441.97282013],\n",
       "       [280423.26045538],\n",
       "       [219121.02608843],\n",
       "       [293142.00252666],\n",
       "       [270454.35924119],\n",
       "       [235573.9611718 ],\n",
       "       [151217.73776052],\n",
       "       [167434.78193998],\n",
       "       [159107.96961909],\n",
       "       [230810.94862178],\n",
       "       [174936.14668047],\n",
       "       [ 81214.31017459],\n",
       "       [249302.86227352],\n",
       "       [303311.3479367 ],\n",
       "       [228304.29076994],\n",
       "       [102845.0236272 ],\n",
       "       [249852.53393127],\n",
       "       [ 27978.31742249],\n",
       "       [177859.43620004],\n",
       "       [173688.52022253],\n",
       "       [115860.21896895],\n",
       "       [138181.76169325],\n",
       "       [157299.09991334],\n",
       "       [ 38770.40581046],\n",
       "       [122816.78793645],\n",
       "       [165260.81101913],\n",
       "       [ 55995.73054228],\n",
       "       [234289.27366493],\n",
       "       [ 61894.00304135],\n",
       "       [298909.03186266],\n",
       "       [ 97821.75092727],\n",
       "       [242855.52205992],\n",
       "       [122731.82679616],\n",
       "       [190593.93562775],\n",
       "       [ 58728.18318878],\n",
       "       [254606.06796416],\n",
       "       [170270.12910748],\n",
       "       [216857.80634392],\n",
       "       [184820.34567493],\n",
       "       [118139.86823046],\n",
       "       [250082.63374196],\n",
       "       [157810.54898827],\n",
       "       [ 69319.40365595],\n",
       "       [225218.10120776],\n",
       "       [ 85634.51167744],\n",
       "       [235988.49049485],\n",
       "       [171677.17921503],\n",
       "       [106579.06715704],\n",
       "       [318626.49496849],\n",
       "       [156510.91801753],\n",
       "       [200591.97523501],\n",
       "       [143591.95019761],\n",
       "       [168726.39671654],\n",
       "       [194506.19852842],\n",
       "       [186364.0465044 ],\n",
       "       [137528.50835314],\n",
       "       [140851.68109301],\n",
       "       [125889.73757216],\n",
       "       [160893.36601442],\n",
       "       [230369.23563136],\n",
       "       [ 98122.82063223],\n",
       "       [144950.44373636],\n",
       "       [239151.9508063 ],\n",
       "       [ 74203.89133708],\n",
       "       [169802.90583106],\n",
       "       [ 71583.00558076],\n",
       "       [283627.85234311],\n",
       "       [253379.25463759],\n",
       "       [221333.53514481],\n",
       "       [260993.21335014],\n",
       "       [176579.99005012],\n",
       "       [170551.3563333 ],\n",
       "       [181924.16661983],\n",
       "       [234440.27834353],\n",
       "       [153255.01516498],\n",
       "       [145242.01231451],\n",
       "       [150306.03532674],\n",
       "       [106333.2245964 ],\n",
       "       [155036.66567213],\n",
       "       [151258.57922078],\n",
       "       [121074.87564739],\n",
       "       [130807.7981034 ],\n",
       "       [301034.92426926],\n",
       "       [143850.10303159],\n",
       "       [266309.33640138],\n",
       "       [238002.09252478],\n",
       "       [183526.44470691],\n",
       "       [128133.66102436],\n",
       "       [333423.26584482],\n",
       "       [ 87875.75743757],\n",
       "       [326256.76209886],\n",
       "       [237396.84694926],\n",
       "       [165399.35840443],\n",
       "       [ 25775.3977805 ],\n",
       "       [180961.13343309],\n",
       "       [217109.50165543],\n",
       "       [205101.55076619],\n",
       "       [156335.39395032],\n",
       "       [ 73990.3202032 ],\n",
       "       [ 52066.00618823],\n",
       "       [224611.73949833],\n",
       "       [277334.831461  ],\n",
       "       [177335.52880536],\n",
       "       [205086.94730864],\n",
       "       [214767.96208321],\n",
       "       [177119.80582702],\n",
       "       [147729.64047113],\n",
       "       [203694.65491204],\n",
       "       [133719.14979635],\n",
       "       [212775.4669007 ],\n",
       "       [198431.62247786],\n",
       "       [103953.63176624],\n",
       "       [218678.77456495],\n",
       "       [142880.34019434],\n",
       "       [118538.72329626],\n",
       "       [279992.28804877],\n",
       "       [129469.29615811],\n",
       "       [224282.25855497],\n",
       "       [143055.88533144],\n",
       "       [169759.5466263 ],\n",
       "       [145667.29091891],\n",
       "       [194489.90536608],\n",
       "       [ 93593.90090519],\n",
       "       [144647.16077822],\n",
       "       [153976.22160483],\n",
       "       [306326.53843161],\n",
       "       [191731.47714538],\n",
       "       [294816.49040937],\n",
       "       [155553.60206726],\n",
       "       [220491.80384998],\n",
       "       [122199.68747203],\n",
       "       [133380.67098442],\n",
       "       [ 97442.92477303],\n",
       "       [125572.97913188],\n",
       "       [172661.08201703],\n",
       "       [ 72140.56752789],\n",
       "       [223401.10994931],\n",
       "       [167161.68302051],\n",
       "       [198583.87765422],\n",
       "       [187873.91104508],\n",
       "       [169593.44795376],\n",
       "       [249486.01676524],\n",
       "       [237472.220684  ],\n",
       "       [220377.22977333],\n",
       "       [157702.11591299],\n",
       "       [118949.23091379],\n",
       "       [136363.93997265],\n",
       "       [144378.85361595],\n",
       "       [268481.44354231],\n",
       "       [193228.12279027],\n",
       "       [189207.62917628],\n",
       "       [143051.2562942 ],\n",
       "       [203640.36986722],\n",
       "       [180348.19063739],\n",
       "       [267552.33734137],\n",
       "       [181260.35721883],\n",
       "       [120898.77588986],\n",
       "       [139187.69398669],\n",
       "       [143286.2199507 ],\n",
       "       [172352.74510362],\n",
       "       [273157.88853085],\n",
       "       [202585.00980927],\n",
       "       [328550.96818663],\n",
       "       [138617.53434926],\n",
       "       [ 65955.68068211],\n",
       "       [261537.32963735],\n",
       "       [126705.23055405],\n",
       "       [238838.63833452],\n",
       "       [251509.59719587],\n",
       "       [293704.10775214],\n",
       "       [144238.33164225],\n",
       "       [181032.66439475],\n",
       "       [115635.29112347],\n",
       "       [195619.37044639],\n",
       "       [138234.84708513],\n",
       "       [ 74520.17634259],\n",
       "       [186034.31326801],\n",
       "       [ 78780.49390701],\n",
       "       [145937.88429238],\n",
       "       [232816.65507646],\n",
       "       [245775.98463147],\n",
       "       [225756.04075495],\n",
       "       [235766.38147145],\n",
       "       [201710.48797505],\n",
       "       [138420.26796665],\n",
       "       [161575.9613816 ],\n",
       "       [233413.87752446],\n",
       "       [130480.1908908 ],\n",
       "       [179056.46501392],\n",
       "       [223637.32018319],\n",
       "       [191134.93613149],\n",
       "       [194610.37500272],\n",
       "       [148425.22449137],\n",
       "       [213287.95885335],\n",
       "       [186453.58850443],\n",
       "       [192932.94721181],\n",
       "       [134847.23433895],\n",
       "       [130330.73723566],\n",
       "       [221664.28771498],\n",
       "       [ 88226.72020353],\n",
       "       [139245.49906416],\n",
       "       [181467.86431173],\n",
       "       [157793.98979026],\n",
       "       [143164.4065049 ],\n",
       "       [ 63467.12453124],\n",
       "       [ 72987.51627138],\n",
       "       [170810.54314003],\n",
       "       [185339.3102107 ],\n",
       "       [286883.2986411 ],\n",
       "       [122785.89923857],\n",
       "       [126408.38937029],\n",
       "       [205179.08533733],\n",
       "       [270244.62131977],\n",
       "       [ 86494.08051292],\n",
       "       [236651.66597498],\n",
       "       [118319.62779913],\n",
       "       [ 92105.75438481],\n",
       "       [ 97751.28482925],\n",
       "       [137526.88174071],\n",
       "       [216049.02787408],\n",
       "       [164396.55304844],\n",
       "       [287045.83591841],\n",
       "       [189651.24160879],\n",
       "       [142265.14205761],\n",
       "       [217953.99872619],\n",
       "       [201046.19441298],\n",
       "       [222731.71639007],\n",
       "       [330575.6125038 ],\n",
       "       [164943.5952376 ],\n",
       "       [125359.95784296],\n",
       "       [169804.45704821],\n",
       "       [325172.13577108],\n",
       "       [ 95057.70914419],\n",
       "       [181262.78332454],\n",
       "       [143458.46867792],\n",
       "       [219565.4506739 ],\n",
       "       [281785.30882649],\n",
       "       [241481.40181793],\n",
       "       [131594.15435833],\n",
       "       [103406.76695357],\n",
       "       [161088.30510664],\n",
       "       [182449.67964084],\n",
       "       [107814.04051376],\n",
       "       [217568.48662211],\n",
       "       [214240.05123011],\n",
       "       [192941.02703075],\n",
       "       [159176.81734722],\n",
       "       [116009.62291721],\n",
       "       [160128.14677887],\n",
       "       [299095.43205268],\n",
       "       [209981.6835739 ]])"
      ]
     },
     "execution_count": 16,
     "metadata": {},
     "output_type": "execute_result"
    }
   ],
   "source": [
    "y_pred"
   ]
  },
  {
   "cell_type": "code",
   "execution_count": 17,
   "metadata": {},
   "outputs": [
    {
     "data": {
      "text/html": [
       "<div>\n",
       "<style scoped>\n",
       "    .dataframe tbody tr th:only-of-type {\n",
       "        vertical-align: middle;\n",
       "    }\n",
       "\n",
       "    .dataframe tbody tr th {\n",
       "        vertical-align: top;\n",
       "    }\n",
       "\n",
       "    .dataframe thead th {\n",
       "        text-align: right;\n",
       "    }\n",
       "</style>\n",
       "<table border=\"1\" class=\"dataframe\">\n",
       "  <thead>\n",
       "    <tr style=\"text-align: right;\">\n",
       "      <th></th>\n",
       "      <th>SalePrice</th>\n",
       "    </tr>\n",
       "  </thead>\n",
       "  <tbody>\n",
       "    <tr>\n",
       "      <th>334</th>\n",
       "      <td>115000</td>\n",
       "    </tr>\n",
       "    <tr>\n",
       "      <th>131</th>\n",
       "      <td>109500</td>\n",
       "    </tr>\n",
       "    <tr>\n",
       "      <th>203</th>\n",
       "      <td>241500</td>\n",
       "    </tr>\n",
       "    <tr>\n",
       "      <th>707</th>\n",
       "      <td>187500</td>\n",
       "    </tr>\n",
       "    <tr>\n",
       "      <th>479</th>\n",
       "      <td>319000</td>\n",
       "    </tr>\n",
       "    <tr>\n",
       "      <th>...</th>\n",
       "      <td>...</td>\n",
       "    </tr>\n",
       "    <tr>\n",
       "      <th>539</th>\n",
       "      <td>140000</td>\n",
       "    </tr>\n",
       "    <tr>\n",
       "      <th>1134</th>\n",
       "      <td>112000</td>\n",
       "    </tr>\n",
       "    <tr>\n",
       "      <th>984</th>\n",
       "      <td>147000</td>\n",
       "    </tr>\n",
       "    <tr>\n",
       "      <th>53</th>\n",
       "      <td>317000</td>\n",
       "    </tr>\n",
       "    <tr>\n",
       "      <th>51</th>\n",
       "      <td>202500</td>\n",
       "    </tr>\n",
       "  </tbody>\n",
       "</table>\n",
       "<p>354 rows × 1 columns</p>\n",
       "</div>"
      ],
      "text/plain": [
       "      SalePrice\n",
       "334      115000\n",
       "131      109500\n",
       "203      241500\n",
       "707      187500\n",
       "479      319000\n",
       "...         ...\n",
       "539      140000\n",
       "1134     112000\n",
       "984      147000\n",
       "53       317000\n",
       "51       202500\n",
       "\n",
       "[354 rows x 1 columns]"
      ]
     },
     "execution_count": 17,
     "metadata": {},
     "output_type": "execute_result"
    }
   ],
   "source": [
    "y_test"
   ]
  },
  {
   "cell_type": "code",
   "execution_count": 27,
   "metadata": {},
   "outputs": [
    {
     "data": {
      "text/plain": [
       "0.9054573195706251"
      ]
     },
     "execution_count": 27,
     "metadata": {},
     "output_type": "execute_result"
    }
   ],
   "source": [
    "model.score(X_train,y_train)"
   ]
  },
  {
   "cell_type": "code",
   "execution_count": 28,
   "metadata": {},
   "outputs": [
    {
     "data": {
      "text/plain": [
       "0.8852466327608095"
      ]
     },
     "execution_count": 28,
     "metadata": {},
     "output_type": "execute_result"
    }
   ],
   "source": [
    "model.score(X_test,y_test)"
   ]
  },
  {
   "cell_type": "code",
   "execution_count": 29,
   "metadata": {},
   "outputs": [
    {
     "data": {
      "text/plain": [
       "<matplotlib.axes._subplots.AxesSubplot at 0x1f0e1f531c8>"
      ]
     },
     "execution_count": 29,
     "metadata": {},
     "output_type": "execute_result"
    },
    {
     "data": {
      "image/png": "[encoded data removed]",
      "text/plain": [
       "<Figure size 432x288 with 1 Axes>"
      ]
     },
     "metadata": {
      "needs_background": "light"
     },
     "output_type": "display_data"
    }
   ],
   "source": [
    "sb.distplot(y_test-y_pred)"
   ]
  },
  {
   "cell_type": "code",
   "execution_count": 30,
   "metadata": {},
   "outputs": [],
   "source": [
    "from sklearn import metrics"
   ]
  },
  {
   "cell_type": "code",
   "execution_count": 31,
   "metadata": {},
   "outputs": [
    {
     "name": "stdout",
     "output_type": "stream",
     "text": [
      "MSE: 469857766.4273046\n",
      "MBE: 16185.617872182207\n",
      "RMSE: 21676.202767719824\n"
     ]
    }
   ],
   "source": [
    "print('MSE:',metrics.mean_squared_error(y_test,y_pred))\n",
    "print('MBE:',metrics.mean_absolute_error(y_test,y_pred))\n",
    "print('RMSE:',np.sqrt(metrics.mean_squared_error(y_test,y_pred)))"
   ]
  },
  {
   "cell_type": "code",
   "execution_count": 32,
   "metadata": {},
   "outputs": [
    {
     "data": {
      "text/plain": [
       "0.8852466327608095"
      ]
     },
     "execution_count": 32,
     "metadata": {},
     "output_type": "execute_result"
    }
   ],
   "source": [
    "metrics.r2_score(y_test,y_pred)"
   ]
  },
  {
   "cell_type": "code",
   "execution_count": null,
   "metadata": {},
   "outputs": [],
   "source": []
  }
 ],
 "metadata": {
  "kernelspec": {
   "display_name": "Python 3",
   "language": "python",
   "name": "python3"
  },
  "language_info": {
   "codemirror_mode": {
    "name": "ipython",
    "version": 3
   },
   "file_extension": ".py",
   "mimetype": "text/x-python",
   "name": "python",
   "nbconvert_exporter": "python",
   "pygments_lexer": "ipython3",
   "version": "3.7.6"
  }
 },
 "nbformat": 4,
 "nbformat_minor": 4
}
