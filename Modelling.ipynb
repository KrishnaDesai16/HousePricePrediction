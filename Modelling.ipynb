{
 "cells": [
  {
   "cell_type": "markdown",
   "metadata": {},
   "source": [
    "## 6. Modeling and Predictions"
   ]
  },
  {
   "cell_type": "code",
   "execution_count": 100,
   "metadata": {},
   "outputs": [
    {
     "name": "stderr",
     "output_type": "stream",
     "text": [
      "C:\\Users\\JESAL\\anaconda3\\lib\\site-packages\\ipykernel_launcher.py:4: FutureWarning:\n",
      "\n",
      "The pandas.datetime class is deprecated and will be removed from pandas in a future version. Import from datetime module instead.\n",
      "\n"
     ]
    },
    {
     "data": {
      "text/html": [
       "        <script type=\"text/javascript\">\n",
       "        window.PlotlyConfig = {MathJaxConfig: 'local'};\n",
       "        if (window.MathJax) {MathJax.Hub.Config({SVG: {font: \"STIX-Web\"}});}\n",
       "        if (typeof require !== 'undefined') {\n",
       "        require.undef(\"plotly\");\n",
       "        requirejs.config({\n",
       "            paths: {\n",
       "                'plotly': ['https://cdn.plot.ly/plotly-latest.min']\n",
       "            }\n",
       "        });\n",
       "        require(['plotly'], function(Plotly) {\n",
       "            window._Plotly = Plotly;\n",
       "        });\n",
       "        }\n",
       "        </script>\n",
       "        "
      ]
     },
     "metadata": {},
     "output_type": "display_data"
    },
    {
     "data": {
      "text/html": [
       "        <script type=\"text/javascript\">\n",
       "        window.PlotlyConfig = {MathJaxConfig: 'local'};\n",
       "        if (window.MathJax) {MathJax.Hub.Config({SVG: {font: \"STIX-Web\"}});}\n",
       "        if (typeof require !== 'undefined') {\n",
       "        require.undef(\"plotly\");\n",
       "        requirejs.config({\n",
       "            paths: {\n",
       "                'plotly': ['https://cdn.plot.ly/plotly-latest.min']\n",
       "            }\n",
       "        });\n",
       "        require(['plotly'], function(Plotly) {\n",
       "            window._Plotly = Plotly;\n",
       "        });\n",
       "        }\n",
       "        </script>\n",
       "        "
      ]
     },
     "metadata": {},
     "output_type": "display_data"
    }
   ],
   "source": [
    "import pandas as pd\n",
    "import numpy as np\n",
    "import datetime\n",
    "from pandas import datetime\n",
    "import matplotlib.pyplot as plt\n",
    "import seaborn as sb\n",
    "import plotly as py\n",
    "from plotly.offline import iplot\n",
    "import plotly.express as px \n",
    "import cufflinks as cf\n",
    "\n",
    "py.offline.init_notebook_mode(connected=True)\n",
    "cf.go_offline()\n"
   ]
  },
  {
   "cell_type": "code",
   "execution_count": 101,
   "metadata": {},
   "outputs": [],
   "source": [
    "from sklearn.metrics import accuracy_score,r2_score,classification_report\n",
    "from sklearn.preprocessing import StandardScaler,MinMaxScaler\n",
    "from sklearn.model_selection import train_test_split\n",
    "from sklearn.linear_model import LinearRegression\n",
    "from sklearn.linear_model import Lasso\n",
    "from sklearn.feature_selection import SelectFromModel\n"
   ]
  },
  {
   "cell_type": "code",
   "execution_count": 102,
   "metadata": {},
   "outputs": [
    {
     "data": {
      "text/html": [
       "<div>\n",
       "<style scoped>\n",
       "    .dataframe tbody tr th:only-of-type {\n",
       "        vertical-align: middle;\n",
       "    }\n",
       "\n",
       "    .dataframe tbody tr th {\n",
       "        vertical-align: top;\n",
       "    }\n",
       "\n",
       "    .dataframe thead th {\n",
       "        text-align: right;\n",
       "    }\n",
       "</style>\n",
       "<table border=\"1\" class=\"dataframe\">\n",
       "  <thead>\n",
       "    <tr style=\"text-align: right;\">\n",
       "      <th></th>\n",
       "      <th>MSSubClass</th>\n",
       "      <th>LotArea</th>\n",
       "      <th>LotShape</th>\n",
       "      <th>OverallQual</th>\n",
       "      <th>OverallCond</th>\n",
       "      <th>YearBuilt</th>\n",
       "      <th>YearRemodAdd</th>\n",
       "      <th>ExterQual</th>\n",
       "      <th>ExterCond</th>\n",
       "      <th>BsmtQual</th>\n",
       "      <th>...</th>\n",
       "      <th>SaleType_ConLI</th>\n",
       "      <th>SaleType_ConLw</th>\n",
       "      <th>SaleType_New</th>\n",
       "      <th>SaleType_Oth</th>\n",
       "      <th>SaleType_WD</th>\n",
       "      <th>SaleCondition_AdjLand</th>\n",
       "      <th>SaleCondition_Alloca</th>\n",
       "      <th>SaleCondition_Family</th>\n",
       "      <th>SaleCondition_Normal</th>\n",
       "      <th>SaleCondition_Partial</th>\n",
       "    </tr>\n",
       "  </thead>\n",
       "  <tbody>\n",
       "    <tr>\n",
       "      <th>0</th>\n",
       "      <td>60</td>\n",
       "      <td>9.041922</td>\n",
       "      <td>3</td>\n",
       "      <td>7</td>\n",
       "      <td>5</td>\n",
       "      <td>2003</td>\n",
       "      <td>2003</td>\n",
       "      <td>4</td>\n",
       "      <td>2</td>\n",
       "      <td>4</td>\n",
       "      <td>...</td>\n",
       "      <td>0</td>\n",
       "      <td>0</td>\n",
       "      <td>0</td>\n",
       "      <td>0</td>\n",
       "      <td>1</td>\n",
       "      <td>0</td>\n",
       "      <td>0</td>\n",
       "      <td>0</td>\n",
       "      <td>1</td>\n",
       "      <td>0</td>\n",
       "    </tr>\n",
       "    <tr>\n",
       "      <th>1</th>\n",
       "      <td>20</td>\n",
       "      <td>9.169518</td>\n",
       "      <td>3</td>\n",
       "      <td>6</td>\n",
       "      <td>8</td>\n",
       "      <td>1976</td>\n",
       "      <td>1976</td>\n",
       "      <td>2</td>\n",
       "      <td>2</td>\n",
       "      <td>4</td>\n",
       "      <td>...</td>\n",
       "      <td>0</td>\n",
       "      <td>0</td>\n",
       "      <td>0</td>\n",
       "      <td>0</td>\n",
       "      <td>1</td>\n",
       "      <td>0</td>\n",
       "      <td>0</td>\n",
       "      <td>0</td>\n",
       "      <td>1</td>\n",
       "      <td>0</td>\n",
       "    </tr>\n",
       "    <tr>\n",
       "      <th>2</th>\n",
       "      <td>60</td>\n",
       "      <td>9.328123</td>\n",
       "      <td>2</td>\n",
       "      <td>7</td>\n",
       "      <td>5</td>\n",
       "      <td>2001</td>\n",
       "      <td>2002</td>\n",
       "      <td>4</td>\n",
       "      <td>2</td>\n",
       "      <td>4</td>\n",
       "      <td>...</td>\n",
       "      <td>0</td>\n",
       "      <td>0</td>\n",
       "      <td>0</td>\n",
       "      <td>0</td>\n",
       "      <td>1</td>\n",
       "      <td>0</td>\n",
       "      <td>0</td>\n",
       "      <td>0</td>\n",
       "      <td>1</td>\n",
       "      <td>0</td>\n",
       "    </tr>\n",
       "    <tr>\n",
       "      <th>3</th>\n",
       "      <td>60</td>\n",
       "      <td>9.565214</td>\n",
       "      <td>2</td>\n",
       "      <td>8</td>\n",
       "      <td>5</td>\n",
       "      <td>2000</td>\n",
       "      <td>2000</td>\n",
       "      <td>4</td>\n",
       "      <td>2</td>\n",
       "      <td>4</td>\n",
       "      <td>...</td>\n",
       "      <td>0</td>\n",
       "      <td>0</td>\n",
       "      <td>0</td>\n",
       "      <td>0</td>\n",
       "      <td>1</td>\n",
       "      <td>0</td>\n",
       "      <td>0</td>\n",
       "      <td>0</td>\n",
       "      <td>1</td>\n",
       "      <td>0</td>\n",
       "    </tr>\n",
       "    <tr>\n",
       "      <th>4</th>\n",
       "      <td>50</td>\n",
       "      <td>9.554993</td>\n",
       "      <td>2</td>\n",
       "      <td>5</td>\n",
       "      <td>5</td>\n",
       "      <td>1993</td>\n",
       "      <td>1995</td>\n",
       "      <td>2</td>\n",
       "      <td>2</td>\n",
       "      <td>4</td>\n",
       "      <td>...</td>\n",
       "      <td>0</td>\n",
       "      <td>0</td>\n",
       "      <td>0</td>\n",
       "      <td>0</td>\n",
       "      <td>1</td>\n",
       "      <td>0</td>\n",
       "      <td>0</td>\n",
       "      <td>0</td>\n",
       "      <td>1</td>\n",
       "      <td>0</td>\n",
       "    </tr>\n",
       "  </tbody>\n",
       "</table>\n",
       "<p>5 rows × 175 columns</p>\n",
       "</div>"
      ],
      "text/plain": [
       "   MSSubClass   LotArea  LotShape  OverallQual  OverallCond  YearBuilt  \\\n",
       "0          60  9.041922         3            7            5       2003   \n",
       "1          20  9.169518         3            6            8       1976   \n",
       "2          60  9.328123         2            7            5       2001   \n",
       "3          60  9.565214         2            8            5       2000   \n",
       "4          50  9.554993         2            5            5       1993   \n",
       "\n",
       "   YearRemodAdd  ExterQual  ExterCond  BsmtQual  ...  SaleType_ConLI  \\\n",
       "0          2003          4          2         4  ...               0   \n",
       "1          1976          2          2         4  ...               0   \n",
       "2          2002          4          2         4  ...               0   \n",
       "3          2000          4          2         4  ...               0   \n",
       "4          1995          2          2         4  ...               0   \n",
       "\n",
       "   SaleType_ConLw  SaleType_New  SaleType_Oth  SaleType_WD  \\\n",
       "0               0             0             0            1   \n",
       "1               0             0             0            1   \n",
       "2               0             0             0            1   \n",
       "3               0             0             0            1   \n",
       "4               0             0             0            1   \n",
       "\n",
       "   SaleCondition_AdjLand  SaleCondition_Alloca  SaleCondition_Family  \\\n",
       "0                      0                     0                     0   \n",
       "1                      0                     0                     0   \n",
       "2                      0                     0                     0   \n",
       "3                      0                     0                     0   \n",
       "4                      0                     0                     0   \n",
       "\n",
       "   SaleCondition_Normal  SaleCondition_Partial  \n",
       "0                     1                      0  \n",
       "1                     1                      0  \n",
       "2                     1                      0  \n",
       "3                     1                      0  \n",
       "4                     1                      0  \n",
       "\n",
       "[5 rows x 175 columns]"
      ]
     },
     "execution_count": 102,
     "metadata": {},
     "output_type": "execute_result"
    }
   ],
   "source": [
    "df=pd.read_csv('FinalDF.csv')\n",
    "df.head()"
   ]
  },
  {
   "cell_type": "code",
   "execution_count": 103,
   "metadata": {},
   "outputs": [],
   "source": [
    "X=df.drop('SalePrice',axis=1)\n",
    "y=df[['SalePrice']]"
   ]
  },
  {
   "cell_type": "code",
   "execution_count": 104,
   "metadata": {},
   "outputs": [
    {
     "data": {
      "text/plain": [
       "(1169, 174)"
      ]
     },
     "execution_count": 104,
     "metadata": {},
     "output_type": "execute_result"
    }
   ],
   "source": [
    "X.shape"
   ]
  },
  {
   "cell_type": "code",
   "execution_count": 105,
   "metadata": {},
   "outputs": [
    {
     "data": {
      "text/html": [
       "<div>\n",
       "<style scoped>\n",
       "    .dataframe tbody tr th:only-of-type {\n",
       "        vertical-align: middle;\n",
       "    }\n",
       "\n",
       "    .dataframe tbody tr th {\n",
       "        vertical-align: top;\n",
       "    }\n",
       "\n",
       "    .dataframe thead th {\n",
       "        text-align: right;\n",
       "    }\n",
       "</style>\n",
       "<table border=\"1\" class=\"dataframe\">\n",
       "  <thead>\n",
       "    <tr style=\"text-align: right;\">\n",
       "      <th></th>\n",
       "      <th>SalePrice</th>\n",
       "    </tr>\n",
       "  </thead>\n",
       "  <tbody>\n",
       "    <tr>\n",
       "      <th>0</th>\n",
       "      <td>208500</td>\n",
       "    </tr>\n",
       "    <tr>\n",
       "      <th>1</th>\n",
       "      <td>181500</td>\n",
       "    </tr>\n",
       "    <tr>\n",
       "      <th>2</th>\n",
       "      <td>223500</td>\n",
       "    </tr>\n",
       "    <tr>\n",
       "      <th>3</th>\n",
       "      <td>250000</td>\n",
       "    </tr>\n",
       "    <tr>\n",
       "      <th>4</th>\n",
       "      <td>143000</td>\n",
       "    </tr>\n",
       "    <tr>\n",
       "      <th>...</th>\n",
       "      <td>...</td>\n",
       "    </tr>\n",
       "    <tr>\n",
       "      <th>1164</th>\n",
       "      <td>84500</td>\n",
       "    </tr>\n",
       "    <tr>\n",
       "      <th>1165</th>\n",
       "      <td>185000</td>\n",
       "    </tr>\n",
       "    <tr>\n",
       "      <th>1166</th>\n",
       "      <td>175000</td>\n",
       "    </tr>\n",
       "    <tr>\n",
       "      <th>1167</th>\n",
       "      <td>210000</td>\n",
       "    </tr>\n",
       "    <tr>\n",
       "      <th>1168</th>\n",
       "      <td>266500</td>\n",
       "    </tr>\n",
       "  </tbody>\n",
       "</table>\n",
       "<p>1169 rows × 1 columns</p>\n",
       "</div>"
      ],
      "text/plain": [
       "      SalePrice\n",
       "0        208500\n",
       "1        181500\n",
       "2        223500\n",
       "3        250000\n",
       "4        143000\n",
       "...         ...\n",
       "1164      84500\n",
       "1165     185000\n",
       "1166     175000\n",
       "1167     210000\n",
       "1168     266500\n",
       "\n",
       "[1169 rows x 1 columns]"
      ]
     },
     "execution_count": 105,
     "metadata": {},
     "output_type": "execute_result"
    }
   ],
   "source": [
    "y"
   ]
  },
  {
   "cell_type": "markdown",
   "metadata": {},
   "source": [
    "###  Feature Importence & Selection"
   ]
  },
  {
   "cell_type": "code",
   "execution_count": 106,
   "metadata": {},
   "outputs": [
    {
     "name": "stderr",
     "output_type": "stream",
     "text": [
      "C:\\Users\\JESAL\\anaconda3\\lib\\site-packages\\ipykernel_launcher.py:3: DataConversionWarning:\n",
      "\n",
      "A column-vector y was passed when a 1d array was expected. Please change the shape of y to (n_samples,), for example using ravel().\n",
      "\n"
     ]
    },
    {
     "data": {
      "text/plain": [
       "ExtraTreesRegressor(bootstrap=False, ccp_alpha=0.0, criterion='mse',\n",
       "                    max_depth=None, max_features='auto', max_leaf_nodes=None,\n",
       "                    max_samples=None, min_impurity_decrease=0.0,\n",
       "                    min_impurity_split=None, min_samples_leaf=1,\n",
       "                    min_samples_split=2, min_weight_fraction_leaf=0.0,\n",
       "                    n_estimators=100, n_jobs=None, oob_score=False,\n",
       "                    random_state=None, verbose=0, warm_start=False)"
      ]
     },
     "execution_count": 106,
     "metadata": {},
     "output_type": "execute_result"
    }
   ],
   "source": [
    "from sklearn.ensemble import ExtraTreesRegressor\n",
    "model=ExtraTreesRegressor()\n",
    "model.fit(X,y)"
   ]
  },
  {
   "cell_type": "code",
   "execution_count": 114,
   "metadata": {},
   "outputs": [
    {
     "data": {
      "text/plain": [
       "array([2.07141244e-03, 3.64829393e-03, 2.23972030e-03, 1.67085791e-01,\n",
       "       5.12967714e-03, 1.62364285e-02, 5.95761513e-03, 1.85574441e-01,\n",
       "       1.02595803e-03, 3.24152479e-02, 1.01882634e-03, 2.66829891e-03,\n",
       "       5.13928885e-03, 1.54473092e-02, 2.39719246e-04, 2.81568323e-04,\n",
       "       3.84502145e-03, 1.02665096e-03, 1.02066795e-02, 3.09081616e-04,\n",
       "       3.42351365e-02, 1.09146433e-03, 4.63695988e-03, 9.67390644e-04,\n",
       "       5.70821452e-02, 5.08661523e-03, 1.27905188e-02, 9.20629579e-04,\n",
       "       3.98101815e-02, 1.45214138e-02, 3.23659667e-04, 2.83246135e-04,\n",
       "       2.40728509e-03, 2.87490167e-03, 1.64375038e-03, 1.60538759e-03,\n",
       "       6.74796369e-04, 4.10779144e-05, 1.26258436e-04, 2.54007291e-03,\n",
       "       2.18542171e-03, 2.35481639e-03, 2.57799959e-03, 2.62883503e-03,\n",
       "       1.41833084e-02, 2.92433300e-02, 2.08956901e-01, 3.21920610e-04,\n",
       "       6.02325645e-05, 2.30326242e-03, 1.76140987e-03, 2.36407299e-03,\n",
       "       1.72914090e-04, 1.56194079e-03, 4.38341402e-04, 3.85455339e-04,\n",
       "       3.20049181e-05, 1.51478100e-03, 1.89793774e-03, 2.43347053e-05,\n",
       "       3.09222278e-04, 2.93492411e-04, 1.62293106e-03, 3.23719422e-03,\n",
       "       9.91519931e-04, 6.27967493e-04, 2.27314600e-04, 5.36803530e-05,\n",
       "       1.45368529e-04, 6.28038521e-04, 1.87227500e-05, 3.53149750e-04,\n",
       "       7.48821740e-04, 1.93258404e-03, 1.22009644e-03, 1.76241055e-04,\n",
       "       3.15888416e-04, 3.08031431e-04, 1.36035523e-03, 9.64649662e-04,\n",
       "       4.86685805e-04, 3.28732669e-05, 2.58831723e-04, 7.16180890e-04,\n",
       "       2.91757820e-04, 1.13866816e-04, 1.94855359e-04, 9.44581430e-05,\n",
       "       1.23102688e-05, 3.66808079e-06, 1.30325988e-04, 1.01444030e-04,\n",
       "       5.58570891e-05, 9.19548973e-04, 3.40826073e-05, 1.47579839e-03,\n",
       "       8.89081777e-05, 3.00094108e-05, 4.29479157e-03, 4.07331662e-05,\n",
       "       5.03731811e-04, 1.24976361e-03, 2.03017355e-04, 1.94185722e-03,\n",
       "       4.71835003e-05, 1.12614712e-07, 2.28859934e-06, 1.62879187e-04,\n",
       "       2.01364726e-03, 3.82760944e-06, 4.67514677e-04, 5.22330359e-04,\n",
       "       1.64612558e-06, 1.16604499e-03, 5.84805708e-04, 4.03118960e-06,\n",
       "       1.65810244e-04, 1.08627306e-03, 6.23488478e-04, 1.51026399e-04,\n",
       "       3.53514192e-06, 2.51952391e-04, 1.38800764e-04, 6.60829387e-08,\n",
       "       3.13526956e-04, 5.43569402e-04, 1.06553743e-05, 7.62739638e-04,\n",
       "       2.17597389e-07, 5.88506293e-04, 7.87151048e-06, 2.65225782e-04,\n",
       "       1.27345935e-03, 8.16417283e-04, 1.90674213e-04, 1.11419793e-03,\n",
       "       2.38387273e-03, 1.46312896e-03, 9.07515358e-04, 1.55015051e-03,\n",
       "       5.91226595e-05, 9.06441684e-06, 1.41898631e-05, 1.20523291e-04,\n",
       "       5.21938753e-06, 1.42818744e-05, 3.55126915e-04, 4.07214136e-04,\n",
       "       9.40279274e-05, 2.31784293e-04, 2.13177752e-04, 1.08592927e-03,\n",
       "       1.62902963e-03, 5.87426693e-05, 6.00701740e-04, 6.48188851e-05,\n",
       "       2.90004796e-03, 2.53328472e-03, 9.82471140e-03, 2.09550136e-04,\n",
       "       1.08758849e-03, 1.61323951e-04, 6.55943802e-05, 5.47954260e-05,\n",
       "       4.70675872e-05, 2.91357809e-05, 2.27727582e-03, 1.79515291e-05,\n",
       "       1.08874407e-03, 7.72549958e-06, 4.76233593e-04, 1.06478835e-03,\n",
       "       2.54634451e-03, 2.04611926e-03])"
      ]
     },
     "execution_count": 114,
     "metadata": {},
     "output_type": "execute_result"
    }
   ],
   "source": [
    "model.feature_importances_"
   ]
  },
  {
   "cell_type": "code",
   "execution_count": 115,
   "metadata": {},
   "outputs": [
    {
     "data": {
      "text/plain": [
       "<matplotlib.axes._subplots.AxesSubplot at 0x2672cb26748>"
      ]
     },
     "execution_count": 115,
     "metadata": {},
     "output_type": "execute_result"
    },
    {
     "data": {
      "image/png": "[encoded data removed]",
      "text/plain": [
       "<Figure size 432x720 with 1 Axes>"
      ]
     },
     "metadata": {
      "needs_background": "light"
     },
     "output_type": "display_data"
    }
   ],
   "source": [
    "plt.figure(figsize=(6,10))\n",
    "feature_importance=pd.Series(data=model.feature_importances_,index=X.columns)\n",
    "feature_importance.nlargest(40).plot(kind='barh')"
   ]
  },
  {
   "cell_type": "code",
   "execution_count": 109,
   "metadata": {},
   "outputs": [],
   "source": [
    "## use Lasso Regression to select the features "
   ]
  },
  {
   "cell_type": "code",
   "execution_count": 11,
   "metadata": {},
   "outputs": [
    {
     "name": "stderr",
     "output_type": "stream",
     "text": [
      "C:\\Users\\JESAL\\anaconda3\\lib\\site-packages\\sklearn\\linear_model\\_coordinate_descent.py:476: ConvergenceWarning:\n",
      "\n",
      "Objective did not converge. You might want to increase the number of iterations. Duality gap: 161862069180.39658, tolerance: 479511060.25518304\n",
      "\n"
     ]
    },
    {
     "data": {
      "text/plain": [
       "SelectFromModel(estimator=Lasso(alpha=0.05, copy_X=True, fit_intercept=True,\n",
       "                                max_iter=1000, normalize=False, positive=False,\n",
       "                                precompute=False, random_state=20,\n",
       "                                selection='cyclic', tol=0.0001,\n",
       "                                warm_start=False),\n",
       "                max_features=None, norm_order=1, prefit=False, threshold=None)"
      ]
     },
     "execution_count": 11,
     "metadata": {},
     "output_type": "execute_result"
    }
   ],
   "source": [
    "feature_Sel_model=SelectFromModel(Lasso(alpha=0.05,random_state=20))\n",
    "feature_Sel_model.fit(X,y)\n"
   ]
  },
  {
   "cell_type": "code",
   "execution_count": 12,
   "metadata": {},
   "outputs": [
    {
     "data": {
      "text/plain": [
       "array([ True,  True,  True,  True,  True,  True,  True,  True,  True,\n",
       "        True,  True,  True,  True,  True,  True,  True,  True,  True,\n",
       "        True,  True,  True,  True,  True,  True,  True,  True,  True,\n",
       "        True,  True,  True,  True,  True,  True,  True,  True,  True,\n",
       "        True,  True,  True,  True,  True,  True,  True,  True,  True,\n",
       "        True,  True,  True,  True,  True,  True,  True,  True,  True,\n",
       "        True,  True,  True,  True,  True,  True,  True,  True,  True,\n",
       "        True,  True,  True,  True,  True,  True,  True,  True,  True,\n",
       "        True,  True,  True,  True,  True,  True,  True,  True,  True,\n",
       "        True,  True,  True,  True,  True,  True,  True,  True,  True,\n",
       "        True,  True,  True,  True,  True,  True,  True,  True,  True,\n",
       "        True,  True,  True,  True,  True,  True,  True,  True, False,\n",
       "        True,  True,  True,  True,  True,  True,  True,  True,  True,\n",
       "        True,  True,  True,  True,  True,  True,  True,  True,  True,\n",
       "        True,  True,  True,  True,  True,  True,  True,  True,  True,\n",
       "        True,  True,  True,  True,  True,  True,  True,  True,  True,\n",
       "        True,  True,  True,  True,  True,  True,  True,  True,  True,\n",
       "        True,  True,  True,  True,  True,  True,  True,  True,  True,\n",
       "        True,  True,  True,  True,  True,  True,  True,  True,  True,\n",
       "        True,  True,  True])"
      ]
     },
     "execution_count": 12,
     "metadata": {},
     "output_type": "execute_result"
    }
   ],
   "source": [
    "feature_Sel_model.get_support()"
   ]
  },
  {
   "cell_type": "code",
   "execution_count": 14,
   "metadata": {},
   "outputs": [
    {
     "name": "stdout",
     "output_type": "stream",
     "text": [
      "total features:174\n",
      "selected feature:173 \n",
      "feature with coeeficient sharnk to zero:1\n"
     ]
    }
   ],
   "source": [
    "selected_feature=X.columns[(feature_Sel_model.get_support())]\n",
    "print('total features:{}'.format((X.shape[1])))\n",
    "print('selected feature:{} '.format(len(selected_feature)))\n",
    "print('feature with coeeficient sharnk to zero:{}'.format(np.sum(feature_Sel_model.estimator_.coef_==0))) #skipped features"
   ]
  },
  {
   "cell_type": "code",
   "execution_count": 15,
   "metadata": {},
   "outputs": [],
   "source": [
    "#Split data into train and test set"
   ]
  },
  {
   "cell_type": "code",
   "execution_count": 16,
   "metadata": {},
   "outputs": [],
   "source": [
    "X_train,X_test,y_train,y_test=train_test_split(X,y,test_size=0.3,random_state=10)"
   ]
  },
  {
   "cell_type": "markdown",
   "metadata": {},
   "source": [
    "### Modelling\n",
    "- LinearRegression\n",
    "- xgbboostRegressor"
   ]
  },
  {
   "cell_type": "markdown",
   "metadata": {},
   "source": [
    "###  - Linear Regression"
   ]
  },
  {
   "cell_type": "code",
   "execution_count": 17,
   "metadata": {},
   "outputs": [],
   "source": [
    "model=LinearRegression()\n",
    "model.fit(X_train,y_train)\n",
    "y_pred=model.predict(X_test)"
   ]
  },
  {
   "cell_type": "code",
   "execution_count": 18,
   "metadata": {},
   "outputs": [
    {
     "data": {
      "text/plain": [
       "array([[150111.80844635],\n",
       "       [263573.98569127],\n",
       "       [187633.51830334],\n",
       "       [173680.8462803 ],\n",
       "       [171244.40102515],\n",
       "       [150446.32896697],\n",
       "       [163452.24752227],\n",
       "       [175672.46875834],\n",
       "       [148440.68730685],\n",
       "       [150183.56468541],\n",
       "       [185327.7607771 ],\n",
       "       [116441.17524578],\n",
       "       [ 47378.00820161],\n",
       "       [203266.561896  ],\n",
       "       [282321.79550888],\n",
       "       [220668.72156603],\n",
       "       [118596.76970142],\n",
       "       [106958.89059077],\n",
       "       [ 75356.73786522],\n",
       "       [158357.77190061],\n",
       "       [112927.81988375],\n",
       "       [138098.06722594],\n",
       "       [278008.96070444],\n",
       "       [167237.64929546],\n",
       "       [140101.88750647],\n",
       "       [308195.35540126],\n",
       "       [105057.21488633],\n",
       "       [112274.361208  ],\n",
       "       [114461.02846341],\n",
       "       [191231.76762202],\n",
       "       [135969.15858706],\n",
       "       [154134.40542747],\n",
       "       [159592.93282744],\n",
       "       [164167.7228416 ],\n",
       "       [113410.21140392],\n",
       "       [128612.47911494],\n",
       "       [ 92133.96281784],\n",
       "       [252945.45075689],\n",
       "       [216762.81533402],\n",
       "       [102424.21748616],\n",
       "       [147216.45186054],\n",
       "       [189846.7280283 ],\n",
       "       [229938.38299817],\n",
       "       [331653.37370365],\n",
       "       [122265.90281327],\n",
       "       [258541.66586668],\n",
       "       [283592.782101  ],\n",
       "       [262070.80729479],\n",
       "       [112078.80925345],\n",
       "       [263376.46659427],\n",
       "       [104164.71648055],\n",
       "       [127502.77704462],\n",
       "       [283934.22940737],\n",
       "       [ 80455.93800009],\n",
       "       [199956.33796004],\n",
       "       [189182.68839158],\n",
       "       [ 95465.31147969],\n",
       "       [136229.03852481],\n",
       "       [227407.19580807],\n",
       "       [137171.58477289],\n",
       "       [164079.16693796],\n",
       "       [154345.65873845],\n",
       "       [ 74409.62560135],\n",
       "       [172076.67012785],\n",
       "       [244209.83208459],\n",
       "       [129550.22099952],\n",
       "       [344539.57387171],\n",
       "       [138850.7255448 ],\n",
       "       [220245.9836995 ],\n",
       "       [210489.7222125 ],\n",
       "       [201051.19121541],\n",
       "       [140551.22242569],\n",
       "       [193517.94279296],\n",
       "       [124006.07352571],\n",
       "       [285690.69810158],\n",
       "       [337004.13344913],\n",
       "       [332795.51944878],\n",
       "       [ 89340.74172506],\n",
       "       [214433.54202638],\n",
       "       [104129.20281546],\n",
       "       [118405.83683788],\n",
       "       [197769.64035091],\n",
       "       [178521.88506029],\n",
       "       [128850.93377647],\n",
       "       [162524.76229388],\n",
       "       [152332.1756579 ],\n",
       "       [134522.09337944],\n",
       "       [231579.76058379],\n",
       "       [173079.36590223],\n",
       "       [140284.64322343],\n",
       "       [111841.89076779],\n",
       "       [ 88162.81075698],\n",
       "       [181188.52031933],\n",
       "       [106790.09508091],\n",
       "       [116875.10495887],\n",
       "       [ 51314.72467806],\n",
       "       [263401.34003201],\n",
       "       [100882.86169383],\n",
       "       [110078.97197797],\n",
       "       [169761.64282584],\n",
       "       [275940.01049869],\n",
       "       [130882.89814518],\n",
       "       [186800.53117068],\n",
       "       [180164.80696013],\n",
       "       [215443.21620934],\n",
       "       [ 66096.78490735],\n",
       "       [181385.67139574],\n",
       "       [107305.74548661],\n",
       "       [152951.28819352],\n",
       "       [105593.73872404],\n",
       "       [184125.80567529],\n",
       "       [204918.33069148],\n",
       "       [156664.53916644],\n",
       "       [207475.61067282],\n",
       "       [201805.39638052],\n",
       "       [180019.46862697],\n",
       "       [307577.68689672],\n",
       "       [125579.77386149],\n",
       "       [300609.26918159],\n",
       "       [163844.24679802],\n",
       "       [141231.43930433],\n",
       "       [171871.17124684],\n",
       "       [168983.59046536],\n",
       "       [115396.10160028],\n",
       "       [175388.10858032],\n",
       "       [174383.77056026],\n",
       "       [319613.03493082],\n",
       "       [157888.44289643],\n",
       "       [110905.41462964],\n",
       "       [221743.63508475],\n",
       "       [226171.01749488],\n",
       "       [206418.155085  ],\n",
       "       [314892.59332951],\n",
       "       [ 86496.27888855],\n",
       "       [167845.18249791],\n",
       "       [100110.99126036],\n",
       "       [150448.66441684],\n",
       "       [124609.04450298],\n",
       "       [159537.32313319],\n",
       "       [141207.55771624],\n",
       "       [175117.08762363],\n",
       "       [131682.09239786],\n",
       "       [301418.42811038],\n",
       "       [228567.88104844],\n",
       "       [ 89807.58570842],\n",
       "       [188802.77055764],\n",
       "       [259722.63243202],\n",
       "       [126956.77619459],\n",
       "       [240961.05472666],\n",
       "       [136495.51103727],\n",
       "       [233917.56561943],\n",
       "       [257386.49973303],\n",
       "       [234194.48166877],\n",
       "       [144868.02424159],\n",
       "       [165186.45035328],\n",
       "       [143553.44180264],\n",
       "       [130674.34823117],\n",
       "       [218652.3343026 ],\n",
       "       [101597.69787016],\n",
       "       [132853.52128302],\n",
       "       [101774.57361712],\n",
       "       [126554.24746115],\n",
       "       [105677.3840576 ],\n",
       "       [125454.05994774],\n",
       "       [155998.14180809],\n",
       "       [173325.58440689],\n",
       "       [163998.74542279],\n",
       "       [231039.58989886],\n",
       "       [136402.73150916],\n",
       "       [126470.99404432],\n",
       "       [359182.34407135],\n",
       "       [158556.40064022],\n",
       "       [110152.21261236],\n",
       "       [139006.34552113],\n",
       "       [223906.38231884],\n",
       "       [ 82717.36479768],\n",
       "       [135324.18305659],\n",
       "       [247502.16671732],\n",
       "       [ 94096.77649895],\n",
       "       [117742.39978831],\n",
       "       [283738.49850438],\n",
       "       [157023.17949293],\n",
       "       [221254.30898247],\n",
       "       [286929.89497676],\n",
       "       [102282.36284479],\n",
       "       [229645.11607499],\n",
       "       [221954.67511009],\n",
       "       [153004.75032223],\n",
       "       [139470.55998324],\n",
       "       [105637.82550875],\n",
       "       [118519.49085246],\n",
       "       [203943.50432289],\n",
       "       [194236.36121983],\n",
       "       [115652.97611248],\n",
       "       [226219.30521776],\n",
       "       [140024.53653941],\n",
       "       [240581.54303392],\n",
       "       [137554.35704868],\n",
       "       [228051.69711674],\n",
       "       [140302.06384298],\n",
       "       [211178.23557074],\n",
       "       [123208.39822817],\n",
       "       [202478.88859833],\n",
       "       [216468.50708855],\n",
       "       [124413.87361143],\n",
       "       [164645.76988755],\n",
       "       [311466.01035781],\n",
       "       [157501.37550693],\n",
       "       [102030.07837046],\n",
       "       [233285.33056224],\n",
       "       [ 82655.94822652],\n",
       "       [ 56938.97570884],\n",
       "       [207078.89069732],\n",
       "       [302751.52442394],\n",
       "       [129700.40296573],\n",
       "       [178264.28636891],\n",
       "       [319561.44032656],\n",
       "       [152495.33074734],\n",
       "       [ 55011.66704515],\n",
       "       [224904.9231992 ],\n",
       "       [154944.42578491],\n",
       "       [ 97159.57776644],\n",
       "       [225889.04417062],\n",
       "       [109497.73122045],\n",
       "       [174251.02836391],\n",
       "       [202690.2596431 ],\n",
       "       [191332.83989487],\n",
       "       [130285.83476305],\n",
       "       [159392.42398656],\n",
       "       [152664.70042801],\n",
       "       [179979.30989621],\n",
       "       [203386.36200715],\n",
       "       [ 98055.69745392],\n",
       "       [132359.95881932],\n",
       "       [120142.02425953],\n",
       "       [208152.04668298],\n",
       "       [143781.98889155],\n",
       "       [128622.82752366],\n",
       "       [142200.86635171],\n",
       "       [109212.54971875],\n",
       "       [279245.49330561],\n",
       "       [208099.36238478],\n",
       "       [123102.60460575],\n",
       "       [263957.98444963],\n",
       "       [126655.89265177],\n",
       "       [280876.07575775],\n",
       "       [237131.71654825],\n",
       "       [125971.02720217],\n",
       "       [152957.68964071],\n",
       "       [337121.46837562],\n",
       "       [174014.19326668],\n",
       "       [162743.70758685],\n",
       "       [114390.5322254 ],\n",
       "       [255178.75574046],\n",
       "       [205121.90749992],\n",
       "       [345091.07562191],\n",
       "       [124843.4803506 ],\n",
       "       [ 71854.38249615],\n",
       "       [ 81750.41859135],\n",
       "       [100588.64689694],\n",
       "       [132939.66762721],\n",
       "       [164193.55848295],\n",
       "       [197819.76736234],\n",
       "       [130316.4853614 ],\n",
       "       [268737.93708396],\n",
       "       [103899.07779941],\n",
       "       [147419.48583046],\n",
       "       [173028.32815065],\n",
       "       [121145.60116525],\n",
       "       [141733.88408507],\n",
       "       [ 88517.52643911],\n",
       "       [221639.70620791],\n",
       "       [211712.10098599],\n",
       "       [131042.42231946],\n",
       "       [242908.03038776],\n",
       "       [195909.07971598],\n",
       "       [175629.79157098],\n",
       "       [139824.85254679],\n",
       "       [216975.67799773],\n",
       "       [128524.29120872],\n",
       "       [160025.0322909 ],\n",
       "       [242495.24389785],\n",
       "       [237367.9407211 ],\n",
       "       [110925.97880822],\n",
       "       [126939.46245256],\n",
       "       [178728.58038282],\n",
       "       [117005.32049885],\n",
       "       [159465.02235125],\n",
       "       [131042.02731275],\n",
       "       [189834.67813695],\n",
       "       [336760.5315582 ],\n",
       "       [165839.65447039],\n",
       "       [ 96328.08853758],\n",
       "       [132824.8475166 ],\n",
       "       [144597.38871608],\n",
       "       [141422.43413775],\n",
       "       [338196.1923977 ],\n",
       "       [111433.58162779],\n",
       "       [169027.49353867],\n",
       "       [122536.80745931],\n",
       "       [119246.94614441],\n",
       "       [239694.01985759],\n",
       "       [210852.47366699],\n",
       "       [236851.1141976 ],\n",
       "       [217136.73999663],\n",
       "       [116946.67040248],\n",
       "       [121944.15684661],\n",
       "       [ 69191.97966362],\n",
       "       [195084.0612845 ],\n",
       "       [115556.07649026],\n",
       "       [159482.66858821],\n",
       "       [250603.8559801 ],\n",
       "       [204418.12073996],\n",
       "       [204867.24643624],\n",
       "       [142614.22804737],\n",
       "       [107409.72375301],\n",
       "       [175776.95954549],\n",
       "       [199450.51268728],\n",
       "       [254689.07934956],\n",
       "       [214125.99894849],\n",
       "       [230453.74901571],\n",
       "       [124967.56797012],\n",
       "       [160982.15483388],\n",
       "       [138708.87381211],\n",
       "       [132129.07400913],\n",
       "       [202605.72054818],\n",
       "       [225311.00780275],\n",
       "       [190579.33819814],\n",
       "       [136740.19486806],\n",
       "       [ 97416.00521068],\n",
       "       [199799.00135756],\n",
       "       [210994.83785013],\n",
       "       [108901.10650178],\n",
       "       [289055.14995692],\n",
       "       [233564.56976045],\n",
       "       [246265.79814481],\n",
       "       [119308.07690767],\n",
       "       [114172.02031491],\n",
       "       [120970.97663842],\n",
       "       [306293.22371184],\n",
       "       [214397.49284365],\n",
       "       [248382.84094666],\n",
       "       [166167.55128426],\n",
       "       [179341.03808687],\n",
       "       [109706.68266725],\n",
       "       [169833.25938649],\n",
       "       [110359.99505752],\n",
       "       [275297.43412615],\n",
       "       [141908.9246491 ],\n",
       "       [133891.18450618],\n",
       "       [248723.45777037]])"
      ]
     },
     "execution_count": 18,
     "metadata": {},
     "output_type": "execute_result"
    }
   ],
   "source": [
    "y_pred"
   ]
  },
  {
   "cell_type": "code",
   "execution_count": 19,
   "metadata": {},
   "outputs": [
    {
     "data": {
      "text/html": [
       "<div>\n",
       "<style scoped>\n",
       "    .dataframe tbody tr th:only-of-type {\n",
       "        vertical-align: middle;\n",
       "    }\n",
       "\n",
       "    .dataframe tbody tr th {\n",
       "        vertical-align: top;\n",
       "    }\n",
       "\n",
       "    .dataframe thead th {\n",
       "        text-align: right;\n",
       "    }\n",
       "</style>\n",
       "<table border=\"1\" class=\"dataframe\">\n",
       "  <thead>\n",
       "    <tr style=\"text-align: right;\">\n",
       "      <th></th>\n",
       "      <th>SalePrice</th>\n",
       "    </tr>\n",
       "  </thead>\n",
       "  <tbody>\n",
       "    <tr>\n",
       "      <th>663</th>\n",
       "      <td>167000</td>\n",
       "    </tr>\n",
       "    <tr>\n",
       "      <th>69</th>\n",
       "      <td>260000</td>\n",
       "    </tr>\n",
       "    <tr>\n",
       "      <th>43</th>\n",
       "      <td>177000</td>\n",
       "    </tr>\n",
       "    <tr>\n",
       "      <th>838</th>\n",
       "      <td>165000</td>\n",
       "    </tr>\n",
       "    <tr>\n",
       "      <th>366</th>\n",
       "      <td>175500</td>\n",
       "    </tr>\n",
       "    <tr>\n",
       "      <th>...</th>\n",
       "      <td>...</td>\n",
       "    </tr>\n",
       "    <tr>\n",
       "      <th>298</th>\n",
       "      <td>125000</td>\n",
       "    </tr>\n",
       "    <tr>\n",
       "      <th>195</th>\n",
       "      <td>318000</td>\n",
       "    </tr>\n",
       "    <tr>\n",
       "      <th>425</th>\n",
       "      <td>107500</td>\n",
       "    </tr>\n",
       "    <tr>\n",
       "      <th>695</th>\n",
       "      <td>116000</td>\n",
       "    </tr>\n",
       "    <tr>\n",
       "      <th>171</th>\n",
       "      <td>277000</td>\n",
       "    </tr>\n",
       "  </tbody>\n",
       "</table>\n",
       "<p>351 rows × 1 columns</p>\n",
       "</div>"
      ],
      "text/plain": [
       "     SalePrice\n",
       "663     167000\n",
       "69      260000\n",
       "43      177000\n",
       "838     165000\n",
       "366     175500\n",
       "..         ...\n",
       "298     125000\n",
       "195     318000\n",
       "425     107500\n",
       "695     116000\n",
       "171     277000\n",
       "\n",
       "[351 rows x 1 columns]"
      ]
     },
     "execution_count": 19,
     "metadata": {},
     "output_type": "execute_result"
    }
   ],
   "source": [
    "y_test"
   ]
  },
  {
   "cell_type": "code",
   "execution_count": 20,
   "metadata": {},
   "outputs": [
    {
     "data": {
      "text/plain": [
       "0.9315996289119574"
      ]
     },
     "execution_count": 20,
     "metadata": {},
     "output_type": "execute_result"
    }
   ],
   "source": [
    "#check bais of data\n",
    "model.score(X_train,y_train)"
   ]
  },
  {
   "cell_type": "code",
   "execution_count": 21,
   "metadata": {},
   "outputs": [],
   "source": [
    "#check variance of data"
   ]
  },
  {
   "cell_type": "code",
   "execution_count": 22,
   "metadata": {},
   "outputs": [
    {
     "data": {
      "text/plain": [
       "0.9122935703372458"
      ]
     },
     "execution_count": 22,
     "metadata": {},
     "output_type": "execute_result"
    }
   ],
   "source": [
    "model.score(X_test,y_test)"
   ]
  },
  {
   "cell_type": "code",
   "execution_count": 23,
   "metadata": {},
   "outputs": [
    {
     "data": {
      "text/plain": [
       "<matplotlib.axes._subplots.AxesSubplot at 0x26724b00d88>"
      ]
     },
     "execution_count": 23,
     "metadata": {},
     "output_type": "execute_result"
    },
    {
     "data": {
      "image/png": "[encoded data removed]",
      "text/plain": [
       "<Figure size 432x288 with 1 Axes>"
      ]
     },
     "metadata": {
      "needs_background": "light"
     },
     "output_type": "display_data"
    }
   ],
   "source": [
    "sb.distplot(y_test-y_pred)"
   ]
  },
  {
   "cell_type": "code",
   "execution_count": 24,
   "metadata": {},
   "outputs": [
    {
     "data": {
      "text/plain": [
       "<matplotlib.axes._subplots.AxesSubplot at 0x26724cd2208>"
      ]
     },
     "execution_count": 24,
     "metadata": {},
     "output_type": "execute_result"
    },
    {
     "data": {
      "image/png": "[encoded data removed]",
      "text/plain": [
       "<Figure size 432x288 with 1 Axes>"
      ]
     },
     "metadata": {
      "needs_background": "light"
     },
     "output_type": "display_data"
    }
   ],
   "source": [
    "sb.distplot(y_test,kde=True,hist=False)\n",
    "sb.distplot(y_pred,kde=True,hist=False)"
   ]
  },
  {
   "cell_type": "code",
   "execution_count": 25,
   "metadata": {},
   "outputs": [],
   "source": [
    "from sklearn import metrics"
   ]
  },
  {
   "cell_type": "code",
   "execution_count": 26,
   "metadata": {},
   "outputs": [
    {
     "name": "stdout",
     "output_type": "stream",
     "text": [
      "MSE: 387318243.71075535\n"
     ]
    }
   ],
   "source": [
    "print('MSE:',metrics.mean_squared_error(y_test,y_pred))"
   ]
  },
  {
   "cell_type": "code",
   "execution_count": 41,
   "metadata": {},
   "outputs": [],
   "source": [
    "#accuracy of model : 91.4%\n",
    "s2=metrics.r2_score(y_test,y_pred)"
   ]
  },
  {
   "cell_type": "code",
   "execution_count": null,
   "metadata": {},
   "outputs": [],
   "source": []
  },
  {
   "cell_type": "markdown",
   "metadata": {},
   "source": [
    "### - xgboost regression "
   ]
  },
  {
   "cell_type": "code",
   "execution_count": 28,
   "metadata": {},
   "outputs": [],
   "source": [
    "from xgboost import XGBRegressor"
   ]
  },
  {
   "cell_type": "code",
   "execution_count": 29,
   "metadata": {},
   "outputs": [],
   "source": [
    "xgb =XGBRegressor( booster='gbtree', colsample_bylevel=1,\n",
    "             colsample_bynode=1, colsample_bytree=0.6, gamma=0,\n",
    "             importance_type='gain', learning_rate=0.01, max_delta_step=0,\n",
    "             max_depth=4, min_child_weight=1.5, n_estimators=2400,\n",
    "             n_jobs=1, nthread=None, objective='reg:linear',\n",
    "             reg_alpha=0.6, reg_lambda=0.6, scale_pos_weight=1, \n",
    "             silent=None, subsample=0.8, verbosity=1)\n"
   ]
  },
  {
   "cell_type": "code",
   "execution_count": 30,
   "metadata": {},
   "outputs": [
    {
     "name": "stdout",
     "output_type": "stream",
     "text": [
      "[19:46:29] WARNING: C:/Users/Administrator/workspace/xgboost-win64_release_1.0.0/src/objective/regression_obj.cu:167: reg:linear is now deprecated in favor of reg:squarederror.\n"
     ]
    },
    {
     "data": {
      "text/plain": [
       "XGBRegressor(base_score=0.5, booster='gbtree', colsample_bylevel=1,\n",
       "             colsample_bynode=1, colsample_bytree=0.6, gamma=0, gpu_id=-1,\n",
       "             importance_type='gain', interaction_constraints=None,\n",
       "             learning_rate=0.01, max_delta_step=0, max_depth=4,\n",
       "             min_child_weight=1.5, missing=nan, monotone_constraints=None,\n",
       "             n_estimators=2400, n_jobs=1, nthread=1, num_parallel_tree=1,\n",
       "             objective='reg:linear', random_state=0, reg_alpha=0.6,\n",
       "             reg_lambda=0.6, scale_pos_weight=1, silent=None, subsample=0.8,\n",
       "             tree_method=None, validate_parameters=False, verbosity=1)"
      ]
     },
     "execution_count": 30,
     "metadata": {},
     "output_type": "execute_result"
    }
   ],
   "source": [
    "xgb.fit(X_train,y_train)"
   ]
  },
  {
   "cell_type": "code",
   "execution_count": 31,
   "metadata": {},
   "outputs": [],
   "source": [
    "y_pred1=xgb.predict(X_test)"
   ]
  },
  {
   "cell_type": "code",
   "execution_count": 43,
   "metadata": {},
   "outputs": [
    {
     "data": {
      "text/plain": [
       "0.9208211165332922"
      ]
     },
     "execution_count": 43,
     "metadata": {},
     "output_type": "execute_result"
    }
   ],
   "source": [
    "s1=r2_score(y_test,y_pred1) # accuracy of model : 92%\n",
    "s1"
   ]
  },
  {
   "cell_type": "code",
   "execution_count": 33,
   "metadata": {},
   "outputs": [
    {
     "name": "stdout",
     "output_type": "stream",
     "text": [
      "MSE: 349659953.10976833\n"
     ]
    }
   ],
   "source": [
    "print('MSE:',metrics.mean_squared_error(y_test,y_pred1))"
   ]
  },
  {
   "cell_type": "code",
   "execution_count": 34,
   "metadata": {},
   "outputs": [
    {
     "data": {
      "text/plain": [
       "<matplotlib.axes._subplots.AxesSubplot at 0x26726106448>"
      ]
     },
     "execution_count": 34,
     "metadata": {},
     "output_type": "execute_result"
    },
    {
     "data": {
      "image/png": "[encoded data removed]",
      "text/plain": [
       "<Figure size 432x288 with 1 Axes>"
      ]
     },
     "metadata": {
      "needs_background": "light"
     },
     "output_type": "display_data"
    }
   ],
   "source": [
    "sb.distplot(y_test,kde=True,hist=False)\n",
    "sb.distplot(y_pred1,kde=True,hist=False)"
   ]
  },
  {
   "cell_type": "code",
   "execution_count": 93,
   "metadata": {},
   "outputs": [
    {
     "name": "stdout",
     "output_type": "stream",
     "text": [
      "the accuracy_score of xgboost regression is:0.9208211165332922 .\n",
      "the accuracy_score of Linear regression is:0.9122935703372458 .\n"
     ]
    }
   ],
   "source": [
    "scores=[s1,s2]\n",
    "algorithms=['xgboost regression','Linear regression']\n",
    "\n",
    "\n",
    "for i in range(len(algorithms)):\n",
    "    print('the accuracy_score of '+algorithms[i],'is:'+str(scores[i]),'.')"
   ]
  },
  {
   "cell_type": "code",
   "execution_count": 97,
   "metadata": {},
   "outputs": [
    {
     "data": {
      "text/plain": [
       "<matplotlib.axes._subplots.AxesSubplot at 0x2672c6fd688>"
      ]
     },
     "execution_count": 97,
     "metadata": {},
     "output_type": "execute_result"
    },
    {
     "data": {
      "image/png": "[encoded data removed]",
      "text/plain": [
       "<Figure size 432x432 with 1 Axes>"
      ]
     },
     "metadata": {
      "needs_background": "light"
     },
     "output_type": "display_data"
    }
   ],
   "source": [
    "\n",
    "plt.figure(figsize=(6,6))\n",
    "plt.xlabel('algorithms')\n",
    "plt.ylabel('accuracy_scores')\n",
    "sb.barplot(algorithms,scores)\n"
   ]
  },
  {
   "cell_type": "code",
   "execution_count": null,
   "metadata": {},
   "outputs": [],
   "source": []
  },
  {
   "cell_type": "code",
   "execution_count": null,
   "metadata": {},
   "outputs": [],
   "source": []
  },
  {
   "cell_type": "code",
   "execution_count": null,
   "metadata": {},
   "outputs": [],
   "source": []
  }
 ],
 "metadata": {
  "kernelspec": {
   "display_name": "Python 3",
   "language": "python",
   "name": "python3"
  },
  "language_info": {
   "codemirror_mode": {
    "name": "ipython",
    "version": 3
   },
   "file_extension": ".py",
   "mimetype": "text/x-python",
   "name": "python",
   "nbconvert_exporter": "python",
   "pygments_lexer": "ipython3",
   "version": "3.7.6"
  }
 },
 "nbformat": 4,
 "nbformat_minor": 4
}
