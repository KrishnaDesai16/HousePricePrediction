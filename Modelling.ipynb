{
 "cells": [
  {
   "cell_type": "markdown",
   "metadata": {},
   "source": [
    "## 6. Modeling and Predictions"
   ]
  },
  {
   "cell_type": "code",
   "execution_count": 1,
   "metadata": {},
   "outputs": [
    {
     "name": "stderr",
     "output_type": "stream",
     "text": [
      "C:\\Users\\JESAL\\anaconda3\\lib\\site-packages\\ipykernel_launcher.py:4: FutureWarning: The pandas.datetime class is deprecated and will be removed from pandas in a future version. Import from datetime module instead.\n",
      "  after removing the cwd from sys.path.\n"
     ]
    },
    {
     "data": {
      "text/html": [
       "        <script type=\"text/javascript\">\n",
       "        window.PlotlyConfig = {MathJaxConfig: 'local'};\n",
       "        if (window.MathJax) {MathJax.Hub.Config({SVG: {font: \"STIX-Web\"}});}\n",
       "        if (typeof require !== 'undefined') {\n",
       "        require.undef(\"plotly\");\n",
       "        requirejs.config({\n",
       "            paths: {\n",
       "                'plotly': ['https://cdn.plot.ly/plotly-latest.min']\n",
       "            }\n",
       "        });\n",
       "        require(['plotly'], function(Plotly) {\n",
       "            window._Plotly = Plotly;\n",
       "        });\n",
       "        }\n",
       "        </script>\n",
       "        "
      ]
     },
     "metadata": {},
     "output_type": "display_data"
    },
    {
     "data": {
      "text/html": [
       "        <script type=\"text/javascript\">\n",
       "        window.PlotlyConfig = {MathJaxConfig: 'local'};\n",
       "        if (window.MathJax) {MathJax.Hub.Config({SVG: {font: \"STIX-Web\"}});}\n",
       "        if (typeof require !== 'undefined') {\n",
       "        require.undef(\"plotly\");\n",
       "        requirejs.config({\n",
       "            paths: {\n",
       "                'plotly': ['https://cdn.plot.ly/plotly-latest.min']\n",
       "            }\n",
       "        });\n",
       "        require(['plotly'], function(Plotly) {\n",
       "            window._Plotly = Plotly;\n",
       "        });\n",
       "        }\n",
       "        </script>\n",
       "        "
      ]
     },
     "metadata": {},
     "output_type": "display_data"
    }
   ],
   "source": [
    "import pandas as pd\n",
    "import numpy as np\n",
    "import datetime\n",
    "from pandas import datetime\n",
    "import matplotlib.pyplot as plt\n",
    "import seaborn as sb\n",
    "import plotly as py\n",
    "from plotly.offline import iplot\n",
    "import plotly.express as px \n",
    "import cufflinks as cf\n",
    "\n",
    "py.offline.init_notebook_mode(connected=True)\n",
    "cf.go_offline()\n"
   ]
  },
  {
   "cell_type": "code",
   "execution_count": 2,
   "metadata": {},
   "outputs": [],
   "source": [
    "from sklearn.metrics import accuracy_score,r2_score,classification_report\n",
    "from sklearn.preprocessing import StandardScaler,MinMaxScaler\n",
    "from sklearn.model_selection import train_test_split\n",
    "from sklearn.linear_model import LinearRegression\n",
    "from sklearn.linear_model import Lasso\n",
    "from sklearn.feature_selection import SelectFromModel\n"
   ]
  },
  {
   "cell_type": "code",
   "execution_count": 3,
   "metadata": {},
   "outputs": [
    {
     "data": {
      "text/html": [
       "<div>\n",
       "<style scoped>\n",
       "    .dataframe tbody tr th:only-of-type {\n",
       "        vertical-align: middle;\n",
       "    }\n",
       "\n",
       "    .dataframe tbody tr th {\n",
       "        vertical-align: top;\n",
       "    }\n",
       "\n",
       "    .dataframe thead th {\n",
       "        text-align: right;\n",
       "    }\n",
       "</style>\n",
       "<table border=\"1\" class=\"dataframe\">\n",
       "  <thead>\n",
       "    <tr style=\"text-align: right;\">\n",
       "      <th></th>\n",
       "      <th>MSSubClass</th>\n",
       "      <th>LotArea</th>\n",
       "      <th>LotShape</th>\n",
       "      <th>OverallQual</th>\n",
       "      <th>OverallCond</th>\n",
       "      <th>YearBuilt</th>\n",
       "      <th>YearRemodAdd</th>\n",
       "      <th>ExterQual</th>\n",
       "      <th>ExterCond</th>\n",
       "      <th>BsmtQual</th>\n",
       "      <th>...</th>\n",
       "      <th>SaleType_ConLI</th>\n",
       "      <th>SaleType_ConLw</th>\n",
       "      <th>SaleType_New</th>\n",
       "      <th>SaleType_Oth</th>\n",
       "      <th>SaleType_WD</th>\n",
       "      <th>SaleCondition_AdjLand</th>\n",
       "      <th>SaleCondition_Alloca</th>\n",
       "      <th>SaleCondition_Family</th>\n",
       "      <th>SaleCondition_Normal</th>\n",
       "      <th>SaleCondition_Partial</th>\n",
       "    </tr>\n",
       "  </thead>\n",
       "  <tbody>\n",
       "    <tr>\n",
       "      <th>0</th>\n",
       "      <td>60</td>\n",
       "      <td>9.041922</td>\n",
       "      <td>3</td>\n",
       "      <td>7</td>\n",
       "      <td>5</td>\n",
       "      <td>2003</td>\n",
       "      <td>2003</td>\n",
       "      <td>4</td>\n",
       "      <td>2</td>\n",
       "      <td>4</td>\n",
       "      <td>...</td>\n",
       "      <td>0</td>\n",
       "      <td>0</td>\n",
       "      <td>0</td>\n",
       "      <td>0</td>\n",
       "      <td>1</td>\n",
       "      <td>0</td>\n",
       "      <td>0</td>\n",
       "      <td>0</td>\n",
       "      <td>1</td>\n",
       "      <td>0</td>\n",
       "    </tr>\n",
       "    <tr>\n",
       "      <th>1</th>\n",
       "      <td>20</td>\n",
       "      <td>9.169518</td>\n",
       "      <td>3</td>\n",
       "      <td>6</td>\n",
       "      <td>8</td>\n",
       "      <td>1976</td>\n",
       "      <td>1976</td>\n",
       "      <td>2</td>\n",
       "      <td>2</td>\n",
       "      <td>4</td>\n",
       "      <td>...</td>\n",
       "      <td>0</td>\n",
       "      <td>0</td>\n",
       "      <td>0</td>\n",
       "      <td>0</td>\n",
       "      <td>1</td>\n",
       "      <td>0</td>\n",
       "      <td>0</td>\n",
       "      <td>0</td>\n",
       "      <td>1</td>\n",
       "      <td>0</td>\n",
       "    </tr>\n",
       "    <tr>\n",
       "      <th>2</th>\n",
       "      <td>60</td>\n",
       "      <td>9.328123</td>\n",
       "      <td>2</td>\n",
       "      <td>7</td>\n",
       "      <td>5</td>\n",
       "      <td>2001</td>\n",
       "      <td>2002</td>\n",
       "      <td>4</td>\n",
       "      <td>2</td>\n",
       "      <td>4</td>\n",
       "      <td>...</td>\n",
       "      <td>0</td>\n",
       "      <td>0</td>\n",
       "      <td>0</td>\n",
       "      <td>0</td>\n",
       "      <td>1</td>\n",
       "      <td>0</td>\n",
       "      <td>0</td>\n",
       "      <td>0</td>\n",
       "      <td>1</td>\n",
       "      <td>0</td>\n",
       "    </tr>\n",
       "    <tr>\n",
       "      <th>3</th>\n",
       "      <td>60</td>\n",
       "      <td>9.565214</td>\n",
       "      <td>2</td>\n",
       "      <td>8</td>\n",
       "      <td>5</td>\n",
       "      <td>2000</td>\n",
       "      <td>2000</td>\n",
       "      <td>4</td>\n",
       "      <td>2</td>\n",
       "      <td>4</td>\n",
       "      <td>...</td>\n",
       "      <td>0</td>\n",
       "      <td>0</td>\n",
       "      <td>0</td>\n",
       "      <td>0</td>\n",
       "      <td>1</td>\n",
       "      <td>0</td>\n",
       "      <td>0</td>\n",
       "      <td>0</td>\n",
       "      <td>1</td>\n",
       "      <td>0</td>\n",
       "    </tr>\n",
       "    <tr>\n",
       "      <th>4</th>\n",
       "      <td>50</td>\n",
       "      <td>9.554993</td>\n",
       "      <td>2</td>\n",
       "      <td>5</td>\n",
       "      <td>5</td>\n",
       "      <td>1993</td>\n",
       "      <td>1995</td>\n",
       "      <td>2</td>\n",
       "      <td>2</td>\n",
       "      <td>4</td>\n",
       "      <td>...</td>\n",
       "      <td>0</td>\n",
       "      <td>0</td>\n",
       "      <td>0</td>\n",
       "      <td>0</td>\n",
       "      <td>1</td>\n",
       "      <td>0</td>\n",
       "      <td>0</td>\n",
       "      <td>0</td>\n",
       "      <td>1</td>\n",
       "      <td>0</td>\n",
       "    </tr>\n",
       "  </tbody>\n",
       "</table>\n",
       "<p>5 rows × 174 columns</p>\n",
       "</div>"
      ],
      "text/plain": [
       "   MSSubClass   LotArea  LotShape  OverallQual  OverallCond  YearBuilt  \\\n",
       "0          60  9.041922         3            7            5       2003   \n",
       "1          20  9.169518         3            6            8       1976   \n",
       "2          60  9.328123         2            7            5       2001   \n",
       "3          60  9.565214         2            8            5       2000   \n",
       "4          50  9.554993         2            5            5       1993   \n",
       "\n",
       "   YearRemodAdd  ExterQual  ExterCond  BsmtQual  ...  SaleType_ConLI  \\\n",
       "0          2003          4          2         4  ...               0   \n",
       "1          1976          2          2         4  ...               0   \n",
       "2          2002          4          2         4  ...               0   \n",
       "3          2000          4          2         4  ...               0   \n",
       "4          1995          2          2         4  ...               0   \n",
       "\n",
       "   SaleType_ConLw  SaleType_New  SaleType_Oth  SaleType_WD  \\\n",
       "0               0             0             0            1   \n",
       "1               0             0             0            1   \n",
       "2               0             0             0            1   \n",
       "3               0             0             0            1   \n",
       "4               0             0             0            1   \n",
       "\n",
       "   SaleCondition_AdjLand  SaleCondition_Alloca  SaleCondition_Family  \\\n",
       "0                      0                     0                     0   \n",
       "1                      0                     0                     0   \n",
       "2                      0                     0                     0   \n",
       "3                      0                     0                     0   \n",
       "4                      0                     0                     0   \n",
       "\n",
       "   SaleCondition_Normal  SaleCondition_Partial  \n",
       "0                     1                      0  \n",
       "1                     1                      0  \n",
       "2                     1                      0  \n",
       "3                     1                      0  \n",
       "4                     1                      0  \n",
       "\n",
       "[5 rows x 174 columns]"
      ]
     },
     "execution_count": 3,
     "metadata": {},
     "output_type": "execute_result"
    }
   ],
   "source": [
    "df=pd.read_csv('FinalDF.csv')\n",
    "df.head()"
   ]
  },
  {
   "cell_type": "code",
   "execution_count": 4,
   "metadata": {},
   "outputs": [],
   "source": [
    "X=df.drop('SalePrice',axis=1)\n",
    "y=df[['SalePrice']]"
   ]
  },
  {
   "cell_type": "code",
   "execution_count": 5,
   "metadata": {},
   "outputs": [
    {
     "data": {
      "text/plain": [
       "(1169, 173)"
      ]
     },
     "execution_count": 5,
     "metadata": {},
     "output_type": "execute_result"
    }
   ],
   "source": [
    "X.shape"
   ]
  },
  {
   "cell_type": "code",
   "execution_count": 6,
   "metadata": {},
   "outputs": [
    {
     "data": {
      "text/html": [
       "<div>\n",
       "<style scoped>\n",
       "    .dataframe tbody tr th:only-of-type {\n",
       "        vertical-align: middle;\n",
       "    }\n",
       "\n",
       "    .dataframe tbody tr th {\n",
       "        vertical-align: top;\n",
       "    }\n",
       "\n",
       "    .dataframe thead th {\n",
       "        text-align: right;\n",
       "    }\n",
       "</style>\n",
       "<table border=\"1\" class=\"dataframe\">\n",
       "  <thead>\n",
       "    <tr style=\"text-align: right;\">\n",
       "      <th></th>\n",
       "      <th>SalePrice</th>\n",
       "    </tr>\n",
       "  </thead>\n",
       "  <tbody>\n",
       "    <tr>\n",
       "      <th>0</th>\n",
       "      <td>208500</td>\n",
       "    </tr>\n",
       "    <tr>\n",
       "      <th>1</th>\n",
       "      <td>181500</td>\n",
       "    </tr>\n",
       "    <tr>\n",
       "      <th>2</th>\n",
       "      <td>223500</td>\n",
       "    </tr>\n",
       "    <tr>\n",
       "      <th>3</th>\n",
       "      <td>250000</td>\n",
       "    </tr>\n",
       "    <tr>\n",
       "      <th>4</th>\n",
       "      <td>143000</td>\n",
       "    </tr>\n",
       "    <tr>\n",
       "      <th>...</th>\n",
       "      <td>...</td>\n",
       "    </tr>\n",
       "    <tr>\n",
       "      <th>1164</th>\n",
       "      <td>84500</td>\n",
       "    </tr>\n",
       "    <tr>\n",
       "      <th>1165</th>\n",
       "      <td>185000</td>\n",
       "    </tr>\n",
       "    <tr>\n",
       "      <th>1166</th>\n",
       "      <td>175000</td>\n",
       "    </tr>\n",
       "    <tr>\n",
       "      <th>1167</th>\n",
       "      <td>210000</td>\n",
       "    </tr>\n",
       "    <tr>\n",
       "      <th>1168</th>\n",
       "      <td>266500</td>\n",
       "    </tr>\n",
       "  </tbody>\n",
       "</table>\n",
       "<p>1169 rows × 1 columns</p>\n",
       "</div>"
      ],
      "text/plain": [
       "      SalePrice\n",
       "0        208500\n",
       "1        181500\n",
       "2        223500\n",
       "3        250000\n",
       "4        143000\n",
       "...         ...\n",
       "1164      84500\n",
       "1165     185000\n",
       "1166     175000\n",
       "1167     210000\n",
       "1168     266500\n",
       "\n",
       "[1169 rows x 1 columns]"
      ]
     },
     "execution_count": 6,
     "metadata": {},
     "output_type": "execute_result"
    }
   ],
   "source": [
    "y"
   ]
  },
  {
   "cell_type": "markdown",
   "metadata": {},
   "source": [
    "###  Feature Importence & Selection"
   ]
  },
  {
   "cell_type": "code",
   "execution_count": 7,
   "metadata": {},
   "outputs": [
    {
     "name": "stderr",
     "output_type": "stream",
     "text": [
      "C:\\Users\\JESAL\\anaconda3\\lib\\site-packages\\ipykernel_launcher.py:3: DataConversionWarning:\n",
      "\n",
      "A column-vector y was passed when a 1d array was expected. Please change the shape of y to (n_samples,), for example using ravel().\n",
      "\n"
     ]
    },
    {
     "data": {
      "text/plain": [
       "ExtraTreesRegressor(bootstrap=False, ccp_alpha=0.0, criterion='mse',\n",
       "                    max_depth=None, max_features='auto', max_leaf_nodes=None,\n",
       "                    max_samples=None, min_impurity_decrease=0.0,\n",
       "                    min_impurity_split=None, min_samples_leaf=1,\n",
       "                    min_samples_split=2, min_weight_fraction_leaf=0.0,\n",
       "                    n_estimators=100, n_jobs=None, oob_score=False,\n",
       "                    random_state=None, verbose=0, warm_start=False)"
      ]
     },
     "execution_count": 7,
     "metadata": {},
     "output_type": "execute_result"
    }
   ],
   "source": [
    "from sklearn.ensemble import ExtraTreesRegressor\n",
    "model=ExtraTreesRegressor()\n",
    "model.fit(X,y)"
   ]
  },
  {
   "cell_type": "code",
   "execution_count": 8,
   "metadata": {},
   "outputs": [
    {
     "data": {
      "text/plain": [
       "array([1.92981217e-03, 3.59605425e-03, 1.84761275e-03, 1.72146319e-01,\n",
       "       3.73148557e-03, 2.03411499e-02, 5.17411809e-03, 2.05336037e-01,\n",
       "       1.23398325e-03, 1.16854644e-02, 8.92329873e-04, 2.66157298e-03,\n",
       "       4.47444193e-03, 1.87038829e-02, 2.50037232e-04, 3.17133770e-04,\n",
       "       3.96992335e-03, 1.28930147e-03, 1.07039099e-02, 3.45849875e-04,\n",
       "       3.69888584e-02, 4.70297475e-03, 7.17060287e-04, 5.34049316e-02,\n",
       "       3.79447176e-03, 1.15243582e-02, 1.12869455e-03, 4.26246688e-02,\n",
       "       1.33608561e-02, 2.53109473e-04, 2.12767125e-04, 2.52260259e-03,\n",
       "       2.64024263e-03, 1.53732093e-03, 1.38001259e-03, 7.48239900e-04,\n",
       "       4.30412851e-05, 1.42067257e-04, 2.54240407e-03, 2.32799664e-03,\n",
       "       2.48462592e-03, 3.70276452e-03, 5.75936159e-03, 1.49707830e-02,\n",
       "       3.71445657e-02, 1.82598859e-01, 3.88473639e-04, 5.87284703e-05,\n",
       "       1.69446611e-03, 2.45678992e-03, 2.79939814e-03, 2.18177770e-04,\n",
       "       1.58141342e-03, 5.27097106e-04, 4.11540694e-04, 7.16686581e-05,\n",
       "       1.49420724e-03, 2.10534573e-03, 2.74513501e-05, 3.36807773e-04,\n",
       "       3.32227699e-04, 1.47815765e-03, 3.98301386e-03, 1.10323656e-03,\n",
       "       6.30847039e-04, 1.63875310e-04, 6.24382132e-05, 1.62313218e-04,\n",
       "       6.87625715e-04, 3.25752195e-05, 4.36499547e-04, 5.91881209e-04,\n",
       "       2.11537576e-03, 1.50457789e-03, 2.68095569e-04, 2.28884218e-04,\n",
       "       2.85632992e-04, 1.67722488e-03, 1.30590778e-03, 4.51690974e-04,\n",
       "       5.33179933e-05, 2.30017967e-04, 8.87967251e-04, 2.91953046e-04,\n",
       "       1.07051849e-04, 1.77932263e-04, 6.64890559e-05, 2.66441354e-05,\n",
       "       7.74743021e-06, 8.77067608e-05, 1.46307558e-04, 6.48746746e-05,\n",
       "       1.27803812e-03, 5.63635457e-05, 1.37860629e-03, 1.27128546e-04,\n",
       "       1.05023850e-05, 4.21112704e-03, 2.88823707e-05, 4.55045836e-04,\n",
       "       1.12287081e-03, 2.12797123e-04, 1.39910536e-03, 3.31507478e-05,\n",
       "       6.40235493e-07, 2.55328683e-06, 1.46310717e-04, 1.98886322e-03,\n",
       "       8.84807492e-06, 4.42407285e-04, 6.80572200e-04, 1.33269836e-07,\n",
       "       6.76914507e-04, 5.02699923e-04, 7.27272568e-06, 2.22754732e-04,\n",
       "       1.30820908e-03, 7.07793568e-04, 1.49131949e-04, 6.87993077e-06,\n",
       "       1.96858893e-04, 1.93512110e-04, 5.49734343e-06, 3.81860696e-04,\n",
       "       5.06293505e-04, 1.74045007e-05, 8.16337235e-04, 1.04164599e-05,\n",
       "       7.33927217e-04, 3.28272527e-05, 4.36092763e-04, 1.56295724e-03,\n",
       "       5.50818029e-04, 2.43509457e-04, 7.67465166e-04, 2.88724673e-03,\n",
       "       1.91290643e-03, 9.30492543e-04, 1.12840361e-03, 7.90772741e-05,\n",
       "       9.91765422e-06, 6.81865871e-05, 1.51138253e-04, 8.69067644e-06,\n",
       "       1.68104670e-05, 3.83361149e-04, 3.91736340e-04, 1.46652829e-04,\n",
       "       2.43126308e-04, 1.77998874e-04, 8.16380073e-04, 1.56133308e-03,\n",
       "       9.72226053e-05, 4.98293585e-04, 1.17774369e-04, 2.44742754e-03,\n",
       "       3.07503404e-03, 1.42302961e-02, 3.08014081e-04, 1.06773625e-03,\n",
       "       2.07777198e-04, 2.23460407e-05, 4.47982273e-05, 3.77113597e-05,\n",
       "       3.23976373e-05, 2.14505047e-03, 4.82556647e-05, 1.61707134e-03,\n",
       "       1.48616875e-05, 4.75626170e-04, 9.78359753e-04, 2.23863944e-03,\n",
       "       2.05075061e-03])"
      ]
     },
     "execution_count": 8,
     "metadata": {},
     "output_type": "execute_result"
    }
   ],
   "source": [
    "model.feature_importances_"
   ]
  },
  {
   "cell_type": "code",
   "execution_count": 9,
   "metadata": {},
   "outputs": [
    {
     "data": {
      "text/plain": [
       "<matplotlib.axes._subplots.AxesSubplot at 0x1d7cbf90888>"
      ]
     },
     "execution_count": 9,
     "metadata": {},
     "output_type": "execute_result"
    },
    {
     "data": {
      "image/png": "[encoded data removed]",
      "text/plain": [
       "<Figure size 432x720 with 1 Axes>"
      ]
     },
     "metadata": {
      "needs_background": "light"
     },
     "output_type": "display_data"
    }
   ],
   "source": [
    "plt.figure(figsize=(6,10))\n",
    "feature_importance=pd.Series(data=model.feature_importances_,index=X.columns)\n",
    "feature_importance.nlargest(40).plot(kind='barh')"
   ]
  },
  {
   "cell_type": "code",
   "execution_count": 10,
   "metadata": {},
   "outputs": [],
   "source": [
    "## use Lasso Regression to select the features "
   ]
  },
  {
   "cell_type": "code",
   "execution_count": 11,
   "metadata": {},
   "outputs": [
    {
     "name": "stderr",
     "output_type": "stream",
     "text": [
      "C:\\Users\\JESAL\\anaconda3\\lib\\site-packages\\sklearn\\linear_model\\_coordinate_descent.py:476: ConvergenceWarning:\n",
      "\n",
      "Objective did not converge. You might want to increase the number of iterations. Duality gap: 161909239207.2457, tolerance: 479511060.25518304\n",
      "\n"
     ]
    },
    {
     "data": {
      "text/plain": [
       "SelectFromModel(estimator=Lasso(alpha=0.05, copy_X=True, fit_intercept=True,\n",
       "                                max_iter=1000, normalize=False, positive=False,\n",
       "                                precompute=False, random_state=20,\n",
       "                                selection='cyclic', tol=0.0001,\n",
       "                                warm_start=False),\n",
       "                max_features=None, norm_order=1, prefit=False, threshold=None)"
      ]
     },
     "execution_count": 11,
     "metadata": {},
     "output_type": "execute_result"
    }
   ],
   "source": [
    "feature_Sel_model=SelectFromModel(Lasso(alpha=0.05,random_state=20))\n",
    "feature_Sel_model.fit(X,y)\n"
   ]
  },
  {
   "cell_type": "code",
   "execution_count": 12,
   "metadata": {},
   "outputs": [
    {
     "data": {
      "text/plain": [
       "array([ True,  True,  True,  True,  True,  True,  True,  True,  True,\n",
       "        True,  True,  True,  True,  True,  True,  True,  True,  True,\n",
       "        True,  True,  True,  True,  True,  True,  True,  True,  True,\n",
       "        True,  True,  True,  True,  True,  True,  True,  True,  True,\n",
       "        True,  True,  True,  True,  True,  True,  True,  True,  True,\n",
       "        True,  True,  True,  True,  True,  True,  True,  True,  True,\n",
       "        True,  True,  True,  True,  True,  True,  True,  True,  True,\n",
       "        True,  True,  True,  True,  True,  True,  True,  True,  True,\n",
       "        True,  True,  True,  True,  True,  True,  True,  True,  True,\n",
       "        True,  True,  True,  True,  True,  True,  True,  True,  True,\n",
       "        True,  True,  True,  True,  True,  True,  True,  True,  True,\n",
       "        True,  True,  True,  True,  True,  True,  True, False,  True,\n",
       "        True,  True,  True,  True,  True,  True,  True,  True,  True,\n",
       "        True,  True,  True,  True,  True,  True,  True,  True,  True,\n",
       "        True,  True,  True,  True,  True,  True,  True,  True,  True,\n",
       "        True,  True,  True,  True,  True,  True,  True,  True,  True,\n",
       "        True,  True,  True,  True,  True,  True,  True,  True,  True,\n",
       "        True,  True,  True,  True,  True,  True,  True,  True,  True,\n",
       "        True,  True,  True,  True,  True,  True,  True,  True,  True,\n",
       "        True,  True])"
      ]
     },
     "execution_count": 12,
     "metadata": {},
     "output_type": "execute_result"
    }
   ],
   "source": [
    "feature_Sel_model.get_support()"
   ]
  },
  {
   "cell_type": "code",
   "execution_count": 13,
   "metadata": {},
   "outputs": [
    {
     "name": "stdout",
     "output_type": "stream",
     "text": [
      "total features:173\n",
      "selected feature:172 \n",
      "feature with coeeficient sharnk to zero:1\n"
     ]
    }
   ],
   "source": [
    "selected_feature=X.columns[(feature_Sel_model.get_support())]\n",
    "print('total features:{}'.format((X.shape[1])))\n",
    "print('selected feature:{} '.format(len(selected_feature)))\n",
    "print('feature with coeeficient sharnk to zero:{}'.format(np.sum(feature_Sel_model.estimator_.coef_==0))) #skipped features"
   ]
  },
  {
   "cell_type": "code",
   "execution_count": 14,
   "metadata": {},
   "outputs": [],
   "source": [
    "#Split data into train and test set"
   ]
  },
  {
   "cell_type": "code",
   "execution_count": 15,
   "metadata": {},
   "outputs": [],
   "source": [
    "X_train,X_test,y_train,y_test=train_test_split(X,y,test_size=0.3,random_state=10)"
   ]
  },
  {
   "cell_type": "markdown",
   "metadata": {},
   "source": [
    "### Modelling\n",
    "- LinearRegression\n",
    "- xgbboostRegressor"
   ]
  },
  {
   "cell_type": "markdown",
   "metadata": {},
   "source": [
    "###  - Linear Regression"
   ]
  },
  {
   "cell_type": "code",
   "execution_count": 16,
   "metadata": {},
   "outputs": [],
   "source": [
    "model=LinearRegression()\n",
    "model.fit(X_train,y_train)\n",
    "y_pred=model.predict(X_test)"
   ]
  },
  {
   "cell_type": "code",
   "execution_count": 17,
   "metadata": {},
   "outputs": [
    {
     "data": {
      "text/plain": [
       "array([[150111.4765956 ],\n",
       "       [263573.41373061],\n",
       "       [187121.06029319],\n",
       "       [173395.37545831],\n",
       "       [171354.57494835],\n",
       "       [150473.0799961 ],\n",
       "       [163456.07566721],\n",
       "       [175787.79824316],\n",
       "       [148634.63197952],\n",
       "       [150184.03562021],\n",
       "       [184831.18439069],\n",
       "       [115983.78494862],\n",
       "       [ 47367.05859206],\n",
       "       [203253.73579227],\n",
       "       [282313.771616  ],\n",
       "       [220620.70212348],\n",
       "       [118615.80952848],\n",
       "       [106944.70846212],\n",
       "       [ 75355.32772737],\n",
       "       [158451.77338935],\n",
       "       [112953.53367706],\n",
       "       [138113.55448976],\n",
       "       [278032.47401843],\n",
       "       [167205.70112915],\n",
       "       [140118.79074938],\n",
       "       [308185.79438658],\n",
       "       [105032.28832514],\n",
       "       [112300.88054423],\n",
       "       [114452.74960481],\n",
       "       [191207.71437113],\n",
       "       [135978.3204429 ],\n",
       "       [154075.4858247 ],\n",
       "       [159145.44949944],\n",
       "       [164314.57673784],\n",
       "       [113529.16754282],\n",
       "       [128587.57685162],\n",
       "       [ 92130.51512121],\n",
       "       [252902.13459694],\n",
       "       [216871.16070988],\n",
       "       [102415.43957458],\n",
       "       [147321.02345038],\n",
       "       [189870.86346727],\n",
       "       [229982.4017376 ],\n",
       "       [331605.02027243],\n",
       "       [122192.80161805],\n",
       "       [258507.9642571 ],\n",
       "       [283620.49927634],\n",
       "       [262133.17726413],\n",
       "       [112007.63108172],\n",
       "       [263384.19809513],\n",
       "       [104160.61120534],\n",
       "       [127625.90203861],\n",
       "       [284072.16555134],\n",
       "       [ 80494.44796153],\n",
       "       [199947.18051169],\n",
       "       [189144.74339826],\n",
       "       [ 95500.20794426],\n",
       "       [136262.83899792],\n",
       "       [227389.86879133],\n",
       "       [137151.49694399],\n",
       "       [164145.82923066],\n",
       "       [154440.47727592],\n",
       "       [ 74473.16316085],\n",
       "       [171617.57180537],\n",
       "       [244233.85317566],\n",
       "       [129548.1205    ],\n",
       "       [344607.92744507],\n",
       "       [138933.80328502],\n",
       "       [220232.93933738],\n",
       "       [210531.77784394],\n",
       "       [201104.83981417],\n",
       "       [140533.50207082],\n",
       "       [193086.92594447],\n",
       "       [124029.83010465],\n",
       "       [285726.90629515],\n",
       "       [337016.08414497],\n",
       "       [332820.1454141 ],\n",
       "       [ 89227.49632195],\n",
       "       [214485.72789249],\n",
       "       [104233.42953413],\n",
       "       [118353.35679453],\n",
       "       [197748.95185739],\n",
       "       [178491.29874401],\n",
       "       [128994.35276226],\n",
       "       [162617.56496097],\n",
       "       [152328.18336549],\n",
       "       [134646.64687945],\n",
       "       [231603.64298717],\n",
       "       [173255.31673564],\n",
       "       [139844.83034441],\n",
       "       [111830.88495323],\n",
       "       [ 88442.46856331],\n",
       "       [181316.2530044 ],\n",
       "       [106708.05100654],\n",
       "       [116979.38979149],\n",
       "       [ 51615.08062842],\n",
       "       [263358.49778116],\n",
       "       [100873.17225035],\n",
       "       [110104.38680825],\n",
       "       [169738.1540062 ],\n",
       "       [275994.8842289 ],\n",
       "       [130953.94467112],\n",
       "       [186780.28291973],\n",
       "       [178878.42757213],\n",
       "       [215446.25558566],\n",
       "       [ 66150.79203903],\n",
       "       [181483.6362314 ],\n",
       "       [107300.67300451],\n",
       "       [152858.61815368],\n",
       "       [105578.51498365],\n",
       "       [184140.57991304],\n",
       "       [204907.77599677],\n",
       "       [156663.43347773],\n",
       "       [207457.42914402],\n",
       "       [201820.65833541],\n",
       "       [180090.35308474],\n",
       "       [307651.72356637],\n",
       "       [125744.46240032],\n",
       "       [300656.43373586],\n",
       "       [163329.71228297],\n",
       "       [141302.63900851],\n",
       "       [171949.57888775],\n",
       "       [168970.50409808],\n",
       "       [115437.18248519],\n",
       "       [175393.14734042],\n",
       "       [174488.64647928],\n",
       "       [319558.96936513],\n",
       "       [157846.2345748 ],\n",
       "       [111019.41653722],\n",
       "       [221800.58782227],\n",
       "       [226146.67727422],\n",
       "       [206426.06512137],\n",
       "       [314805.4041759 ],\n",
       "       [ 86411.33316844],\n",
       "       [167801.22187194],\n",
       "       [100146.33347631],\n",
       "       [150429.70917585],\n",
       "       [124609.04284909],\n",
       "       [159545.04821318],\n",
       "       [141251.80471704],\n",
       "       [175131.11364093],\n",
       "       [131689.59165088],\n",
       "       [301429.99463388],\n",
       "       [228560.91948768],\n",
       "       [ 89875.40633633],\n",
       "       [188822.56168386],\n",
       "       [259776.89609385],\n",
       "       [126945.29260511],\n",
       "       [240944.07764775],\n",
       "       [136518.9341156 ],\n",
       "       [233901.66185911],\n",
       "       [257398.20751932],\n",
       "       [234222.66583492],\n",
       "       [144833.84961075],\n",
       "       [165075.98425216],\n",
       "       [143564.87186924],\n",
       "       [130665.95063825],\n",
       "       [218647.24419892],\n",
       "       [101691.15185064],\n",
       "       [132745.41346634],\n",
       "       [101867.77495829],\n",
       "       [126591.74276411],\n",
       "       [105686.30825352],\n",
       "       [125376.22219365],\n",
       "       [156078.3609948 ],\n",
       "       [173290.10271405],\n",
       "       [164033.19146644],\n",
       "       [231041.9221226 ],\n",
       "       [136369.67972304],\n",
       "       [126657.5306564 ],\n",
       "       [359180.27470172],\n",
       "       [158465.80178013],\n",
       "       [110139.61206193],\n",
       "       [139048.19082782],\n",
       "       [223875.28001615],\n",
       "       [ 82739.97392568],\n",
       "       [135344.72198006],\n",
       "       [247279.67436339],\n",
       "       [ 94275.42957147],\n",
       "       [117733.19464112],\n",
       "       [283684.65686025],\n",
       "       [157045.50660396],\n",
       "       [221206.35813931],\n",
       "       [286929.98105911],\n",
       "       [102278.07338426],\n",
       "       [229613.76657643],\n",
       "       [221974.7163023 ],\n",
       "       [153048.59362271],\n",
       "       [139358.85869515],\n",
       "       [105680.28637097],\n",
       "       [118514.50295277],\n",
       "       [203919.20774756],\n",
       "       [194163.80625628],\n",
       "       [115681.19873595],\n",
       "       [226342.10927634],\n",
       "       [140064.51333616],\n",
       "       [240587.33314656],\n",
       "       [137587.14056368],\n",
       "       [228031.5621198 ],\n",
       "       [140311.25390131],\n",
       "       [211255.82411673],\n",
       "       [123400.81184575],\n",
       "       [202469.76486172],\n",
       "       [216013.62580254],\n",
       "       [124406.39613209],\n",
       "       [164750.69286606],\n",
       "       [311380.52824084],\n",
       "       [157563.42541059],\n",
       "       [102104.71381787],\n",
       "       [233274.55709008],\n",
       "       [ 82717.19417874],\n",
       "       [ 56906.35071554],\n",
       "       [207122.41956687],\n",
       "       [302275.06226627],\n",
       "       [129247.06591588],\n",
       "       [178321.69146667],\n",
       "       [319546.41683793],\n",
       "       [152317.73566237],\n",
       "       [ 54842.08012625],\n",
       "       [224968.12764486],\n",
       "       [155056.03647162],\n",
       "       [ 97187.81515208],\n",
       "       [225875.68698039],\n",
       "       [109514.19518157],\n",
       "       [174384.37079529],\n",
       "       [202602.83360543],\n",
       "       [191386.82062597],\n",
       "       [130395.80379232],\n",
       "       [159431.69773857],\n",
       "       [152724.3913918 ],\n",
       "       [180071.97095509],\n",
       "       [203309.96220602],\n",
       "       [ 98107.63520628],\n",
       "       [132440.37461994],\n",
       "       [120132.03645344],\n",
       "       [208145.72629227],\n",
       "       [143867.21684076],\n",
       "       [128676.10588653],\n",
       "       [141730.22982599],\n",
       "       [109271.34338148],\n",
       "       [279198.05429138],\n",
       "       [208176.25603961],\n",
       "       [123083.21234626],\n",
       "       [263944.31472048],\n",
       "       [126628.63431243],\n",
       "       [280919.97388718],\n",
       "       [237092.12805142],\n",
       "       [126001.08860215],\n",
       "       [153012.74100545],\n",
       "       [337181.27107293],\n",
       "       [173941.81734611],\n",
       "       [162920.98845386],\n",
       "       [114555.23507982],\n",
       "       [255165.90753431],\n",
       "       [205118.80564936],\n",
       "       [345105.36960376],\n",
       "       [124838.8145176 ],\n",
       "       [ 71754.90715836],\n",
       "       [ 81874.33604894],\n",
       "       [100482.06393435],\n",
       "       [132955.69812768],\n",
       "       [164296.53706697],\n",
       "       [197741.3054935 ],\n",
       "       [130280.44327105],\n",
       "       [268765.61281458],\n",
       "       [104033.43465995],\n",
       "       [147354.02662688],\n",
       "       [172982.83552858],\n",
       "       [121335.23041323],\n",
       "       [141763.68869441],\n",
       "       [ 88452.25629515],\n",
       "       [221586.45131919],\n",
       "       [211689.70975975],\n",
       "       [130588.04139646],\n",
       "       [242835.03970692],\n",
       "       [195980.6433249 ],\n",
       "       [175636.88549541],\n",
       "       [139935.79901725],\n",
       "       [216987.82982206],\n",
       "       [128507.04223122],\n",
       "       [160285.03574542],\n",
       "       [242569.53630172],\n",
       "       [237352.61806794],\n",
       "       [110920.95753615],\n",
       "       [126934.61495269],\n",
       "       [178762.13405176],\n",
       "       [116514.05972309],\n",
       "       [159656.56989588],\n",
       "       [131063.50780597],\n",
       "       [189856.37509521],\n",
       "       [336814.27716936],\n",
       "       [165843.69125649],\n",
       "       [ 96351.28510741],\n",
       "       [132845.58538594],\n",
       "       [144694.15634073],\n",
       "       [141508.71524856],\n",
       "       [338258.25277453],\n",
       "       [111376.1564363 ],\n",
       "       [168987.24338974],\n",
       "       [122511.28353357],\n",
       "       [119411.78990811],\n",
       "       [239668.05611958],\n",
       "       [210883.95639693],\n",
       "       [236916.93684941],\n",
       "       [217138.65652465],\n",
       "       [117066.51130456],\n",
       "       [122097.88791993],\n",
       "       [ 69241.83313534],\n",
       "       [195161.44464701],\n",
       "       [115496.97942603],\n",
       "       [159459.58589107],\n",
       "       [250559.15279597],\n",
       "       [203826.93012721],\n",
       "       [204842.43484105],\n",
       "       [142668.73880285],\n",
       "       [107396.12030301],\n",
       "       [175832.64434732],\n",
       "       [199486.24589519],\n",
       "       [254686.29765492],\n",
       "       [214183.17007709],\n",
       "       [230489.82682096],\n",
       "       [124992.2017981 ],\n",
       "       [161021.11959414],\n",
       "       [138787.94642404],\n",
       "       [132232.74857518],\n",
       "       [202666.98167548],\n",
       "       [225250.35586345],\n",
       "       [190577.20655468],\n",
       "       [136699.62180324],\n",
       "       [ 97375.89500956],\n",
       "       [199793.80382719],\n",
       "       [211107.66243391],\n",
       "       [108991.75480122],\n",
       "       [289074.3544222 ],\n",
       "       [233505.01428546],\n",
       "       [246292.68586626],\n",
       "       [119310.72013617],\n",
       "       [114166.54935749],\n",
       "       [121041.29850903],\n",
       "       [306258.69354649],\n",
       "       [214416.20227076],\n",
       "       [248342.06215941],\n",
       "       [166328.58853571],\n",
       "       [179333.52554805],\n",
       "       [109789.9663178 ],\n",
       "       [169792.55071278],\n",
       "       [110481.45156835],\n",
       "       [275279.91841562],\n",
       "       [141951.96975582],\n",
       "       [133736.37781729],\n",
       "       [248752.27196339]])"
      ]
     },
     "execution_count": 17,
     "metadata": {},
     "output_type": "execute_result"
    }
   ],
   "source": [
    "y_pred"
   ]
  },
  {
   "cell_type": "code",
   "execution_count": 18,
   "metadata": {},
   "outputs": [
    {
     "data": {
      "text/html": [
       "<div>\n",
       "<style scoped>\n",
       "    .dataframe tbody tr th:only-of-type {\n",
       "        vertical-align: middle;\n",
       "    }\n",
       "\n",
       "    .dataframe tbody tr th {\n",
       "        vertical-align: top;\n",
       "    }\n",
       "\n",
       "    .dataframe thead th {\n",
       "        text-align: right;\n",
       "    }\n",
       "</style>\n",
       "<table border=\"1\" class=\"dataframe\">\n",
       "  <thead>\n",
       "    <tr style=\"text-align: right;\">\n",
       "      <th></th>\n",
       "      <th>SalePrice</th>\n",
       "    </tr>\n",
       "  </thead>\n",
       "  <tbody>\n",
       "    <tr>\n",
       "      <th>663</th>\n",
       "      <td>167000</td>\n",
       "    </tr>\n",
       "    <tr>\n",
       "      <th>69</th>\n",
       "      <td>260000</td>\n",
       "    </tr>\n",
       "    <tr>\n",
       "      <th>43</th>\n",
       "      <td>177000</td>\n",
       "    </tr>\n",
       "    <tr>\n",
       "      <th>838</th>\n",
       "      <td>165000</td>\n",
       "    </tr>\n",
       "    <tr>\n",
       "      <th>366</th>\n",
       "      <td>175500</td>\n",
       "    </tr>\n",
       "    <tr>\n",
       "      <th>...</th>\n",
       "      <td>...</td>\n",
       "    </tr>\n",
       "    <tr>\n",
       "      <th>298</th>\n",
       "      <td>125000</td>\n",
       "    </tr>\n",
       "    <tr>\n",
       "      <th>195</th>\n",
       "      <td>318000</td>\n",
       "    </tr>\n",
       "    <tr>\n",
       "      <th>425</th>\n",
       "      <td>107500</td>\n",
       "    </tr>\n",
       "    <tr>\n",
       "      <th>695</th>\n",
       "      <td>116000</td>\n",
       "    </tr>\n",
       "    <tr>\n",
       "      <th>171</th>\n",
       "      <td>277000</td>\n",
       "    </tr>\n",
       "  </tbody>\n",
       "</table>\n",
       "<p>351 rows × 1 columns</p>\n",
       "</div>"
      ],
      "text/plain": [
       "     SalePrice\n",
       "663     167000\n",
       "69      260000\n",
       "43      177000\n",
       "838     165000\n",
       "366     175500\n",
       "..         ...\n",
       "298     125000\n",
       "195     318000\n",
       "425     107500\n",
       "695     116000\n",
       "171     277000\n",
       "\n",
       "[351 rows x 1 columns]"
      ]
     },
     "execution_count": 18,
     "metadata": {},
     "output_type": "execute_result"
    }
   ],
   "source": [
    "y_test"
   ]
  },
  {
   "cell_type": "code",
   "execution_count": 19,
   "metadata": {},
   "outputs": [
    {
     "data": {
      "text/plain": [
       "0.9315966453162258"
      ]
     },
     "execution_count": 19,
     "metadata": {},
     "output_type": "execute_result"
    }
   ],
   "source": [
    "#check bais of data\n",
    "model.score(X_train,y_train)"
   ]
  },
  {
   "cell_type": "code",
   "execution_count": 20,
   "metadata": {},
   "outputs": [],
   "source": [
    "#check variance of data"
   ]
  },
  {
   "cell_type": "code",
   "execution_count": 21,
   "metadata": {},
   "outputs": [
    {
     "data": {
      "text/plain": [
       "0.9124799012755204"
      ]
     },
     "execution_count": 21,
     "metadata": {},
     "output_type": "execute_result"
    }
   ],
   "source": [
    "model.score(X_test,y_test)"
   ]
  },
  {
   "cell_type": "code",
   "execution_count": 22,
   "metadata": {},
   "outputs": [
    {
     "data": {
      "text/plain": [
       "<matplotlib.axes._subplots.AxesSubplot at 0x1d7cdaa9a48>"
      ]
     },
     "execution_count": 22,
     "metadata": {},
     "output_type": "execute_result"
    },
    {
     "data": {
      "image/png": "[encoded data removed]",
      "text/plain": [
       "<Figure size 432x288 with 1 Axes>"
      ]
     },
     "metadata": {
      "needs_background": "light"
     },
     "output_type": "display_data"
    }
   ],
   "source": [
    "sb.distplot(y_test-y_pred)"
   ]
  },
  {
   "cell_type": "code",
   "execution_count": 23,
   "metadata": {},
   "outputs": [
    {
     "data": {
      "text/plain": [
       "<matplotlib.axes._subplots.AxesSubplot at 0x1d7cdb534c8>"
      ]
     },
     "execution_count": 23,
     "metadata": {},
     "output_type": "execute_result"
    },
    {
     "data": {
      "image/png": "[encoded data removed]",
      "text/plain": [
       "<Figure size 432x288 with 1 Axes>"
      ]
     },
     "metadata": {
      "needs_background": "light"
     },
     "output_type": "display_data"
    }
   ],
   "source": [
    "sb.distplot(y_test,kde=True,hist=False)\n",
    "sb.distplot(y_pred,kde=True,hist=False)"
   ]
  },
  {
   "cell_type": "code",
   "execution_count": 24,
   "metadata": {},
   "outputs": [],
   "source": [
    "from sklearn import metrics"
   ]
  },
  {
   "cell_type": "code",
   "execution_count": 25,
   "metadata": {},
   "outputs": [
    {
     "name": "stdout",
     "output_type": "stream",
     "text": [
      "MSE: 386495392.15883374\n"
     ]
    }
   ],
   "source": [
    "print('MSE:',metrics.mean_squared_error(y_test,y_pred))"
   ]
  },
  {
   "cell_type": "code",
   "execution_count": 26,
   "metadata": {},
   "outputs": [],
   "source": [
    "#accuracy of model : 91.4%\n",
    "s2=metrics.r2_score(y_test,y_pred)"
   ]
  },
  {
   "cell_type": "code",
   "execution_count": null,
   "metadata": {},
   "outputs": [],
   "source": []
  },
  {
   "cell_type": "markdown",
   "metadata": {},
   "source": [
    "### - xgboost regression "
   ]
  },
  {
   "cell_type": "code",
   "execution_count": 27,
   "metadata": {},
   "outputs": [],
   "source": [
    "from xgboost import XGBRegressor"
   ]
  },
  {
   "cell_type": "code",
   "execution_count": 28,
   "metadata": {},
   "outputs": [],
   "source": [
    "xgb =XGBRegressor( booster='gbtree', colsample_bylevel=1,\n",
    "             colsample_bynode=1, colsample_bytree=0.6, gamma=0,\n",
    "             importance_type='gain', learning_rate=0.01, max_delta_step=0,\n",
    "             max_depth=4, min_child_weight=1.5, n_estimators=2400,\n",
    "             n_jobs=1, nthread=None, objective='reg:linear',\n",
    "             reg_alpha=0.6, reg_lambda=0.6, scale_pos_weight=1, \n",
    "             silent=None, subsample=0.8, verbosity=1)\n"
   ]
  },
  {
   "cell_type": "code",
   "execution_count": 29,
   "metadata": {},
   "outputs": [
    {
     "name": "stdout",
     "output_type": "stream",
     "text": [
      "[22:45:09] WARNING: C:/Users/Administrator/workspace/xgboost-win64_release_1.0.0/src/objective/regression_obj.cu:167: reg:linear is now deprecated in favor of reg:squarederror.\n"
     ]
    },
    {
     "data": {
      "text/plain": [
       "XGBRegressor(base_score=0.5, booster='gbtree', colsample_bylevel=1,\n",
       "             colsample_bynode=1, colsample_bytree=0.6, gamma=0, gpu_id=-1,\n",
       "             importance_type='gain', interaction_constraints=None,\n",
       "             learning_rate=0.01, max_delta_step=0, max_depth=4,\n",
       "             min_child_weight=1.5, missing=nan, monotone_constraints=None,\n",
       "             n_estimators=2400, n_jobs=1, nthread=1, num_parallel_tree=1,\n",
       "             objective='reg:linear', random_state=0, reg_alpha=0.6,\n",
       "             reg_lambda=0.6, scale_pos_weight=1, silent=None, subsample=0.8,\n",
       "             tree_method=None, validate_parameters=False, verbosity=1)"
      ]
     },
     "execution_count": 29,
     "metadata": {},
     "output_type": "execute_result"
    }
   ],
   "source": [
    "xgb.fit(X_train,y_train)"
   ]
  },
  {
   "cell_type": "code",
   "execution_count": 30,
   "metadata": {},
   "outputs": [],
   "source": [
    "y_pred1=xgb.predict(X_test)"
   ]
  },
  {
   "cell_type": "code",
   "execution_count": 31,
   "metadata": {},
   "outputs": [
    {
     "data": {
      "text/plain": [
       "0.9212612625335378"
      ]
     },
     "execution_count": 31,
     "metadata": {},
     "output_type": "execute_result"
    }
   ],
   "source": [
    "s1=r2_score(y_test,y_pred1) # accuracy of model : 92%\n",
    "s1"
   ]
  },
  {
   "cell_type": "code",
   "execution_count": 32,
   "metadata": {},
   "outputs": [
    {
     "name": "stdout",
     "output_type": "stream",
     "text": [
      "MSE: 347716234.9987134\n"
     ]
    }
   ],
   "source": [
    "print('MSE:',metrics.mean_squared_error(y_test,y_pred1))"
   ]
  },
  {
   "cell_type": "code",
   "execution_count": 33,
   "metadata": {},
   "outputs": [
    {
     "data": {
      "text/plain": [
       "<matplotlib.axes._subplots.AxesSubplot at 0x1d7cee04fc8>"
      ]
     },
     "execution_count": 33,
     "metadata": {},
     "output_type": "execute_result"
    },
    {
     "data": {
      "image/png": "[encoded data removed]",
      "text/plain": [
       "<Figure size 432x288 with 1 Axes>"
      ]
     },
     "metadata": {
      "needs_background": "light"
     },
     "output_type": "display_data"
    }
   ],
   "source": [
    "sb.distplot(y_test,kde=True,hist=False)\n",
    "sb.distplot(y_pred1,kde=True,hist=False)"
   ]
  },
  {
   "cell_type": "code",
   "execution_count": 34,
   "metadata": {},
   "outputs": [
    {
     "name": "stdout",
     "output_type": "stream",
     "text": [
      "the accuracy_score of xgboost regression is:0.9212612625335378 .\n",
      "the accuracy_score of Linear regression is:0.9124799012755204 .\n"
     ]
    }
   ],
   "source": [
    "scores=[s1,s2]\n",
    "algorithms=['xgboost regression','Linear regression']\n",
    "\n",
    "\n",
    "for i in range(len(algorithms)):\n",
    "    print('the accuracy_score of '+algorithms[i],'is:'+str(scores[i]),'.')"
   ]
  },
  {
   "cell_type": "code",
   "execution_count": 35,
   "metadata": {},
   "outputs": [
    {
     "data": {
      "text/plain": [
       "<matplotlib.axes._subplots.AxesSubplot at 0x1d7cf1d2888>"
      ]
     },
     "execution_count": 35,
     "metadata": {},
     "output_type": "execute_result"
    },
    {
     "data": {
      "image/png": "[encoded data removed]",
      "text/plain": [
       "<Figure size 432x432 with 1 Axes>"
      ]
     },
     "metadata": {
      "needs_background": "light"
     },
     "output_type": "display_data"
    }
   ],
   "source": [
    "\n",
    "plt.figure(figsize=(6,6))\n",
    "plt.xlabel('algorithms')\n",
    "plt.ylabel('accuracy_scores')\n",
    "sb.barplot(algorithms,scores)\n"
   ]
  },
  {
   "cell_type": "code",
   "execution_count": null,
   "metadata": {},
   "outputs": [],
   "source": []
  },
  {
   "cell_type": "code",
   "execution_count": null,
   "metadata": {},
   "outputs": [],
   "source": []
  },
  {
   "cell_type": "code",
   "execution_count": null,
   "metadata": {},
   "outputs": [],
   "source": []
  }
 ],
 "metadata": {
  "kernelspec": {
   "display_name": "Python 3",
   "language": "python",
   "name": "python3"
  },
  "language_info": {
   "codemirror_mode": {
    "name": "ipython",
    "version": 3
   },
   "file_extension": ".py",
   "mimetype": "text/x-python",
   "name": "python",
   "nbconvert_exporter": "python",
   "pygments_lexer": "ipython3",
   "version": "3.7.6"
  }
 },
 "nbformat": 4,
 "nbformat_minor": 4
}
